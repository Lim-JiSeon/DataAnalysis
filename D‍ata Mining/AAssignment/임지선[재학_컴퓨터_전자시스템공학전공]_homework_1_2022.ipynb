{
  "cells": [
    {
      "cell_type": "markdown",
      "metadata": {
        "id": "view-in-github",
        "colab_type": "text"
      },
      "source": [
        "<a href=\"https://colab.research.google.com/github/Lim-JiSeon/DataAnalysis/blob/main/%E2%80%8D%EC%9E%84%EC%A7%80%EC%84%A0%5B%EC%9E%AC%ED%95%99_%EC%BB%B4%ED%93%A8%ED%84%B0_%EC%A0%84%EC%9E%90%EC%8B%9C%EC%8A%A4%ED%85%9C%EA%B3%B5%ED%95%99%EC%A0%84%EA%B3%B5%5D_homework_1_2022.ipynb\" target=\"_parent\"><img src=\"https://colab.research.google.com/assets/colab-badge.svg\" alt=\"Open In Colab\"/></a>"
      ]
    },
    {
      "cell_type": "markdown",
      "metadata": {
        "id": "gq8lfVXbjaUB"
      },
      "source": [
        "# Homework 1. Frequent itemset"
      ]
    },
    {
      "cell_type": "markdown",
      "metadata": {
        "id": "hPgz5M2mjaUF"
      },
      "source": [
        "***Double Click here to edit this cell***\n",
        "\n",
        "- Name: 임지선\n",
        "- Student ID: 202002937\n",
        "- Submission date: 2022.03.22"
      ]
    },
    {
      "cell_type": "markdown",
      "metadata": {
        "id": "HY2r4pDwjaUF"
      },
      "source": [
        "*Remark. Do not import numpy, pandas, sklearn, or any module implementing the solution directly*"
      ]
    },
    {
      "cell_type": "markdown",
      "metadata": {
        "id": "sIkQ7YbzjaUG"
      },
      "source": [
        "## Frequent itemset\n",
        "- ***Support*** is an indication of how frequently the itemset $X$ appears in the dataset $T$.\n",
        "- The support of X with respect to T is defined as the proportion of transactions t in the dataset which contains the itemset X.\n",
        "\n",
        "$$\n",
        "{\\displaystyle \\mathrm {supp} (X)={\\frac {|\\{t\\in T;X\\subseteq t\\}|}{|T|}}} \n",
        "$$\n",
        "\n",
        "- Frequent itemset is an itemset whose support $\\ge$ ***min_sup***."
      ]
    },
    {
      "cell_type": "markdown",
      "metadata": {
        "id": "WOBMSbVUjaUG"
      },
      "source": [
        "## Data set\n",
        "\n",
        "- Each line in the following can be imagined as a market basket, which contains items you buy."
      ]
    },
    {
      "cell_type": "code",
      "execution_count": null,
      "metadata": {
        "id": "1kDC7tv2jaUH"
      },
      "outputs": [],
      "source": [
        "# DO NOT EDIT THIS CELL\n",
        "data_str = 'apple,beer,rice,chicken\\n'\n",
        "data_str += 'apple,beer,rice\\n'\n",
        "data_str += 'apple,beer\\n'\n",
        "data_str += 'apple,mango\\n'\n",
        "data_str += 'milk,beer,rice,chicken\\n'\n",
        "data_str += 'milk,beer,rice\\n'\n",
        "data_str += 'milk,beer\\n'\n",
        "data_str += 'milk,mango'"
      ]
    },
    {
      "cell_type": "markdown",
      "metadata": {
        "id": "vEXk2Qg_jaUI"
      },
      "source": [
        "## Problem 1 (2 pts)\n",
        "\n",
        "- Define a function ***record_gen*** generating a list of items each ***next***.\n",
        "- It must be a generator.\n",
        "- Use ***yield*** instead of ***return***"
      ]
    },
    {
      "cell_type": "code",
      "execution_count": null,
      "metadata": {
        "hide_input": false,
        "id": "fP5gm_xMjaUI"
      },
      "outputs": [],
      "source": [
        "# YOUR CODE MUST BE HERE\n",
        "\n",
        "\n",
        "\n"
      ]
    },
    {
      "cell_type": "code",
      "execution_count": null,
      "metadata": {
        "id": "GzezovKXjaUJ"
      },
      "outputs": [],
      "source": [
        "# DO NOT EDIT THIS CELL\n",
        "test = gen_record(data_str)\n",
        "print(sorted(next(test)))"
      ]
    },
    {
      "cell_type": "markdown",
      "metadata": {
        "id": "BvR2DwCMjaUJ"
      },
      "source": [
        "**Your output must be:**\n",
        "```\n",
        "['apple', 'beer', 'chicken', 'rice']\n",
        "```"
      ]
    },
    {
      "cell_type": "code",
      "execution_count": null,
      "metadata": {
        "id": "aZWuvXKGjaUK"
      },
      "outputs": [],
      "source": [
        "# DO NOT EDIT THIS CELL\n",
        "print(sorted(next(test)))"
      ]
    },
    {
      "cell_type": "markdown",
      "metadata": {
        "id": "dJsQhHGEjaUK"
      },
      "source": [
        "**Your output must be:**\n",
        "```\n",
        "['apple', 'beer', 'rice']\n",
        "```"
      ]
    },
    {
      "cell_type": "markdown",
      "metadata": {
        "id": "-vSUwC_HjaUK"
      },
      "source": [
        "## Problem 2 (10 pts)\n",
        "\n",
        "- Define a function ***gen_frequent_1_itemset*** generating 1-itemset.\n",
        "- It must be a generator.\n",
        "- We want to find frequent 1-itemset (itemset containing only 1 item)\n",
        "- Use \"set, reduce, map\" at least once"
      ]
    },
    {
      "cell_type": "code",
      "execution_count": null,
      "metadata": {
        "id": "Va7pSfZdjaUL"
      },
      "outputs": [],
      "source": [
        "# YOUR CODE MUST BE HERE\n",
        "from functools import reduce\n",
        "\n",
        "\n",
        "\n",
        "\n",
        "\n",
        "\n",
        "\n",
        "\n"
      ]
    },
    {
      "cell_type": "code",
      "execution_count": null,
      "metadata": {
        "id": "kBaQtMP4jaUL"
      },
      "outputs": [],
      "source": [
        "# DO NOT EDIT THIS CELL\n",
        "dataset = list(gen_record(data_str))\n",
        "print(sorted(list(gen_frequent_1_itemset(dataset, 0.5))))"
      ]
    },
    {
      "cell_type": "markdown",
      "metadata": {
        "id": "Yk_pF4gPjaUL"
      },
      "source": [
        "**Your output must be (sorted list):**\n",
        "```\n",
        "['apple', 'beer', 'milk', 'rice']\n",
        "```"
      ]
    },
    {
      "cell_type": "code",
      "execution_count": null,
      "metadata": {
        "id": "LpnDY6iRjaUL"
      },
      "outputs": [],
      "source": [
        "# DO NOT EDIT THIS CELL\n",
        "dataset = list(gen_record(data_str))\n",
        "print(sorted(list(gen_frequent_1_itemset(dataset, 0.7))))"
      ]
    },
    {
      "cell_type": "markdown",
      "metadata": {
        "id": "nThTVkxZjaUL"
      },
      "source": [
        "**Your output must be (sorted list):**\n",
        "```\n",
        "['beer']\n",
        "```"
      ]
    },
    {
      "cell_type": "code",
      "execution_count": null,
      "metadata": {
        "hide_input": false,
        "id": "sa0krzjAjaUM"
      },
      "outputs": [],
      "source": [
        "# DO NOT EDIT THIS CELL\n",
        "dataset = list(gen_record(data_str))\n",
        "print(sorted(list(gen_frequent_1_itemset(dataset, 0.2))))"
      ]
    },
    {
      "cell_type": "markdown",
      "metadata": {
        "id": "BHy9dtGhjaUM"
      },
      "source": [
        "**Your output must be (sorted list):**\n",
        "```\n",
        "['apple', 'beer', 'chicken', 'mango', 'milk', 'rice']\n",
        "```"
      ]
    },
    {
      "cell_type": "markdown",
      "metadata": {
        "id": "dboMOm6xjaUM"
      },
      "source": [
        "## Problem 3 (10 pts)\n",
        "\n",
        "- Define a function ***gen_frequent_2_itemset*** generating 2-itemset.\n",
        "- It must be a generator.\n",
        "- We want to find frequent 2-itemset (itemset containing only 2 items)\n",
        "- Use \"set, reduce, map\" at least once"
      ]
    },
    {
      "cell_type": "code",
      "execution_count": null,
      "metadata": {
        "id": "6336VVHnjaUM"
      },
      "outputs": [],
      "source": [
        "# YOUR CODE MUST BE HERE\n",
        "from functools import reduce\n",
        "\n",
        "\n",
        "\n",
        "\n",
        "\n",
        "\n",
        "\n",
        "\n",
        "\n"
      ]
    },
    {
      "cell_type": "code",
      "execution_count": null,
      "metadata": {
        "id": "32nX3bABjaUM"
      },
      "outputs": [],
      "source": [
        "# DO NOT EDIT THIS CELL\n",
        "dataset = list(gen_record(data_str))\n",
        "print(sorted(list(gen_frequent_2_itemset(dataset, 0.5))))"
      ]
    },
    {
      "cell_type": "markdown",
      "metadata": {
        "id": "vUGzxT9yjaUN"
      },
      "source": [
        "**Your output must be:**\n",
        "```\n",
        "[('beer', 'rice')]\n",
        "```"
      ]
    },
    {
      "cell_type": "code",
      "execution_count": null,
      "metadata": {
        "id": "jQ48QcJRjaUN"
      },
      "outputs": [],
      "source": [
        "# DO NOT EDIT THIS CELL\n",
        "dataset = list(gen_record(data_str))\n",
        "print(sorted(list(gen_frequent_2_itemset(dataset, 0.3))))"
      ]
    },
    {
      "cell_type": "markdown",
      "metadata": {
        "id": "34YYDgNyjaUN"
      },
      "source": [
        "**Your output must be:**\n",
        "```\n",
        "[('apple', 'beer'), ('beer', 'milk'), ('beer', 'rice')]\n",
        "```"
      ]
    },
    {
      "cell_type": "code",
      "execution_count": null,
      "metadata": {
        "id": "wpVj9R8EjaUN"
      },
      "outputs": [],
      "source": [
        "# DO NOT EDIT THIS CELL\n",
        "dataset = list(gen_record(data_str))\n",
        "print(sorted(list(gen_frequent_2_itemset(dataset, 0.2))))"
      ]
    },
    {
      "cell_type": "markdown",
      "metadata": {
        "id": "ygQQa7g9jaUN"
      },
      "source": [
        "**Your output must be:**\n",
        "```\n",
        "[('apple', 'beer'), ('apple', 'rice'), ('beer', 'chicken'), ('beer', 'milk'), ('beer', 'rice'), ('chicken', 'rice'), ('milk', 'rice')]\n",
        "```"
      ]
    },
    {
      "cell_type": "markdown",
      "metadata": {
        "id": "2lZ4Urk9jaUN"
      },
      "source": [
        "## Ethics:\n",
        "If you cheat, you will get negative of the total points.\n",
        "If the homework total is 22 and you cheat, you get -22."
      ]
    },
    {
      "cell_type": "markdown",
      "metadata": {
        "id": "wv9SKMpHjaUN"
      },
      "source": [
        "## What to submit\n",
        "\n",
        "- Run **all cells** after restarting the kernel\n",
        "- Goto \"File -> Print Preview\"\n",
        "- Print the page as pdf\n",
        "- Pdf file name must be in a form of: homework_1_홍길동_202000001.pdf\n",
        "- Submit the pdf file in google classroom\n",
        "- No late homeworks will be accepted\n",
        "- Your homework will be graded on the basis of correctness and programming skills"
      ]
    }
  ],
  "metadata": {
    "celltoolbar": "Slideshow",
    "hide_input": false,
    "kernelspec": {
      "display_name": "Python 3",
      "language": "python",
      "name": "python3"
    },
    "language_info": {
      "codemirror_mode": {
        "name": "ipython",
        "version": 3
      },
      "file_extension": ".py",
      "mimetype": "text/x-python",
      "name": "python",
      "nbconvert_exporter": "python",
      "pygments_lexer": "ipython3",
      "version": "3.7.3"
    },
    "colab": {
      "name": "‍임지선[재학 / 컴퓨터.전자시스템공학전공] - homework_1_2022.ipynb",
      "provenance": [],
      "include_colab_link": true
    }
  },
  "nbformat": 4,
  "nbformat_minor": 0
}
