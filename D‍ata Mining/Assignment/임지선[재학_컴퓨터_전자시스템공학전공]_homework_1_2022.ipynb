{
  "cells": [
    {
      "cell_type": "markdown",
      "metadata": {
        "id": "view-in-github",
        "colab_type": "text"
      },
      "source": [
        "<a href=\"https://colab.research.google.com/github/Lim-JiSeon/DataAnalysis/blob/main/D%E2%80%8Data%20Mining/Assignment/%EC%9E%84%EC%A7%80%EC%84%A0%5B%EC%9E%AC%ED%95%99_%EC%BB%B4%ED%93%A8%ED%84%B0_%EC%A0%84%EC%9E%90%EC%8B%9C%EC%8A%A4%ED%85%9C%EA%B3%B5%ED%95%99%EC%A0%84%EA%B3%B5%5D_homework_1_2022.ipynb\" target=\"_parent\"><img src=\"https://colab.research.google.com/assets/colab-badge.svg\" alt=\"Open In Colab\"/></a>"
      ]
    },
    {
      "cell_type": "markdown",
      "metadata": {
        "id": "gq8lfVXbjaUB"
      },
      "source": [
        "# Homework 1. Frequent itemset"
      ]
    },
    {
      "cell_type": "markdown",
      "metadata": {
        "id": "hPgz5M2mjaUF"
      },
      "source": [
        "***Double Click here to edit this cell***\n",
        "\n",
        "- Name: 임지선\n",
        "- Student ID: 202002937\n",
        "- Submission date: 2022.03.23"
      ]
    },
    {
      "cell_type": "markdown",
      "metadata": {
        "id": "HY2r4pDwjaUF"
      },
      "source": [
        "*Remark. Do not import numpy, pandas, sklearn, or any module implementing the solution directly*"
      ]
    },
    {
      "cell_type": "markdown",
      "metadata": {
        "id": "sIkQ7YbzjaUG"
      },
      "source": [
        "## Frequent itemset\n",
        "- ***Support*** is an indication of how frequently the itemset $X$ appears in the dataset $T$.\n",
        "- The support of X with respect to T is defined as the proportion of transactions t in the dataset which contains the itemset X.\n",
        "\n",
        "$$\n",
        "{\\displaystyle \\mathrm {supp} (X)={\\frac {|\\{t\\in T;X\\subseteq t\\}|}{|T|}}} \n",
        "$$\n",
        "\n",
        "- Frequent itemset is an itemset whose support $\\ge$ ***min_sup***."
      ]
    },
    {
      "cell_type": "markdown",
      "metadata": {
        "id": "WOBMSbVUjaUG"
      },
      "source": [
        "## Data set\n",
        "\n",
        "- Each line in the following can be imagined as a market basket, which contains items you buy."
      ]
    },
    {
      "cell_type": "code",
      "execution_count": 3,
      "metadata": {
        "id": "1kDC7tv2jaUH"
      },
      "outputs": [],
      "source": [
        "# DO NOT EDIT THIS CELL\n",
        "data_str = 'apple,beer,rice,chicken\\n'\n",
        "data_str += 'apple,beer,rice\\n'\n",
        "data_str += 'apple,beer\\n'\n",
        "data_str += 'apple,mango\\n'\n",
        "data_str += 'milk,beer,rice,chicken\\n'\n",
        "data_str += 'milk,beer,rice\\n'\n",
        "data_str += 'milk,beer\\n'\n",
        "data_str += 'milk,mango'"
      ]
    },
    {
      "cell_type": "markdown",
      "metadata": {
        "id": "vEXk2Qg_jaUI"
      },
      "source": [
        "## Problem 1 (2 pts)\n",
        "\n",
        "- Define a function ***record_gen*** generating a list of items each ***next***.\n",
        "- It must be a generator.\n",
        "- Use ***yield*** instead of ***return***"
      ]
    },
    {
      "cell_type": "code",
      "execution_count": 4,
      "metadata": {
        "hide_input": false,
        "id": "fP5gm_xMjaUI"
      },
      "outputs": [],
      "source": [
        "# YOUR CODE MUST BE HERE\n",
        "\n",
        "def gen_record(lst):\n",
        "  for l in lst.split('\\n'): # \\n을 기준으로 split\n",
        "    yield l.split(',')  # ,을 기준으로 split\n"
      ]
    },
    {
      "cell_type": "code",
      "execution_count": 5,
      "metadata": {
        "id": "GzezovKXjaUJ",
        "outputId": "793e74fe-fa2b-4d4c-f56a-acf8cd65ecd0",
        "colab": {
          "base_uri": "https://localhost:8080/"
        }
      },
      "outputs": [
        {
          "output_type": "stream",
          "name": "stdout",
          "text": [
            "['apple', 'beer', 'chicken', 'rice']\n"
          ]
        }
      ],
      "source": [
        "# DO NOT EDIT THIS CELL\n",
        "test = gen_record(data_str)\n",
        "print(sorted(next(test)))"
      ]
    },
    {
      "cell_type": "markdown",
      "metadata": {
        "id": "BvR2DwCMjaUJ"
      },
      "source": [
        "**Your output must be:**\n",
        "```\n",
        "['apple', 'beer', 'chicken', 'rice']\n",
        "```"
      ]
    },
    {
      "cell_type": "code",
      "execution_count": 6,
      "metadata": {
        "id": "aZWuvXKGjaUK",
        "outputId": "43388e79-2eb2-40c3-b402-79b8da6d21b1",
        "colab": {
          "base_uri": "https://localhost:8080/"
        }
      },
      "outputs": [
        {
          "output_type": "stream",
          "name": "stdout",
          "text": [
            "['apple', 'beer', 'rice']\n"
          ]
        }
      ],
      "source": [
        "# DO NOT EDIT THIS CELL\n",
        "print(sorted(next(test)))"
      ]
    },
    {
      "cell_type": "markdown",
      "metadata": {
        "id": "dJsQhHGEjaUK"
      },
      "source": [
        "**Your output must be:**\n",
        "```\n",
        "['apple', 'beer', 'rice']\n",
        "```"
      ]
    },
    {
      "cell_type": "markdown",
      "metadata": {
        "id": "-vSUwC_HjaUK"
      },
      "source": [
        "## Problem 2 (10 pts)\n",
        "\n",
        "- Define a function ***gen_frequent_1_itemset*** generating 1-itemset.\n",
        "- It must be a generator.\n",
        "- We want to find frequent 1-itemset (itemset containing only 1 item)\n",
        "- Use \"set, reduce, map\" at least once"
      ]
    },
    {
      "cell_type": "code",
      "execution_count": 7,
      "metadata": {
        "id": "Va7pSfZdjaUL"
      },
      "outputs": [],
      "source": [
        "# YOUR CODE MUST BE HERE\n",
        "from functools import reduce\n",
        "\n",
        "def gen_frequent_1_itemset(lst, fq):                                          \n",
        "  total_count = len(lst)                                                      # 원소들의 종류가 총 몇개인지 저장\n",
        "  lst = [elem for line in lst for elem in line]                               # 이차원 리스트를 일차원 리스트로 바꾸기\n",
        "  kinds = reduce(lambda typ, cur: typ if cur in typ else typ+[cur], lst,[])   # 중복값 제거 -> reduce 사용(set 사용해도 무방)                                                    \n",
        "  count = list(lst.count(k) for k in kinds)                                   # 각 원소마다 리스트 안에 몇 개 있는지 그 개수를 저장\n",
        "  frequence = list(map(lambda x: x/total_count, count))                       # 위에서 구한 각 원소의 개수와 종류의 개수를 나눠 빈도를 구해서 저장 -> map 사용\n",
        "  result = set(k for k,f in zip(kinds, frequence) if f >= fq)                 # 빈도를 기준으로 기준점 이상이면 그 빈도의 원소값을 result에 저장 -> set 사용\n",
        "  for r in result:\n",
        "    yield r\n",
        "\n",
        "\n",
        "\n",
        "\n"
      ]
    },
    {
      "cell_type": "code",
      "execution_count": 8,
      "metadata": {
        "id": "kBaQtMP4jaUL",
        "outputId": "70c01616-a4d4-4dd2-813d-3eab4c83e51c",
        "colab": {
          "base_uri": "https://localhost:8080/"
        }
      },
      "outputs": [
        {
          "output_type": "stream",
          "name": "stdout",
          "text": [
            "['apple', 'beer', 'milk', 'rice']\n"
          ]
        }
      ],
      "source": [
        "# DO NOT EDIT THIS CELL\n",
        "dataset = list(gen_record(data_str))\n",
        "print(sorted(list(gen_frequent_1_itemset(dataset, 0.5))))"
      ]
    },
    {
      "cell_type": "markdown",
      "metadata": {
        "id": "Yk_pF4gPjaUL"
      },
      "source": [
        "**Your output must be (sorted list):**\n",
        "```\n",
        "['apple', 'beer', 'milk', 'rice']\n",
        "```"
      ]
    },
    {
      "cell_type": "code",
      "execution_count": 9,
      "metadata": {
        "id": "LpnDY6iRjaUL",
        "colab": {
          "base_uri": "https://localhost:8080/"
        },
        "outputId": "d4938639-e6bc-422e-c2b4-ee01421e66ee"
      },
      "outputs": [
        {
          "output_type": "stream",
          "name": "stdout",
          "text": [
            "['beer']\n"
          ]
        }
      ],
      "source": [
        "# DO NOT EDIT THIS CELL\n",
        "dataset = list(gen_record(data_str))\n",
        "print(sorted(list(gen_frequent_1_itemset(dataset, 0.7))))"
      ]
    },
    {
      "cell_type": "markdown",
      "metadata": {
        "id": "nThTVkxZjaUL"
      },
      "source": [
        "**Your output must be (sorted list):**\n",
        "```\n",
        "['beer']\n",
        "```"
      ]
    },
    {
      "cell_type": "code",
      "execution_count": 10,
      "metadata": {
        "hide_input": false,
        "id": "sa0krzjAjaUM",
        "colab": {
          "base_uri": "https://localhost:8080/"
        },
        "outputId": "1bb3ba80-f4a9-4457-bdd9-a330f8552109"
      },
      "outputs": [
        {
          "output_type": "stream",
          "name": "stdout",
          "text": [
            "['apple', 'beer', 'chicken', 'mango', 'milk', 'rice']\n"
          ]
        }
      ],
      "source": [
        "# DO NOT EDIT THIS CELL\n",
        "dataset = list(gen_record(data_str))\n",
        "print(sorted(list(gen_frequent_1_itemset(dataset, 0.2))))"
      ]
    },
    {
      "cell_type": "markdown",
      "metadata": {
        "id": "BHy9dtGhjaUM"
      },
      "source": [
        "**Your output must be (sorted list):**\n",
        "```\n",
        "['apple', 'beer', 'chicken', 'mango', 'milk', 'rice']\n",
        "```"
      ]
    },
    {
      "cell_type": "markdown",
      "metadata": {
        "id": "dboMOm6xjaUM"
      },
      "source": [
        "## Problem 3 (10 pts)\n",
        "\n",
        "- Define a function ***gen_frequent_2_itemset*** generating 2-itemset.\n",
        "- It must be a generator.\n",
        "- We want to find frequent 2-itemset (itemset containing only 2 items)\n",
        "- Use \"set, reduce, map\" at least once"
      ]
    },
    {
      "cell_type": "code",
      "execution_count": 16,
      "metadata": {
        "id": "6336VVHnjaUM"
      },
      "outputs": [],
      "source": [
        "# YOUR CODE MUST BE HERE\n",
        "from functools import reduce\n",
        "\n",
        "def comb(lst):                                                                # combinations 구현\n",
        "    result = []                                                               # 결과를 저장할 리스트\n",
        "    for line in lst:\n",
        "        line.sort()                                                           # 출력 시 리스트의 원소도 오름차순으로 정렬되어 출력되므로 미리 sort 해줘서 넣기\n",
        "        for i in range(len(line)):                                            # 2개를 택해 넣어주기 때문에 이중 for문 \n",
        "            for j in range(i+1,len(line)):\n",
        "                result.append((line[i],line[j]))                              # tuple 형식으로 리스트에 append 해주기\n",
        "    return result\n",
        "\n",
        "def gen_frequent_2_itemset(lst,fq):\n",
        "  total_count = len(lst)                                                      # 원소들의 종류가 총 몇개인지 저장\n",
        "  lst = list(comb(lst))                                                       # 원소 2개씩 택해 tuple 형식으로 만들어 그것을 원소로 하는 일차원 리스트 만들기\n",
        "  kinds = reduce(lambda typ, cur: typ if cur in typ else typ+[cur], lst,[])   # 중복값 제거 -> reduce 사용(set 사용해도 무방)                                                    \n",
        "  count = list(lst.count(k) for k in kinds)                                   # 각 원소마다 리스트 안에 몇 개 있는지 그 개수를 저장\n",
        "  frequence = list(map(lambda x: x/total_count, count))                       # 위에서 구한 각 원소의 개수와 종류의 개수를 나눠 빈도를 구해서 저장 -> map 사용\n",
        "  result = set(k for k,f in zip(kinds, frequence) if f >= fq)                 # 빈도를 기준으로 기준점 이상이면 그 빈도의 원소값을 result에 저장 -> set 사용\n",
        "  for r in result:\n",
        "    yield r\n",
        "\n",
        "\n",
        "\n",
        "\n",
        "\n",
        "\n",
        "\n"
      ]
    },
    {
      "cell_type": "code",
      "execution_count": 17,
      "metadata": {
        "id": "32nX3bABjaUM",
        "colab": {
          "base_uri": "https://localhost:8080/"
        },
        "outputId": "3ea4300d-0d7c-4cf7-9ae5-9fdd3341a41a"
      },
      "outputs": [
        {
          "output_type": "stream",
          "name": "stdout",
          "text": [
            "[('beer', 'rice')]\n"
          ]
        }
      ],
      "source": [
        "# DO NOT EDIT THIS CELL\n",
        "dataset = list(gen_record(data_str))\n",
        "print(sorted(list(gen_frequent_2_itemset(dataset, 0.5))))"
      ]
    },
    {
      "cell_type": "markdown",
      "metadata": {
        "id": "vUGzxT9yjaUN"
      },
      "source": [
        "**Your output must be:**\n",
        "```\n",
        "[('beer', 'rice')]\n",
        "```"
      ]
    },
    {
      "cell_type": "code",
      "execution_count": 18,
      "metadata": {
        "id": "jQ48QcJRjaUN",
        "colab": {
          "base_uri": "https://localhost:8080/"
        },
        "outputId": "f1dbdddb-d206-4715-c1f5-eca39f54eb6f"
      },
      "outputs": [
        {
          "output_type": "stream",
          "name": "stdout",
          "text": [
            "[('apple', 'beer'), ('beer', 'milk'), ('beer', 'rice')]\n"
          ]
        }
      ],
      "source": [
        "# DO NOT EDIT THIS CELL\n",
        "dataset = list(gen_record(data_str))\n",
        "print(sorted(list(gen_frequent_2_itemset(dataset, 0.3))))"
      ]
    },
    {
      "cell_type": "markdown",
      "metadata": {
        "id": "34YYDgNyjaUN"
      },
      "source": [
        "**Your output must be:**\n",
        "```\n",
        "[('apple', 'beer'), ('beer', 'milk'), ('beer', 'rice')]\n",
        "```"
      ]
    },
    {
      "cell_type": "code",
      "execution_count": 19,
      "metadata": {
        "id": "wpVj9R8EjaUN",
        "colab": {
          "base_uri": "https://localhost:8080/"
        },
        "outputId": "f8d83f09-416b-4423-809c-67f125d65e1e"
      },
      "outputs": [
        {
          "output_type": "stream",
          "name": "stdout",
          "text": [
            "[('apple', 'beer'), ('apple', 'rice'), ('beer', 'chicken'), ('beer', 'milk'), ('beer', 'rice'), ('chicken', 'rice'), ('milk', 'rice')]\n"
          ]
        }
      ],
      "source": [
        "# DO NOT EDIT THIS CELL\n",
        "dataset = list(gen_record(data_str))\n",
        "print(sorted(list(gen_frequent_2_itemset(dataset, 0.2))))"
      ]
    },
    {
      "cell_type": "markdown",
      "metadata": {
        "id": "ygQQa7g9jaUN"
      },
      "source": [
        "**Your output must be:**\n",
        "```\n",
        "[('apple', 'beer'), ('apple', 'rice'), ('beer', 'chicken'), ('beer', 'milk'), ('beer', 'rice'), ('chicken', 'rice'), ('milk', 'rice')]\n",
        "```"
      ]
    },
    {
      "cell_type": "markdown",
      "metadata": {
        "id": "2lZ4Urk9jaUN"
      },
      "source": [
        "## Ethics:\n",
        "If you cheat, you will get negative of the total points.\n",
        "If the homework total is 22 and you cheat, you get -22."
      ]
    },
    {
      "cell_type": "markdown",
      "metadata": {
        "id": "wv9SKMpHjaUN"
      },
      "source": [
        "## What to submit\n",
        "\n",
        "- Run **all cells** after restarting the kernel\n",
        "- Goto \"File -> Print Preview\"\n",
        "- Print the page as pdf\n",
        "- Pdf file name must be in a form of: homework_1_홍길동_202000001.pdf\n",
        "- Submit the pdf file in google classroom\n",
        "- No late homeworks will be accepted\n",
        "- Your homework will be graded on the basis of correctness and programming skills"
      ]
    }
  ],
  "metadata": {
    "celltoolbar": "Slideshow",
    "hide_input": false,
    "kernelspec": {
      "display_name": "Python 3",
      "language": "python",
      "name": "python3"
    },
    "language_info": {
      "codemirror_mode": {
        "name": "ipython",
        "version": 3
      },
      "file_extension": ".py",
      "mimetype": "text/x-python",
      "name": "python",
      "nbconvert_exporter": "python",
      "pygments_lexer": "ipython3",
      "version": "3.7.3"
    },
    "colab": {
      "name": "‍임지선[재학 / 컴퓨터.전자시스템공학전공] - homework_1_2022.ipynb",
      "provenance": [],
      "include_colab_link": true
    }
  },
  "nbformat": 4,
  "nbformat_minor": 0
}