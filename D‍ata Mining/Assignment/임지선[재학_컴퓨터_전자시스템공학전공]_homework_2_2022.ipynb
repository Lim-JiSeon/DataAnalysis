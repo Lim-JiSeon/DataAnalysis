{
  "cells": [
    {
      "cell_type": "markdown",
      "metadata": {
        "id": "view-in-github",
        "colab_type": "text"
      },
      "source": [
        "<a href=\"https://colab.research.google.com/github/Lim-JiSeon/DataAnalysis/blob/main/D%E2%80%8Data%20Mining/Assignment/%EC%9E%84%EC%A7%80%EC%84%A0%5B%EC%9E%AC%ED%95%99_%EC%BB%B4%ED%93%A8%ED%84%B0_%EC%A0%84%EC%9E%90%EC%8B%9C%EC%8A%A4%ED%85%9C%EA%B3%B5%ED%95%99%EC%A0%84%EA%B3%B5%5D_homework_2_2022.ipynb\" target=\"_parent\"><img src=\"https://colab.research.google.com/assets/colab-badge.svg\" alt=\"Open In Colab\"/></a>"
      ]
    },
    {
      "cell_type": "markdown",
      "metadata": {
        "id": "iQ_3J5VyVIVz"
      },
      "source": [
        "# Homework 2. Numpy and matplotlib"
      ]
    },
    {
      "cell_type": "markdown",
      "metadata": {
        "id": "pcaHMJVXVIV1"
      },
      "source": [
        "***Double Click here to edit this cell***\n",
        "\n",
        "- Name: 임지선\n",
        "- Student ID: 202002937\n",
        "- Submission date: 2022.04.11"
      ]
    },
    {
      "cell_type": "markdown",
      "metadata": {
        "id": "hQ43K-qtVIV2"
      },
      "source": [
        "## Remark. If any kind of loops including for-loop, while-loops, list comprehension, and other loops are found, you get no points (0점). \n",
        "\n",
        "## Use numpy wherever it is possible. \n"
      ]
    },
    {
      "cell_type": "markdown",
      "metadata": {
        "id": "m9sMA5hHVIV2"
      },
      "source": [
        "## Total: 45 pts"
      ]
    },
    {
      "cell_type": "markdown",
      "metadata": {
        "id": "60s6rC8lVIV2"
      },
      "source": [
        "## Problem 1 (5 pts)\n",
        "\n",
        "- The centroid of a finite set of $\\displaystyle {k}$ points $\\displaystyle \\mathbf {x} _{1},\\mathbf {x} _{2},\\ldots ,\\mathbf {x} _{k}$ in $\\displaystyle \\mathbb {R} ^{n}$ is\n",
        "$$\n",
        "\\mathbf {C} ={\\frac {\\mathbf {x} _{1}+\\mathbf {x} _{2}+\\cdots +\\mathbf {x} _{k}}{k}}\n",
        "$$\n",
        "\n",
        "- This point minimizes the sum of squared Euclidean distances between itself and each point in the set.\n",
        "- Compute centroid\n",
        "- Plot dataset and centroid "
      ]
    },
    {
      "cell_type": "code",
      "execution_count": null,
      "metadata": {
        "hide_input": false,
        "id": "Wj2AUGArVIV3"
      },
      "outputs": [],
      "source": [
        "%matplotlib inline\n",
        "\n",
        "import matplotlib.pyplot as plt\n",
        "import numpy as np\n",
        "\n",
        "def plot_centroid(data):\n",
        "  plt.scatter(data[:,0],data[:,1])  # data\n",
        "  plt.scatter(data[:,0].mean(), data[:,1].mean(), c='red', marker='s')  # centroid\n",
        "    \n",
        "# YOUR CODE MUST BE HERE"
      ]
    },
    {
      "cell_type": "code",
      "execution_count": null,
      "metadata": {
        "id": "hjds3DhtVIV3",
        "colab": {
          "base_uri": "https://localhost:8080/",
          "height": 265
        },
        "outputId": "d2ec8976-5403-4514-b03e-a025282a5f82"
      },
      "outputs": [
        {
          "output_type": "display_data",
          "data": {
            "text/plain": [
              "<Figure size 432x288 with 1 Axes>"
            ],
            "image/png": "[encoded data removed]"
          },
          "metadata": {
            "needs_background": "light"
          }
        }
      ],
      "source": [
        "# DO NOT EDIT THIS CELL\n",
        "np.random.seed(0)\n",
        "data = np.random.randn(10,2)\n",
        "plot_centroid(data)"
      ]
    },
    {
      "cell_type": "markdown",
      "metadata": {
        "id": "k8V3cceTVIV4"
      },
      "source": [
        "**You output must be:**\n",
        "\n",
        "![image.png](attachment:image.png)"
      ]
    },
    {
      "cell_type": "markdown",
      "metadata": {
        "id": "DEbji4hkVIV4"
      },
      "source": [
        "## Problem 2 (10 pts)\n",
        "\n",
        "- Let $\\textstyle x_{1},x_{2},\\cdots ,x_{n}$ be a set of $\\textstyle n$ points in a space with a distance function $d$. \n",
        "- Medoid is defined as\n",
        "$$\n",
        "x_{\\text{medoid}} = \\text{argmin}_{y \\in \\{x_1, x_2, \\cdots, x_n\\}} \\sum_{i=1}^{n}d(y, x_i)\n",
        "$$\n",
        "- Compute medoid using Euclidean distance as a distance function.\n",
        "- Plot dataset and medoid\n",
        "- *Do not use sklearn, scipy or any module computing distance matrix directly*\n",
        "- Use numpy functions only"
      ]
    },
    {
      "cell_type": "code",
      "execution_count": null,
      "metadata": {
        "id": "oOFku7HyVIV5"
      },
      "outputs": [],
      "source": [
        "%matplotlib inline\n",
        "\n",
        "import matplotlib.pyplot as plt\n",
        "import numpy as np\n",
        "\n",
        "def plot_medoid(data):\n",
        "    \n",
        "# YOUR CODE MUST BE HERE"
      ]
    },
    {
      "cell_type": "code",
      "execution_count": null,
      "metadata": {
        "id": "7Hv490rhVIV5"
      },
      "outputs": [],
      "source": [
        "# DO NOT EDIT THIS CELL\n",
        "np.random.seed(0)\n",
        "data = np.random.randn(10,2)\n",
        "plot_medoid(data)"
      ]
    },
    {
      "cell_type": "markdown",
      "metadata": {
        "id": "KjJ_YhkcVIV5"
      },
      "source": [
        "**You output must be:**\n",
        "\n",
        "![image.png](attachment:image.png)"
      ]
    },
    {
      "cell_type": "markdown",
      "metadata": {
        "id": "7L1VSws9VIV6"
      },
      "source": [
        "## Sample code"
      ]
    },
    {
      "cell_type": "code",
      "execution_count": null,
      "metadata": {
        "id": "SO9VamR2VIV6",
        "outputId": "77e36433-e0cb-4fdc-eb1f-a346545a12a6"
      },
      "outputs": [
        {
          "data": {
            "image/png": "[encoded data removed]",
            "text/plain": [
              "<Figure size 432x288 with 1 Axes>"
            ]
          },
          "metadata": {
            "needs_background": "light"
          },
          "output_type": "display_data"
        }
      ],
      "source": [
        "%matplotlib inline\n",
        "\n",
        "import matplotlib.pyplot as plt\n",
        "import numpy as np\n",
        "\n",
        "def sample_code():\n",
        "    x = np.arange(10)\n",
        "    y = np.arange(10)\n",
        "    center = (0, 0)\n",
        "    radius = 10\n",
        "    plt.scatter(x, y)\n",
        "    ax = plt.gca()\n",
        "    ax.add_patch(plt.Circle(center, radius, color='r', alpha=0.2))\n",
        "    plt.axis('equal')\n",
        "    plt.show()\n",
        "    \n",
        "sample_code()"
      ]
    },
    {
      "cell_type": "markdown",
      "metadata": {
        "id": "lF-YzZV7VIV6"
      },
      "source": [
        "## Problem 3 (5 pts)\n",
        "\n",
        "- We want to draw a scatter plot using **data**\n",
        "- Plot the center using a green square symbol\n",
        "- Plot points inside **radius** from center using red dots\n",
        "- Plot points out of the **radius** from center using 'C0' colored dots\n",
        "- Draw a filled circle centered at **center** using red color and alpha=0.2"
      ]
    },
    {
      "cell_type": "code",
      "execution_count": null,
      "metadata": {
        "id": "87pfQlTxVIV7"
      },
      "outputs": [],
      "source": [
        "%matplotlib inline\n",
        "\n",
        "import matplotlib.pyplot as plt\n",
        "import numpy as np\n",
        "\n",
        "def points_within_radius(data, center, radius):\n",
        "\n",
        "# YOUR CODE MUST BE HERE"
      ]
    },
    {
      "cell_type": "code",
      "execution_count": null,
      "metadata": {
        "id": "nAawkNvuVIV7"
      },
      "outputs": [],
      "source": [
        "# DO NOT EDIT THIS CELL\n",
        "np.random.seed(1)\n",
        "data = np.random.randn(10,2)\n",
        "radius = 3.0\n",
        "center = np.random.randn(2)\n",
        "points_within_radius(data, center, radius)"
      ]
    },
    {
      "cell_type": "markdown",
      "metadata": {
        "id": "ULUYMfOGVIV7"
      },
      "source": [
        "**You output must be:**\n",
        "\n",
        "![image.png](attachment:image.png)"
      ]
    },
    {
      "cell_type": "markdown",
      "metadata": {
        "id": "qg5YlHEAVIV7"
      },
      "source": [
        "## Problem 4 (10 pts)\n",
        "\n",
        "- We want to find k nearest points from the center\n",
        "- Plot the center using a green square symbol\n",
        "- Plot k-nearest points from center using red dots\n",
        "- Plot other points using 'C0' colored dots\n",
        "- Draw a filled circle centered at **center** using red color and alpha=0.2\n",
        "- *Do not use sklearn, scipy or any module computing k-nearest points directly*\n",
        "- Use numpy functions only"
      ]
    },
    {
      "cell_type": "code",
      "execution_count": null,
      "metadata": {
        "id": "ABS3J5zjVIV7"
      },
      "outputs": [],
      "source": [
        "%matplotlib inline\n",
        "\n",
        "import matplotlib.pyplot as plt\n",
        "import numpy as np\n",
        "\n",
        "def points_k_nearest(data, center, k=1):\n",
        "    \n",
        "# YOUR CODE MUST BE HERE"
      ]
    },
    {
      "cell_type": "code",
      "execution_count": null,
      "metadata": {
        "id": "dWSUFOt_VIV8"
      },
      "outputs": [],
      "source": [
        "# DO NOT EDIT THIS CELL\n",
        "np.random.seed(1)\n",
        "data = np.random.randn(10,2)\n",
        "k = 5\n",
        "center = np.random.randn(2)\n",
        "points_k_nearest(data, center, k)"
      ]
    },
    {
      "cell_type": "markdown",
      "metadata": {
        "id": "LK4XGyAJVIV8"
      },
      "source": [
        "**You output must be:**\n",
        "\n",
        "![image.png](attachment:image.png)"
      ]
    },
    {
      "cell_type": "code",
      "execution_count": null,
      "metadata": {
        "id": "-ISjHLDJVIV8"
      },
      "outputs": [],
      "source": [
        "# DO NOT EDIT THIS CELL\n",
        "np.random.seed(1)\n",
        "data = np.array([[1.,0.],[0.,1.],[-1.,0.],[0.,-1.],[1.,1.],[1.,-1.],[-1.,1.],[-1.,-1.]])\n",
        "np.random.shuffle(data)\n",
        "k = 1\n",
        "center = np.array([0.,0.])\n",
        "points_k_nearest(data, center, k)"
      ]
    },
    {
      "cell_type": "markdown",
      "metadata": {
        "id": "LgQ_lId2VIV8"
      },
      "source": [
        "**You output must be:**\n",
        "\n",
        "![image.png](attachment:image.png)"
      ]
    },
    {
      "cell_type": "markdown",
      "metadata": {
        "id": "6dvyEI7hVIV8"
      },
      "source": [
        "## Problem 5 (15 pts)\n",
        "\n",
        "- **find_k_nearest_index** returns the index of the k-nearest\n",
        "- We want to time the execution\n",
        "- *Do not use sklearn, scipy or any module computing k-nearest points directly*\n",
        "- Use numpy functions only\n",
        "- Points: \n",
        "    - when mean time $\\le$ 5s: 15 pts\n",
        "    - when mean time $\\gt$ 5s and $\\le$ 10s: 10 pts\n",
        "    - when mean time $\\gt$ 10s: 5 pts"
      ]
    },
    {
      "cell_type": "code",
      "execution_count": null,
      "metadata": {
        "id": "NU8-IM_8VIV8"
      },
      "outputs": [],
      "source": [
        "import numpy as np\n",
        "\n",
        "def find_k_nearest_index(data, center, k=1):\n",
        "\n",
        "# YOUR CODE MUST BE HERE"
      ]
    },
    {
      "cell_type": "code",
      "execution_count": null,
      "metadata": {
        "id": "p2vXLltxVIV8"
      },
      "outputs": [],
      "source": [
        "# DO NOT EDIT THIS CELL\n",
        "\n",
        "np.random.seed(0)\n",
        "data = np.array([[1.,0.],[0.,1.],[-1.,0.],[0.,-1.],[1.,1.],[1.,-1.],[-1.,1.],[-1.,-1.]])\n",
        "np.random.shuffle(data)\n",
        "k = 1\n",
        "center = np.array([0.,0.])\n",
        "print(find_k_nearest_index(data, center, k))"
      ]
    },
    {
      "cell_type": "markdown",
      "metadata": {
        "id": "SIreSS8KVIV9"
      },
      "source": [
        "**You output must be:**\n",
        "```\n",
        "[1 2 4 5]\n",
        "```"
      ]
    },
    {
      "cell_type": "code",
      "execution_count": null,
      "metadata": {
        "id": "ocrZZGMZVIV9"
      },
      "outputs": [],
      "source": [
        "# DO NOT EDIT THIS CELL\n",
        "\n",
        "np.random.seed(100)\n",
        "data = np.random.randn(10000000,20)   # 10 million data\n",
        "k = 5\n",
        "center = np.random.randn(20)\n",
        "print(find_k_nearest_index(data, center, k))\n",
        "%timeit find_k_nearest_index(data, center, k)"
      ]
    },
    {
      "cell_type": "markdown",
      "metadata": {
        "id": "uyAiAhTFVIV9"
      },
      "source": [
        "**You output must be:**\n",
        "```\n",
        "[1664998 3042821 3307688 3848441 5351099]\n",
        "```\n",
        "**Your time must be around:**\n",
        "```\n",
        "1.99 s ± 113 ms per loop (mean ± std. dev. of 7 runs, 1 loop each)\n",
        "```\n",
        "\n",
        "**If your computer is in poor spec, don't buy new one.**\n",
        "\n",
        "**Use google colab! In google colab, I got 1.2s. Google colab outperforms my i5-16GB laptop.**\n",
        "```\n",
        "1 loop, best of 5: 1.2 s per loop\n",
        "```"
      ]
    },
    {
      "cell_type": "markdown",
      "metadata": {
        "id": "dxP4yGBqVIV9"
      },
      "source": [
        "## Ethics:\n",
        "If you cheat, you will get negatgive of the total points.\n",
        "If the homework total is 22 and you cheat, you get -22."
      ]
    },
    {
      "cell_type": "markdown",
      "metadata": {
        "id": "IiguR_haVIV9"
      },
      "source": [
        "## What to submit\n",
        "\n",
        "- Run **all cells** after restarting the kernel\n",
        "- Goto \"File -> Print Preview\"\n",
        "- Print the page as pdf\n",
        "- Pdf file name must be in a form of: homework_2_홍길동_202000001.pdf\n",
        "- Submit the pdf file in google classroom\n",
        "- No late homeworks will be accepted\n",
        "- Your homework will be graded on the basis of correctness and programming skills"
      ]
    }
  ],
  "metadata": {
    "hide_input": false,
    "kernelspec": {
      "display_name": "Python 3",
      "language": "python",
      "name": "python3"
    },
    "language_info": {
      "codemirror_mode": {
        "name": "ipython",
        "version": 3
      },
      "file_extension": ".py",
      "mimetype": "text/x-python",
      "name": "python",
      "nbconvert_exporter": "python",
      "pygments_lexer": "ipython3",
      "version": "3.8.8"
    },
    "colab": {
      "name": "‍임지선[재학 / 컴퓨터.전자시스템공학전공] - homework_2_2022.ipynb",
      "provenance": [],
      "collapsed_sections": [],
      "include_colab_link": true
    }
  },
  "nbformat": 4,
  "nbformat_minor": 0
}
