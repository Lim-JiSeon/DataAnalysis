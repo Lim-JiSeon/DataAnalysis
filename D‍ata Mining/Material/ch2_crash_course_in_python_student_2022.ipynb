{
 "cells": [
  {
   "cell_type": "markdown",
   "metadata": {
    "id": "q24s5o4hNPb4"
   },
   "source": [
    "# A Crash Course in Python"
   ]
  },
  {
   "cell_type": "markdown",
   "metadata": {
    "id": "MbOc0-yKNPb8"
   },
   "source": [
    "## The Basics"
   ]
  },
  {
   "cell_type": "markdown",
   "metadata": {
    "id": "Kw3B4uDZNPb9"
   },
   "source": [
    "### Whitespace Formatting\n",
    "Many languages use curly braces to delimit blocks of code. Python uses **indentation**:"
   ]
  },
  {
   "cell_type": "code",
   "execution_count": 1,
   "metadata": {
    "id": "8A2OzAUYNPb-"
   },
   "outputs": [
    {
     "name": "stdout",
     "output_type": "stream",
     "text": [
      "1\n",
      "1\n",
      "2\n",
      "2\n",
      "3\n",
      "3\n",
      "4\n",
      "4\n",
      "5\n",
      "5\n",
      "6\n",
      "1\n",
      "2\n",
      "1\n",
      "3\n",
      "2\n",
      "4\n",
      "3\n",
      "5\n",
      "4\n",
      "6\n",
      "5\n",
      "7\n",
      "2\n",
      "3\n",
      "1\n",
      "4\n",
      "2\n",
      "5\n",
      "3\n",
      "6\n",
      "4\n",
      "7\n",
      "5\n",
      "8\n",
      "3\n",
      "4\n",
      "1\n",
      "5\n",
      "2\n",
      "6\n",
      "3\n",
      "7\n",
      "4\n",
      "8\n",
      "5\n",
      "9\n",
      "4\n",
      "5\n",
      "1\n",
      "6\n",
      "2\n",
      "7\n",
      "3\n",
      "8\n",
      "4\n",
      "9\n",
      "5\n",
      "10\n",
      "5\n",
      "done looping\n"
     ]
    }
   ],
   "source": [
    "# use indentation\n",
    "for i in [1, 2, 3, 4, 5]:\n",
    "    print(i)\n",
    "    for j in [1, 2, 3, 4, 5]:\n",
    "        print(j)\n",
    "        print(i + j)\n",
    "    print(i)\n",
    "print(\"done looping\")"
   ]
  },
  {
   "cell_type": "markdown",
   "metadata": {
    "id": "KVxb1KZSNPb_"
   },
   "source": [
    "Whitespace is **ignored** inside parentheses and brackets"
   ]
  },
  {
   "cell_type": "code",
   "execution_count": 2,
   "metadata": {
    "id": "QEaSPZcoNPcA"
   },
   "outputs": [],
   "source": [
    "# 괄호 이용 -> 여러 줄로 쓸 수 있음\n",
    "long_winded_computation = (1 + 2 + 3 + 4 + 5 + 6 + 7 + 8 + 9 + 10 + 11 + 12 +\n",
    "                           13 + 14 + 15 + 16 + 17 + 18 + 19 + 20)"
   ]
  },
  {
   "cell_type": "markdown",
   "metadata": {
    "id": "YNWVGJG3NPcA"
   },
   "source": [
    "for making code easier to read"
   ]
  },
  {
   "cell_type": "code",
   "execution_count": 3,
   "metadata": {
    "id": "2_Dehs_MNPcB"
   },
   "outputs": [],
   "source": [
    "# 가독성있게 코드 작성\n",
    "list_of_lists = [[1, 2, 3], [4, 5, 6], [7, 8, 9]] # 가독성 x\n",
    "easier_to_read_list_of_lists = [ [1, 2, 3],       # 가독성 o -> 2D Array\n",
    "                                 [4, 5, 6],\n",
    "                                 [7, 8, 9] ]"
   ]
  },
  {
   "cell_type": "markdown",
   "metadata": {
    "id": "r8Ldl1RwNPcB"
   },
   "source": [
    "Use a **backslash** to indicate that a statement continues onto the next line"
   ]
  },
  {
   "cell_type": "code",
   "execution_count": 4,
   "metadata": {
    "id": "eyxgRg7CNPcC"
   },
   "outputs": [],
   "source": [
    "# \\ 사용해서 next line 표시 가능\n",
    "two_plus_three = 2 + \\\n",
    "                 3\n",
    "#print(two_plus_three)"
   ]
  },
  {
   "cell_type": "markdown",
   "metadata": {
    "id": "sWnXhszCNPcC"
   },
   "source": [
    "### Modules"
   ]
  },
  {
   "cell_type": "markdown",
   "metadata": {
    "id": "pF8IyThENPcD"
   },
   "source": [
    "**Import** the modules that contain features\n",
    "- import regular expression module: re is the module containing functions and constants for working with regular\n",
    "expressions."
   ]
  },
  {
   "cell_type": "code",
   "execution_count": 5,
   "metadata": {
    "id": "vuFE8PgpNPcD"
   },
   "outputs": [],
   "source": [
    "import re # re -> regular expression : string에 대한 패턴을 정리한 라이브러리\n",
    "my_regex = re.compile(\"[0-9]+\", re.I)\n"
   ]
  },
  {
   "cell_type": "markdown",
   "metadata": {
    "id": "z7aStJhqNPcD"
   },
   "source": [
    "You may use an **alias**"
   ]
  },
  {
   "cell_type": "code",
   "execution_count": 6,
   "metadata": {
    "id": "uYSNOXABNPcE"
   },
   "outputs": [],
   "source": [
    "import re as regex # 이름을 바꿔주고 싶다면 as 이용\n",
    "my_regex = regex.compile(\"[0-9]+\", regex.I)"
   ]
  },
  {
   "cell_type": "code",
   "execution_count": 7,
   "metadata": {
    "id": "9HTekoSANPcE"
   },
   "outputs": [],
   "source": [
    "import matplotlib.pyplot as plt # 차트를 그리는 라이브러리"
   ]
  },
  {
   "cell_type": "markdown",
   "metadata": {
    "id": "Z3gkov3GNPcF"
   },
   "source": [
    "You can import them explicitly and use them **without qualification**"
   ]
  },
  {
   "cell_type": "code",
   "execution_count": 8,
   "metadata": {
    "id": "dmhoItrENPcF"
   },
   "outputs": [],
   "source": [
    "from collections import defaultdict, Counter # collections로부터 defaultdict, Counter만 import해서 사용하겠다는 의미\n",
    "lookup = defaultdict(int)\n",
    "my_counter = Counter()"
   ]
  },
  {
   "cell_type": "markdown",
   "metadata": {
    "id": "66HhYz3MNPcF"
   },
   "source": [
    "You could import the entire contents of a module into your\n",
    "namespace, which might inadvertently overwrite variables you’ve already defined:"
   ]
  },
  {
   "cell_type": "code",
   "execution_count": 9,
   "metadata": {
    "id": "iCyVXllJNPcG"
   },
   "outputs": [
    {
     "name": "stdout",
     "output_type": "stream",
     "text": [
      "<function match at 0x0000022677798DC0>\n"
     ]
    }
   ],
   "source": [
    "match = 10\n",
    "from re import *     # uh oh, re has a match function\n",
    "print(match)          # \"<function re.match>\" -> re안의 match라는 함수와 변수 match 이름의 충돌 발생"
   ]
  },
  {
   "cell_type": "markdown",
   "metadata": {
    "id": "7e6WDY87NPcG"
   },
   "source": [
    "### Arithmetic\n",
    "\n",
    "Remember **quotient-remainder theorem**\n",
    "\n",
    "$$n = d \\cdot q + r$$\n",
    "\n",
    "- $d$ is a divisor, $q$ is a quotient, $r$ is a remainder,\n",
    "- $0 \\leq r \\lt q$ when $q$ is positive and $q \\lt r \\leq 0$ when $q$ is negative\n",
    "\n",
    "- $n$ // $d$ = $q$\n",
    "- $n$ % $d$ = $r$"
   ]
  },
  {
   "cell_type": "code",
   "execution_count": 10,
   "metadata": {
    "id": "2l3IerNUNPcH"
   },
   "outputs": [
    {
     "name": "stdout",
     "output_type": "stream",
     "text": [
      "1024\n",
      "1.4142135623730951\n",
      "0.7071067811865476\n",
      "2.5\n",
      "2\n",
      "1\n",
      "1\n",
      "-2\n",
      "-1\n",
      "1\n",
      "-2\n",
      "2.0\n",
      "0.20000000000000018\n"
     ]
    }
   ],
   "source": [
    "# 같은 부호 나눗셈 -> 그대로 진행\n",
    "# 다른 부호 나눗셈 -> 몫 : 음수 로 해서 진행 (부호 지운뒤 계산 - 구한 몫에 마이너스 붙이기 - 한칸 뒤로 이동 = 몫)\n",
    "\n",
    "\n",
    "print(2 ** 10)       # 1024      -> 2^10\n",
    "print(2 ** 0.5)      # 1.414...  -> 2^0.5\n",
    "print(2 ** -0.5)     # 0.707...  -> 2^(-0.5)\n",
    "print(5 / 2)         # 2.5       -> 5 / 2\n",
    "print(5 % 3)         # 2         -> 5 / 3의 나머지\n",
    "print(5 // 3)        # 1         -> 5 / 3의 몫\n",
    "print((-5) % 3)      # 1         -> -5 = 3*q + r 에 의해 r = 1\n",
    "print((-5) // 3)     # -2        -> q < r <= 0에 의해 q = -2\n",
    "print(5 % (-3))      # -1        -> 5 = (-3)*q + r에 의해 r = -1\n",
    "print((-5) // (-3))  # 1         -> (-5) = (-3)*q + r에 의해 q = 1\n",
    "print((-5) % (-3))   # -2        -> (-5) = (-3)*q + r에 의해 r = -2\n",
    "print(7.2 // 3.5)    # 2.0       -> 7.2 / 3.5의 몫\n",
    "print(7.2 % 3.5)     # 0.2       -> 7.2 / 3.5의 나머지"
   ]
  },
  {
   "cell_type": "markdown",
   "metadata": {
    "id": "ab2ZOxyTNPcH"
   },
   "source": [
    "### Functions\n",
    "\n",
    "- A function is a rule for taking zero or more inputs and returning a corresponding output"
   ]
  },
  {
   "cell_type": "code",
   "execution_count": 11,
   "metadata": {
    "colab": {
     "base_uri": "https://localhost:8080/"
    },
    "id": "iNGhxEvYNPcH",
    "outputId": "b55869ce-e9e4-40eb-91a0-eef27f50d851"
   },
   "outputs": [
    {
     "data": {
      "text/plain": [
       "4"
      ]
     },
     "execution_count": 11,
     "metadata": {},
     "output_type": "execute_result"
    }
   ],
   "source": [
    "# This\n",
    "# is \n",
    "# a\n",
    "# comment\n",
    "# CTRL + / toggles comment/uncomment\n",
    "\n",
    "\n",
    "# for PEP on docstring, refer to https://www.python.org/dev/peps/pep-0257/#abstract\n",
    "def double(x): # signature -> 인자, 리턴값이 무엇인지 등 \n",
    "    \"\"\"this is where you put an optional docstring    \n",
    "    that explains what the function does.\n",
    "    for example, this function multiplies its input by 2\"\"\" # docstring : 이 함수의 기능, 역할 설명\n",
    "    return x * 2\n",
    "\n",
    "double(2)"
   ]
  },
  {
   "cell_type": "code",
   "execution_count": 12,
   "metadata": {
    "id": "zf3yaajNNPcI"
   },
   "outputs": [
    {
     "name": "stdout",
     "output_type": "stream",
     "text": [
      "Help on function double in module __main__:\n",
      "\n",
      "double(x)\n",
      "    this is where you put an optional docstring    \n",
      "    that explains what the function does.\n",
      "    for example, this function multiplies its input by 2\n",
      "\n"
     ]
    }
   ],
   "source": [
    "help(double) # signature, docstring 나옴 - shift + tab 누르면 help와 같은 기능 수행 가능"
   ]
  },
  {
   "cell_type": "markdown",
   "metadata": {
    "id": "nPbFCeBANPcI"
   },
   "source": [
    "Python functions are **first-class**, which means that we can assign them to variables and\n",
    "pass them into functions just like any other arguments:\n",
    "\n",
    "- 변수에 할당 가능\n",
    "- 함수에 인자로 전달 가능"
   ]
  },
  {
   "cell_type": "code",
   "execution_count": 13,
   "metadata": {
    "id": "hu58p4iENPcI"
   },
   "outputs": [
    {
     "name": "stdout",
     "output_type": "stream",
     "text": [
      "2\n"
     ]
    }
   ],
   "source": [
    "def apply_to_one(f):\n",
    "    \"\"\"calls the function f with 1 as its argument\"\"\"\n",
    "    return f(1)\n",
    "\n",
    "my_double = double\n",
    "x = apply_to_one(my_double)\n",
    "\n",
    "print(x)"
   ]
  },
  {
   "cell_type": "markdown",
   "metadata": {
    "id": "BlGqOvGXNPcI"
   },
   "source": [
    "**Lambda function**: short anonymous functions\n",
    "\n",
    "- 이름을 주지 않은 함수\n"
   ]
  },
  {
   "cell_type": "code",
   "execution_count": 14,
   "metadata": {
    "id": "fQxR9vyUNPcI"
   },
   "outputs": [
    {
     "name": "stdout",
     "output_type": "stream",
     "text": [
      "5\n"
     ]
    }
   ],
   "source": [
    "y = apply_to_one(lambda x: x + 4)\n",
    "\n",
    "print(y)"
   ]
  },
  {
   "cell_type": "code",
   "execution_count": 15,
   "metadata": {
    "id": "c45waE8ENPcJ"
   },
   "outputs": [],
   "source": [
    "another_double = lambda x: 2 * x\n",
    "def another_double(x): return 2 * x   # more readable"
   ]
  },
  {
   "cell_type": "code",
   "execution_count": 16,
   "metadata": {
    "id": "w6U0tC_CNPcJ"
   },
   "outputs": [
    {
     "data": {
      "text/plain": [
       "3"
      ]
     },
     "execution_count": 16,
     "metadata": {},
     "output_type": "execute_result"
    }
   ],
   "source": [
    "add = lambda x, y : x + y\n",
    "add(1,2)"
   ]
  },
  {
   "cell_type": "markdown",
   "metadata": {
    "id": "tuohpR4SNPcJ"
   },
   "source": [
    "Function parameters can also be given **default arguments**"
   ]
  },
  {
   "cell_type": "code",
   "execution_count": 17,
   "metadata": {
    "id": "VCdCGl0NNPcJ"
   },
   "outputs": [
    {
     "name": "stdout",
     "output_type": "stream",
     "text": [
      "hello\n",
      "my default message\n"
     ]
    }
   ],
   "source": [
    "def my_print(message=\"my default message\"):\n",
    "    print(message)\n",
    "    \n",
    "my_print(\"hello\")  # prints 'hello'\n",
    "my_print()         # prints 'my default message'"
   ]
  },
  {
   "cell_type": "code",
   "execution_count": 18,
   "metadata": {
    "id": "alT9nL4eNPcJ"
   },
   "outputs": [
    {
     "data": {
      "text/plain": [
       "15"
      ]
     },
     "execution_count": 18,
     "metadata": {},
     "output_type": "execute_result"
    }
   ],
   "source": [
    "def subtract(a=0, b=0):\n",
    "    return a - b\n",
    "\n",
    "subtract(10, 5) # returns 5\n",
    "subtract(0, 5)  # returns -5\n",
    "subtract(b=5)   # same as previous\n",
    "subtract(b=5, a=20)"
   ]
  },
  {
   "cell_type": "markdown",
   "metadata": {
    "id": "Ph7ezg66NPcK"
   },
   "source": [
    "### Strings\n",
    "\n",
    "- Strings can be delimited by single or double quotation marks"
   ]
  },
  {
   "cell_type": "code",
   "execution_count": 19,
   "metadata": {
    "id": "JIplPI39NPcK"
   },
   "outputs": [],
   "source": [
    "single_quoted_string = 'data science'\n",
    "double_quoted_string = \"data science\""
   ]
  },
  {
   "cell_type": "code",
   "execution_count": 20,
   "metadata": {
    "id": "LTF6RSkzNPcK"
   },
   "outputs": [
    {
     "data": {
      "text/plain": [
       "1"
      ]
     },
     "execution_count": 20,
     "metadata": {},
     "output_type": "execute_result"
    }
   ],
   "source": [
    "tab_string = \"\\t\"   # represents the tab character\n",
    "len(tab_string)     # is 1"
   ]
  },
  {
   "cell_type": "markdown",
   "metadata": {
    "id": "7S6LMSN7NPcK"
   },
   "source": [
    "multiline strings using triple-double-quotes"
   ]
  },
  {
   "cell_type": "code",
   "execution_count": 21,
   "metadata": {
    "id": "CfMXPjNuNPcL"
   },
   "outputs": [],
   "source": [
    "multi_line_string = \"\"\"This is the first line.\n",
    "and this is the second line\n",
    "and this is the third line\"\"\""
   ]
  },
  {
   "cell_type": "code",
   "execution_count": 22,
   "metadata": {
    "id": "S8MJPiDmNPcL"
   },
   "outputs": [
    {
     "name": "stdout",
     "output_type": "stream",
     "text": [
      "This is the first line.\n",
      "and this is the second line\n",
      "and this is the third line\n"
     ]
    },
    {
     "data": {
      "text/plain": [
       "'This is the first line.\\nand this is the second line\\nand this is the third line'"
      ]
     },
     "execution_count": 22,
     "metadata": {},
     "output_type": "execute_result"
    }
   ],
   "source": [
    "print(multi_line_string)\n",
    "multi_line_string"
   ]
  },
  {
   "cell_type": "markdown",
   "metadata": {
    "id": "ttib5yGnNPcL"
   },
   "source": [
    "### Exceptions\n",
    "\n",
    "- When something goes wrong, Python raises an exception."
   ]
  },
  {
   "cell_type": "code",
   "execution_count": 23,
   "metadata": {
    "id": "sE4M3LQ0NPcL"
   },
   "outputs": [
    {
     "name": "stdout",
     "output_type": "stream",
     "text": [
      "cannot divide by zero\n"
     ]
    }
   ],
   "source": [
    "try:\n",
    "    print(0 / 0)\n",
    "except ZeroDivisionError:\n",
    "    print(\"cannot divide by zero\")"
   ]
  },
  {
   "cell_type": "markdown",
   "metadata": {
    "id": "iK-uXTomNPcL"
   },
   "source": [
    "## Lists\n",
    "\n",
    "- the most fundamental data structure in Python"
   ]
  },
  {
   "cell_type": "code",
   "execution_count": 24,
   "metadata": {
    "id": "Ap0fG7HPNPcL"
   },
   "outputs": [],
   "source": [
    "# list -> array가 아닌 tree이다.\n",
    "integer_list = [1, 2, 3]\n",
    "heterogeneous_list = [\"string\", 0.1, True] # data type이 여러개 -> n-d array 아님\n",
    "list_of_lists = [ integer_list, heterogeneous_list, [] ]\n",
    "\n",
    "list_length = len(integer_list)    # equals 3\n",
    "list_sum    = sum(integer_list)    # equals 6"
   ]
  },
  {
   "cell_type": "markdown",
   "metadata": {
    "id": "OE_OU80xNPcL"
   },
   "source": [
    "You can get or set the nth element of a list with square brackets"
   ]
  },
  {
   "cell_type": "code",
   "execution_count": 25,
   "metadata": {
    "id": "ZcplBiQ3NPcM"
   },
   "outputs": [],
   "source": [
    "# 하위 리스트가 자식노드가 된다.\n",
    "\n",
    "x = list(range(10))      # is the list [0, 1, ..., 9] -> range 객체를 list화 하는 것\n",
    "zero = x[0]        # equals 0, lists are 0-indexed\n",
    "one = x[1]         # equals 1\n",
    "nine = x[-1]       # equals 9, 'Pythonic' for last   element\n",
    "eight = x[-2]      # equals 8, 'Pythonic' for next-to-last element\n",
    "x[0] = -1          # now x is [-1, 1, 2, 3, ..., 9]"
   ]
  },
  {
   "cell_type": "markdown",
   "metadata": {
    "id": "OCLkzFgwNPcM"
   },
   "source": [
    "You can also use square brackets to “slice” lists:"
   ]
  },
  {
   "cell_type": "code",
   "execution_count": 26,
   "metadata": {
    "id": "IDZPskv5NPcM"
   },
   "outputs": [],
   "source": [
    "# [n:m:s] -> s = step \n",
    "first_three = x[:3]               # [-1, 1, 2] -> 처음부터 3개 \n",
    "three_to_end = x[3:]              # [3, 4, ..., 9]\n",
    "one_to_four = x[1:5]              # [1, 2, 3, 4]\n",
    "last_three = x[-3:]               # [7, 8, 9] -> 마지막 3개\n",
    "without_first_and_last = x[1:-1]  # [1, 2, ..., 8] -> 맨 앞과 맨 뒤 값 제외 \n",
    "copy_of_x = x[:]                  # [-1, 1, 2, ..., 9]\n"
   ]
  },
  {
   "cell_type": "code",
   "execution_count": 27,
   "metadata": {
    "id": "wGfIuUg2NPcM"
   },
   "outputs": [
    {
     "name": "stdout",
     "output_type": "stream",
     "text": [
      "[-1, 2, 4, 6, 8]\n",
      "[9, 8, 7, 6, 5, 4, 3, 2, 1, -1]\n"
     ]
    }
   ],
   "source": [
    "print(x[::2])\n",
    "print(x[::-1]) # -> 반대로 range 범위 뒤에서부터 : reverse"
   ]
  },
  {
   "cell_type": "markdown",
   "metadata": {
    "id": "a-N-_ReeNPcM"
   },
   "source": [
    "**in** operator to check for list membership"
   ]
  },
  {
   "cell_type": "code",
   "execution_count": 28,
   "metadata": {
    "id": "lqs3YhmUNPcM"
   },
   "outputs": [
    {
     "data": {
      "text/plain": [
       "False"
      ]
     },
     "execution_count": 28,
     "metadata": {},
     "output_type": "execute_result"
    }
   ],
   "source": [
    "1 in [1, 2, 3]  # True\n",
    "0 in [1, 2, 3]  # False"
   ]
  },
  {
   "cell_type": "markdown",
   "metadata": {
    "id": "suv7nkypNPcN"
   },
   "source": [
    "To concatenate lists together:"
   ]
  },
  {
   "cell_type": "code",
   "execution_count": 29,
   "metadata": {
    "id": "VBij1DCcNPcN"
   },
   "outputs": [
    {
     "data": {
      "text/plain": [
       "[1, 2, 3, 4, 5, 6]"
      ]
     },
     "execution_count": 29,
     "metadata": {},
     "output_type": "execute_result"
    }
   ],
   "source": [
    "x = [1, 2, 3]\n",
    "x.extend([4, 5, 6])  # x is now [1,2,3,4,5,6] x를 확장하는 것\n",
    "x"
   ]
  },
  {
   "cell_type": "code",
   "execution_count": 30,
   "metadata": {
    "id": "9Hw61vK2NPcN"
   },
   "outputs": [],
   "source": [
    "x = [1, 2, 3]\n",
    "y = x + [4, 5, 6]  # y is [1, 2, 3, 4, 5, 6]; x is unchanged"
   ]
  },
  {
   "cell_type": "markdown",
   "metadata": {
    "id": "ow7RQQwwNPcN"
   },
   "source": [
    "To append to lists one item at a time:"
   ]
  },
  {
   "cell_type": "code",
   "execution_count": 31,
   "metadata": {
    "id": "pV72wXZzNPcN"
   },
   "outputs": [],
   "source": [
    "x = [1, 2, 3]\n",
    "x.append(0)  # x is now [1, 2, 3, 0]\n",
    "y = x[-1]    # equals 0\n",
    "z = len(x)   # equals 4\n"
   ]
  },
  {
   "cell_type": "markdown",
   "metadata": {
    "id": "zVJCAY8dNPcN"
   },
   "source": [
    "It is convenient to unpack lists:"
   ]
  },
  {
   "cell_type": "code",
   "execution_count": 32,
   "metadata": {
    "id": "iYq1sg8ONPcN"
   },
   "outputs": [],
   "source": [
    "# 변수에 리스트 안의 값을 할당하는 것 : unpack\n",
    "# 변수의 값들을 리스트 안으로 넣는 것 : pack\n",
    "x, y = [1, 2]  # now x is 1, y is 2"
   ]
  },
  {
   "cell_type": "code",
   "execution_count": 33,
   "metadata": {
    "id": "pXLDiPobNPcN"
   },
   "outputs": [
    {
     "data": {
      "text/plain": [
       "2"
      ]
     },
     "execution_count": 33,
     "metadata": {},
     "output_type": "execute_result"
    }
   ],
   "source": [
    "_, y = [1, 2] # now y == 2, didn't care about the first element\n",
    "y"
   ]
  },
  {
   "cell_type": "markdown",
   "metadata": {
    "id": "8GrvFITtNPcO"
   },
   "source": [
    "### Tuples\n",
    "\n",
    "- Tuples are lists’ **immutable** cousins.\n",
    "\n",
    "- mutate/mutable : 변할 수 있다\n",
    "- immutate/immutable : 변할 수 없다"
   ]
  },
  {
   "cell_type": "code",
   "execution_count": 34,
   "metadata": {
    "id": "i7hDyZFMNPcO"
   },
   "outputs": [
    {
     "name": "stdout",
     "output_type": "stream",
     "text": [
      "cannot modify a tuple\n"
     ]
    }
   ],
   "source": [
    "# tuple은 , 으로 구분된다. -> ()는 보기편하게 포장할 뿐 ,이 더 정확하다\n",
    "# 예시로 1, 도 tuple이다.\n",
    "my_list = [1, 2]\n",
    "my_tuple = (1, 2)\n",
    "other_tuple = 3, 4\n",
    "my_list[1] = 3   # my_list is now [1, 3] -> list = mutable\n",
    "\n",
    "try:\n",
    "    my_tuple[1] = 3\n",
    "except TypeError:\n",
    "    print(\"cannot modify a tuple\") # tuple = immutable"
   ]
  },
  {
   "cell_type": "markdown",
   "metadata": {
    "id": "_jOP6m1QNPcO"
   },
   "source": [
    "Tuples are a convenient way to **return multiple values** from functions:"
   ]
  },
  {
   "cell_type": "code",
   "execution_count": 35,
   "metadata": {
    "id": "suycNfx8NPcP"
   },
   "outputs": [],
   "source": [
    "def sum_and_product(x, y):\n",
    "    return (x + y),(x * y) # tuple 리턴\n",
    "\n",
    "sp = sum_and_product(2, 3)    # equals (5, 6)\n",
    "s, p = sum_and_product(5, 10) # s is 15, p is 50"
   ]
  },
  {
   "cell_type": "markdown",
   "metadata": {
    "id": "ZVv-IbXGNPcP"
   },
   "source": [
    "Tuples (and lists) can also be used for **multiple assignment**:"
   ]
  },
  {
   "cell_type": "code",
   "execution_count": 36,
   "metadata": {
    "id": "FcwXFHiYNPcP"
   },
   "outputs": [],
   "source": [
    "x, y = 1, 2   # now x is 1, y is 2\n",
    "x, y = y, x   # Pythonic way to swap variables; now x is 2, y is 1\n"
   ]
  },
  {
   "cell_type": "markdown",
   "metadata": {
    "id": "LtqfCDtONPcQ"
   },
   "source": [
    "Python tuple\n",
    "\n",
    "https://wiki.python.org/moin/TupleSyntax\n",
    "\n",
    "Python tuple is defined by trailing comma, not by parenthesis\n",
    "1,\n",
    "1,2,\n",
    "1,2,3,\n",
    "parenthesis is optional"
   ]
  },
  {
   "cell_type": "markdown",
   "metadata": {
    "id": "yH8VwndJNPcQ"
   },
   "source": [
    "### Dictionaries\n",
    "\n",
    "- Another fundamental data structure which associates **values with keys**\n",
    "- It allows you to quickly retrieve the value corresponding to a given key:"
   ]
  },
  {
   "cell_type": "code",
   "execution_count": 37,
   "metadata": {
    "id": "cm6dY2JZNPcQ"
   },
   "outputs": [],
   "source": [
    "empty_dict = {}                      # Pythonic\n",
    "empty_dict2 = dict()                 # less Pythonic\n",
    "grades = { \"Joel\" : 80, \"Tim\" : 95 } # dictionary literal"
   ]
  },
  {
   "cell_type": "markdown",
   "metadata": {
    "id": "lxJaoGydNPcQ"
   },
   "source": [
    "You can look up the value for a **key using square brackets**:"
   ]
  },
  {
   "cell_type": "code",
   "execution_count": 38,
   "metadata": {
    "id": "DBMas9sENPcQ"
   },
   "outputs": [],
   "source": [
    "joels_grade = grades[\"Joel\"]         # equals 80"
   ]
  },
  {
   "cell_type": "code",
   "execution_count": 39,
   "metadata": {
    "id": "2BN2uHeRNPcQ"
   },
   "outputs": [
    {
     "data": {
      "text/plain": [
       "{'Joel': 80, 'Tim': 94}"
      ]
     },
     "execution_count": 39,
     "metadata": {},
     "output_type": "execute_result"
    }
   ],
   "source": [
    "grades = { \"Joel\" : 80, \"Tim\" : 95, \"Tim\" : 94 } # dictionary literal\n",
    "grades"
   ]
  },
  {
   "cell_type": "code",
   "execution_count": 40,
   "metadata": {
    "id": "d7iFZ1jFNPcR"
   },
   "outputs": [
    {
     "data": {
      "text/plain": [
       "2"
      ]
     },
     "execution_count": 40,
     "metadata": {},
     "output_type": "execute_result"
    }
   ],
   "source": [
    "len(grades)"
   ]
  },
  {
   "cell_type": "code",
   "execution_count": 41,
   "metadata": {
    "id": "3bUDzdDaNPcR"
   },
   "outputs": [
    {
     "data": {
      "text/plain": [
       "dict_keys(['Joel', 'Tim'])"
      ]
     },
     "execution_count": 41,
     "metadata": {},
     "output_type": "execute_result"
    }
   ],
   "source": [
    "grades.keys()"
   ]
  },
  {
   "cell_type": "code",
   "execution_count": 42,
   "metadata": {
    "id": "-K4eBYzsNPcR"
   },
   "outputs": [
    {
     "data": {
      "text/plain": [
       "dict_values([80, 94])"
      ]
     },
     "execution_count": 42,
     "metadata": {},
     "output_type": "execute_result"
    }
   ],
   "source": [
    "grades.values()"
   ]
  },
  {
   "cell_type": "code",
   "execution_count": 43,
   "metadata": {
    "id": "0cxSbf_hNPcR"
   },
   "outputs": [
    {
     "data": {
      "text/plain": [
       "94"
      ]
     },
     "execution_count": 43,
     "metadata": {},
     "output_type": "execute_result"
    }
   ],
   "source": [
    "grades[\"Tim\"]"
   ]
  },
  {
   "cell_type": "markdown",
   "metadata": {
    "id": "2odDRXqcNPcS"
   },
   "source": [
    "**KeyError** if you ask for a key that’s not in the dictionary:"
   ]
  },
  {
   "cell_type": "code",
   "execution_count": 44,
   "metadata": {
    "id": "4pZ17YtVNPcS"
   },
   "outputs": [
    {
     "name": "stdout",
     "output_type": "stream",
     "text": [
      "no grade for Kate!\n"
     ]
    }
   ],
   "source": [
    "# 비추\n",
    "try:\n",
    "    kates_grade = grades[\"Kate\"]\n",
    "except KeyError:\n",
    "    print(\"no grade for Kate!\")"
   ]
  },
  {
   "cell_type": "markdown",
   "metadata": {
    "id": "n3t6xXc5NPcS"
   },
   "source": [
    "You can **check for the existence of a key** using in :"
   ]
  },
  {
   "cell_type": "code",
   "execution_count": 45,
   "metadata": {
    "id": "wX8pG-oBNPcS"
   },
   "outputs": [],
   "source": [
    "joel_has_grade = \"Joel\" in grades    # True\n",
    "kate_has_grade = \"Kate\" in grades    # False"
   ]
  },
  {
   "cell_type": "markdown",
   "metadata": {
    "id": "ggGnixIINPcS"
   },
   "source": [
    "Dictionaries have a get method that returns a default value (**instead of raising an\n",
    "exception**) when you look up a key that’s not in the dictionary:"
   ]
  },
  {
   "cell_type": "code",
   "execution_count": 46,
   "metadata": {
    "id": "L7rSpQkeNPcT"
   },
   "outputs": [
    {
     "data": {
      "text/plain": [
       "True"
      ]
     },
     "execution_count": 46,
     "metadata": {},
     "output_type": "execute_result"
    }
   ],
   "source": [
    "#  get(key,0) = keyError -> 0 리턴\n",
    "joels_grade = grades.get(\"Joel\", 0)    # equals 80\n",
    "kates_grade = grades.get(\"Kate\", 0)    # equals 0\n",
    "no_ones_grade = grades.get(\"No One\")   # default default is None : default값 안 주면 None리턴\n",
    "no_ones_grade == None"
   ]
  },
  {
   "cell_type": "markdown",
   "metadata": {
    "id": "uJn2xcbxNPcT"
   },
   "source": [
    "You assign key-value pairs using the same square brackets:"
   ]
  },
  {
   "cell_type": "code",
   "execution_count": 47,
   "metadata": {
    "id": "dc3KOLjpNPcT"
   },
   "outputs": [
    {
     "data": {
      "text/plain": [
       "{'Joel': 80, 'Tim': 99, 'Kate': 100}"
      ]
     },
     "execution_count": 47,
     "metadata": {},
     "output_type": "execute_result"
    }
   ],
   "source": [
    "grades[\"Tim\"] = 99          # replaces the old value\n",
    "grades[\"Kate\"] = 100        # adds a third entry\n",
    "num_students = len(grades)  # equals 3\n",
    "grades"
   ]
  },
  {
   "cell_type": "markdown",
   "metadata": {
    "id": "1t392bZ-NPcT"
   },
   "source": [
    "We will frequently use dictionaries as a simple way to represent **structured data**:"
   ]
  },
  {
   "cell_type": "code",
   "execution_count": 48,
   "metadata": {
    "id": "o-0PJpqFNPcT"
   },
   "outputs": [],
   "source": [
    "tweet = {\n",
    "    \"user\" : \"joelgrus\",\n",
    "    \"text\" : \"Data Science is Awesome\",\n",
    "    \"retweet_count\" : 100,\n",
    "    \"hashtags\" : [\"#data\", \"#science\", \"#datascience\", \"#awesome\", \"#yolo\"]\n",
    "}"
   ]
  },
  {
   "cell_type": "markdown",
   "metadata": {
    "id": "GpghenCsNPcT"
   },
   "source": [
    "**Iteration**: we can look at all of them"
   ]
  },
  {
   "cell_type": "code",
   "execution_count": 49,
   "metadata": {
    "id": "1Od5mBF7NPcT"
   },
   "outputs": [
    {
     "data": {
      "text/plain": [
       "True"
      ]
     },
     "execution_count": 49,
     "metadata": {},
     "output_type": "execute_result"
    }
   ],
   "source": [
    "tweet_keys   = tweet.keys()     # list of keys\n",
    "tweet_values = tweet.values()   # list of values\n",
    "tweet_items  = tweet.items()    # list of (key, value) tuples\n",
    "\n",
    "\"user\" in tweet_keys            # True, but uses a slow list in\n",
    "\"user\" in tweet                 # more Pythonic, uses faster dict in\n",
    "\n",
    "\"joelgrus\" in tweet_values      # True"
   ]
  },
  {
   "cell_type": "code",
   "execution_count": 50,
   "metadata": {
    "id": "xCUJm80SNPcU"
   },
   "outputs": [
    {
     "data": {
      "text/plain": [
       "dict_values(['joelgrus', 'Data Science is Awesome', 100, ['#data', '#science', '#datascience', '#awesome', '#yolo']])"
      ]
     },
     "execution_count": 50,
     "metadata": {},
     "output_type": "execute_result"
    }
   ],
   "source": [
    "tweet_values"
   ]
  },
  {
   "cell_type": "markdown",
   "metadata": {
    "id": "xnQiUlsuNPcU"
   },
   "source": [
    "**WordCount Example**: Create a dictionary in which the keys are words and the values are counts."
   ]
  },
  {
   "cell_type": "code",
   "execution_count": 51,
   "metadata": {
    "id": "o-ZV9uCXNPcU"
   },
   "outputs": [],
   "source": [
    "document = ['I', 'am', 'a', 'boy', 'I', 'love', 'you']"
   ]
  },
  {
   "cell_type": "markdown",
   "metadata": {
    "id": "L_U_Vum1NPcU"
   },
   "source": [
    "**First Approach:**"
   ]
  },
  {
   "cell_type": "code",
   "execution_count": 52,
   "metadata": {
    "id": "Itr6X15ANPcU"
   },
   "outputs": [],
   "source": [
    "# histogram 을 표현\n",
    "# 이 방법은 비추\n",
    "word_counts = {}\n",
    "for word in document:\n",
    "    if word in word_counts:\n",
    "        word_counts[word] += 1\n",
    "    else:\n",
    "        word_counts[word] = 1"
   ]
  },
  {
   "cell_type": "markdown",
   "metadata": {
    "id": "oGHV7Un7NPcU"
   },
   "source": [
    "**Second Approach:**"
   ]
  },
  {
   "cell_type": "code",
   "execution_count": 53,
   "metadata": {
    "id": "qsLTG3mONPcU"
   },
   "outputs": [],
   "source": [
    "# 비추\n",
    "word_counts = {}\n",
    "for word in document:\n",
    "    try:\n",
    "        word_counts[word] += 1\n",
    "    except KeyError:\n",
    "        word_counts[word] = 1\n"
   ]
  },
  {
   "cell_type": "markdown",
   "metadata": {
    "id": "KtiDM-VcNPcV"
   },
   "source": [
    "**Third Approach:**"
   ]
  },
  {
   "cell_type": "code",
   "execution_count": 54,
   "metadata": {
    "id": "_SntpAthNPcV"
   },
   "outputs": [
    {
     "data": {
      "text/plain": [
       "{'I': 2, 'am': 1, 'a': 1, 'boy': 1, 'love': 1, 'you': 1}"
      ]
     },
     "execution_count": 54,
     "metadata": {},
     "output_type": "execute_result"
    }
   ],
   "source": [
    "# 추천\n",
    "word_counts = {}\n",
    "for word in document:\n",
    "    previous_count = word_counts.get(word, 0)\n",
    "    word_counts[word] = previous_count + 1\n",
    "    \n",
    "word_counts"
   ]
  },
  {
   "cell_type": "code",
   "execution_count": 55,
   "metadata": {
    "id": "gwfl8hKONPcV"
   },
   "outputs": [
    {
     "data": {
      "text/plain": [
       "{'I': 2, 'am': 1, 'a': 1, 'boy': 1, 'love': 1, 'you': 1}"
      ]
     },
     "execution_count": 55,
     "metadata": {},
     "output_type": "execute_result"
    }
   ],
   "source": [
    "word_counts"
   ]
  },
  {
   "cell_type": "markdown",
   "metadata": {
    "id": "kh7O18ecNPcV"
   },
   "source": [
    "### defaultdict\n",
    "\n",
    "- A defaultdict is like a regular dictionary, except that when you try to look up a key it doesn’t contain, it first adds a value for it using a **zero-argument function** you provided when you created it."
   ]
  },
  {
   "cell_type": "code",
   "execution_count": 56,
   "metadata": {
    "id": "WCR-hbVANPcY"
   },
   "outputs": [
    {
     "name": "stdout",
     "output_type": "stream",
     "text": [
      "defaultdict(<class 'int'>, {'I': 2, 'am': 1, 'a': 1, 'boy': 1, 'love': 1, 'you': 1})\n"
     ]
    }
   ],
   "source": [
    "from collections import defaultdict\n",
    "\n",
    "word_counts = defaultdict(int)    # int() produces 0\n",
    "#print(word_counts)\n",
    "# word_counts = defaultdict(lambda: 100)    # returns 100\n",
    "for word in document:\n",
    "    word_counts[word] += 1\n",
    "\n",
    "print(word_counts)"
   ]
  },
  {
   "cell_type": "code",
   "execution_count": 57,
   "metadata": {
    "id": "ffacHYuhNPcY"
   },
   "outputs": [
    {
     "data": {
      "text/plain": [
       "0"
      ]
     },
     "execution_count": 57,
     "metadata": {},
     "output_type": "execute_result"
    }
   ],
   "source": [
    "int() # 0 리턴 -> flout() : 0.0 리턴"
   ]
  },
  {
   "cell_type": "code",
   "execution_count": 58,
   "metadata": {
    "id": "9kCaiAF2NPcY"
   },
   "outputs": [],
   "source": [
    "dd_list = defaultdict(list)          # list() produces an empty list\n",
    "dd_list[2].append(1)                 # now dd_list contains {2: [1]} = {2:[]} -> {2:[1]}\n",
    "\n",
    "dd_dict = defaultdict(dict)          # dict() produces an empty dict\n",
    "dd_dict[\"Joel\"][\"City\"] = \"Seattle\"  # { \"Joel\" : { \"City\" : \"Seattle\"}} = {\"Joel\":{}} -> {\"Joel\":{\"City\":\"Seattle\"}}\n",
    "dd_pair = defaultdict(lambda: [0, 0])\n",
    "dd_pair[2][1] = 1                    # now dd_pair contains {2: [0,1]} = {2:[0,0]} -> {2:[0,1]}"
   ]
  },
  {
   "cell_type": "markdown",
   "metadata": {
    "id": "YtBS5X2_NPcZ"
   },
   "source": [
    "### Counter\n",
    "\n",
    "- A Counter turns a sequence of values into a defaultdict(int)-like object mapping keys to counts.\n",
    "- We will primarily use it to create **histograms**"
   ]
  },
  {
   "cell_type": "code",
   "execution_count": 59,
   "metadata": {
    "id": "d9kcrXxBNPcZ"
   },
   "outputs": [
    {
     "data": {
      "text/plain": [
       "Counter({0: 2, 1: 1, 2: 1})"
      ]
     },
     "execution_count": 59,
     "metadata": {},
     "output_type": "execute_result"
    }
   ],
   "source": [
    "from collections import Counter # Counter : frequency \n",
    "c = Counter([0, 1, 2, 0])  # c is (basically) { 0 : 2, 1 : 1, 2 : 1 }\n",
    "c"
   ]
  },
  {
   "cell_type": "code",
   "execution_count": 60,
   "metadata": {
    "id": "PMSKDpjQNPcZ"
   },
   "outputs": [
    {
     "data": {
      "text/plain": [
       "Counter({'I': 2, 'am': 1, 'a': 1, 'boy': 1, 'love': 1, 'you': 1})"
      ]
     },
     "execution_count": 60,
     "metadata": {},
     "output_type": "execute_result"
    }
   ],
   "source": [
    "word_counts = Counter(document) \n",
    "word_counts"
   ]
  },
  {
   "cell_type": "markdown",
   "metadata": {
    "id": "nEOxlhcWNPcZ"
   },
   "source": [
    "Use **help** function to see a man page"
   ]
  },
  {
   "cell_type": "code",
   "execution_count": 61,
   "metadata": {
    "id": "7OlhZe8xNPcZ"
   },
   "outputs": [
    {
     "name": "stdout",
     "output_type": "stream",
     "text": [
      "Help on Counter in module collections object:\n",
      "\n",
      "class Counter(builtins.dict)\n",
      " |  Counter(iterable=None, /, **kwds)\n",
      " |  \n",
      " |  Dict subclass for counting hashable items.  Sometimes called a bag\n",
      " |  or multiset.  Elements are stored as dictionary keys and their counts\n",
      " |  are stored as dictionary values.\n",
      " |  \n",
      " |  >>> c = Counter('abcdeabcdabcaba')  # count elements from a string\n",
      " |  \n",
      " |  >>> c.most_common(3)                # three most common elements\n",
      " |  [('a', 5), ('b', 4), ('c', 3)]\n",
      " |  >>> sorted(c)                       # list all unique elements\n",
      " |  ['a', 'b', 'c', 'd', 'e']\n",
      " |  >>> ''.join(sorted(c.elements()))   # list elements with repetitions\n",
      " |  'aaaaabbbbcccdde'\n",
      " |  >>> sum(c.values())                 # total of all counts\n",
      " |  15\n",
      " |  \n",
      " |  >>> c['a']                          # count of letter 'a'\n",
      " |  5\n",
      " |  >>> for elem in 'shazam':           # update counts from an iterable\n",
      " |  ...     c[elem] += 1                # by adding 1 to each element's count\n",
      " |  >>> c['a']                          # now there are seven 'a'\n",
      " |  7\n",
      " |  >>> del c['b']                      # remove all 'b'\n",
      " |  >>> c['b']                          # now there are zero 'b'\n",
      " |  0\n",
      " |  \n",
      " |  >>> d = Counter('simsalabim')       # make another counter\n",
      " |  >>> c.update(d)                     # add in the second counter\n",
      " |  >>> c['a']                          # now there are nine 'a'\n",
      " |  9\n",
      " |  \n",
      " |  >>> c.clear()                       # empty the counter\n",
      " |  >>> c\n",
      " |  Counter()\n",
      " |  \n",
      " |  Note:  If a count is set to zero or reduced to zero, it will remain\n",
      " |  in the counter until the entry is deleted or the counter is cleared:\n",
      " |  \n",
      " |  >>> c = Counter('aaabbc')\n",
      " |  >>> c['b'] -= 2                     # reduce the count of 'b' by two\n",
      " |  >>> c.most_common()                 # 'b' is still in, but its count is zero\n",
      " |  [('a', 3), ('c', 1), ('b', 0)]\n",
      " |  \n",
      " |  Method resolution order:\n",
      " |      Counter\n",
      " |      builtins.dict\n",
      " |      builtins.object\n",
      " |  \n",
      " |  Methods defined here:\n",
      " |  \n",
      " |  __add__(self, other)\n",
      " |      Add counts from two counters.\n",
      " |      \n",
      " |      >>> Counter('abbb') + Counter('bcc')\n",
      " |      Counter({'b': 4, 'c': 2, 'a': 1})\n",
      " |  \n",
      " |  __and__(self, other)\n",
      " |      Intersection is the minimum of corresponding counts.\n",
      " |      \n",
      " |      >>> Counter('abbb') & Counter('bcc')\n",
      " |      Counter({'b': 1})\n",
      " |  \n",
      " |  __delitem__(self, elem)\n",
      " |      Like dict.__delitem__() but does not raise KeyError for missing values.\n",
      " |  \n",
      " |  __iadd__(self, other)\n",
      " |      Inplace add from another counter, keeping only positive counts.\n",
      " |      \n",
      " |      >>> c = Counter('abbb')\n",
      " |      >>> c += Counter('bcc')\n",
      " |      >>> c\n",
      " |      Counter({'b': 4, 'c': 2, 'a': 1})\n",
      " |  \n",
      " |  __iand__(self, other)\n",
      " |      Inplace intersection is the minimum of corresponding counts.\n",
      " |      \n",
      " |      >>> c = Counter('abbb')\n",
      " |      >>> c &= Counter('bcc')\n",
      " |      >>> c\n",
      " |      Counter({'b': 1})\n",
      " |  \n",
      " |  __init__(self, iterable=None, /, **kwds)\n",
      " |      Create a new, empty Counter object.  And if given, count elements\n",
      " |      from an input iterable.  Or, initialize the count from another mapping\n",
      " |      of elements to their counts.\n",
      " |      \n",
      " |      >>> c = Counter()                           # a new, empty counter\n",
      " |      >>> c = Counter('gallahad')                 # a new counter from an iterable\n",
      " |      >>> c = Counter({'a': 4, 'b': 2})           # a new counter from a mapping\n",
      " |      >>> c = Counter(a=4, b=2)                   # a new counter from keyword args\n",
      " |  \n",
      " |  __ior__(self, other)\n",
      " |      Inplace union is the maximum of value from either counter.\n",
      " |      \n",
      " |      >>> c = Counter('abbb')\n",
      " |      >>> c |= Counter('bcc')\n",
      " |      >>> c\n",
      " |      Counter({'b': 3, 'c': 2, 'a': 1})\n",
      " |  \n",
      " |  __isub__(self, other)\n",
      " |      Inplace subtract counter, but keep only results with positive counts.\n",
      " |      \n",
      " |      >>> c = Counter('abbbc')\n",
      " |      >>> c -= Counter('bccd')\n",
      " |      >>> c\n",
      " |      Counter({'b': 2, 'a': 1})\n",
      " |  \n",
      " |  __missing__(self, key)\n",
      " |      The count of elements not in the Counter is zero.\n",
      " |  \n",
      " |  __neg__(self)\n",
      " |      Subtracts from an empty counter.  Strips positive and zero counts,\n",
      " |      and flips the sign on negative counts.\n",
      " |  \n",
      " |  __or__(self, other)\n",
      " |      Union is the maximum of value in either of the input counters.\n",
      " |      \n",
      " |      >>> Counter('abbb') | Counter('bcc')\n",
      " |      Counter({'b': 3, 'c': 2, 'a': 1})\n",
      " |  \n",
      " |  __pos__(self)\n",
      " |      Adds an empty counter, effectively stripping negative and zero counts\n",
      " |  \n",
      " |  __reduce__(self)\n",
      " |      Helper for pickle.\n",
      " |  \n",
      " |  __repr__(self)\n",
      " |      Return repr(self).\n",
      " |  \n",
      " |  __sub__(self, other)\n",
      " |      Subtract count, but keep only results with positive counts.\n",
      " |      \n",
      " |      >>> Counter('abbbc') - Counter('bccd')\n",
      " |      Counter({'b': 2, 'a': 1})\n",
      " |  \n",
      " |  copy(self)\n",
      " |      Return a shallow copy.\n",
      " |  \n",
      " |  elements(self)\n",
      " |      Iterator over elements repeating each as many times as its count.\n",
      " |      \n",
      " |      >>> c = Counter('ABCABC')\n",
      " |      >>> sorted(c.elements())\n",
      " |      ['A', 'A', 'B', 'B', 'C', 'C']\n",
      " |      \n",
      " |      # Knuth's example for prime factors of 1836:  2**2 * 3**3 * 17**1\n",
      " |      >>> prime_factors = Counter({2: 2, 3: 3, 17: 1})\n",
      " |      >>> product = 1\n",
      " |      >>> for factor in prime_factors.elements():     # loop over factors\n",
      " |      ...     product *= factor                       # and multiply them\n",
      " |      >>> product\n",
      " |      1836\n",
      " |      \n",
      " |      Note, if an element's count has been set to zero or is a negative\n",
      " |      number, elements() will ignore it.\n",
      " |  \n",
      " |  most_common(self, n=None)\n",
      " |      List the n most common elements and their counts from the most\n",
      " |      common to the least.  If n is None, then list all element counts.\n",
      " |      \n",
      " |      >>> Counter('abracadabra').most_common(3)\n",
      " |      [('a', 5), ('b', 2), ('r', 2)]\n",
      " |  \n",
      " |  subtract(self, iterable=None, /, **kwds)\n",
      " |      Like dict.update() but subtracts counts instead of replacing them.\n",
      " |      Counts can be reduced below zero.  Both the inputs and outputs are\n",
      " |      allowed to contain zero and negative counts.\n",
      " |      \n",
      " |      Source can be an iterable, a dictionary, or another Counter instance.\n",
      " |      \n",
      " |      >>> c = Counter('which')\n",
      " |      >>> c.subtract('witch')             # subtract elements from another iterable\n",
      " |      >>> c.subtract(Counter('watch'))    # subtract elements from another counter\n",
      " |      >>> c['h']                          # 2 in which, minus 1 in witch, minus 1 in watch\n",
      " |      0\n",
      " |      >>> c['w']                          # 1 in which, minus 1 in witch, minus 1 in watch\n",
      " |      -1\n",
      " |  \n",
      " |  update(self, iterable=None, /, **kwds)\n",
      " |      Like dict.update() but add counts instead of replacing them.\n",
      " |      \n",
      " |      Source can be an iterable, a dictionary, or another Counter instance.\n",
      " |      \n",
      " |      >>> c = Counter('which')\n",
      " |      >>> c.update('witch')           # add elements from another iterable\n",
      " |      >>> d = Counter('watch')\n",
      " |      >>> c.update(d)                 # add elements from another counter\n",
      " |      >>> c['h']                      # four 'h' in which, witch, and watch\n",
      " |      4\n",
      " |  \n",
      " |  ----------------------------------------------------------------------\n",
      " |  Class methods defined here:\n",
      " |  \n",
      " |  fromkeys(iterable, v=None) from builtins.type\n",
      " |      Create a new dictionary with keys from iterable and values set to value.\n",
      " |  \n",
      " |  ----------------------------------------------------------------------\n",
      " |  Data descriptors defined here:\n",
      " |  \n",
      " |  __dict__\n",
      " |      dictionary for instance variables (if defined)\n",
      " |  \n",
      " |  __weakref__\n",
      " |      list of weak references to the object (if defined)\n",
      " |  \n",
      " |  ----------------------------------------------------------------------\n",
      " |  Methods inherited from builtins.dict:\n",
      " |  \n",
      " |  __contains__(self, key, /)\n",
      " |      True if the dictionary has the specified key, else False.\n",
      " |  \n",
      " |  __eq__(self, value, /)\n",
      " |      Return self==value.\n",
      " |  \n",
      " |  __ge__(self, value, /)\n",
      " |      Return self>=value.\n",
      " |  \n",
      " |  __getattribute__(self, name, /)\n",
      " |      Return getattr(self, name).\n",
      " |  \n",
      " |  __getitem__(...)\n",
      " |      x.__getitem__(y) <==> x[y]\n",
      " |  \n",
      " |  __gt__(self, value, /)\n",
      " |      Return self>value.\n",
      " |  \n",
      " |  __iter__(self, /)\n",
      " |      Implement iter(self).\n",
      " |  \n",
      " |  __le__(self, value, /)\n",
      " |      Return self<=value.\n",
      " |  \n",
      " |  __len__(self, /)\n",
      " |      Return len(self).\n",
      " |  \n",
      " |  __lt__(self, value, /)\n",
      " |      Return self<value.\n",
      " |  \n",
      " |  __ne__(self, value, /)\n",
      " |      Return self!=value.\n",
      " |  \n",
      " |  __reversed__(self, /)\n",
      " |      Return a reverse iterator over the dict keys.\n",
      " |  \n",
      " |  __ror__(self, value, /)\n",
      " |      Return value|self.\n",
      " |  \n",
      " |  __setitem__(self, key, value, /)\n",
      " |      Set self[key] to value.\n",
      " |  \n",
      " |  __sizeof__(...)\n",
      " |      D.__sizeof__() -> size of D in memory, in bytes\n",
      " |  \n",
      " |  clear(...)\n",
      " |      D.clear() -> None.  Remove all items from D.\n",
      " |  \n",
      " |  get(self, key, default=None, /)\n",
      " |      Return the value for key if key is in the dictionary, else default.\n",
      " |  \n",
      " |  items(...)\n",
      " |      D.items() -> a set-like object providing a view on D's items\n",
      " |  \n",
      " |  keys(...)\n",
      " |      D.keys() -> a set-like object providing a view on D's keys\n",
      " |  \n",
      " |  pop(...)\n",
      " |      D.pop(k[,d]) -> v, remove specified key and return the corresponding value.\n",
      " |      \n",
      " |      If key is not found, default is returned if given, otherwise KeyError is raised\n",
      " |  \n",
      " |  popitem(self, /)\n",
      " |      Remove and return a (key, value) pair as a 2-tuple.\n",
      " |      \n",
      " |      Pairs are returned in LIFO (last-in, first-out) order.\n",
      " |      Raises KeyError if the dict is empty.\n",
      " |  \n",
      " |  setdefault(self, key, default=None, /)\n",
      " |      Insert key with a value of default if key is not in the dictionary.\n",
      " |      \n",
      " |      Return the value for key if key is in the dictionary, else default.\n",
      " |  \n",
      " |  values(...)\n",
      " |      D.values() -> an object providing a view on D's values\n",
      " |  \n",
      " |  ----------------------------------------------------------------------\n",
      " |  Class methods inherited from builtins.dict:\n",
      " |  \n",
      " |  __class_getitem__(...) from builtins.type\n",
      " |      See PEP 585\n",
      " |  \n",
      " |  ----------------------------------------------------------------------\n",
      " |  Static methods inherited from builtins.dict:\n",
      " |  \n",
      " |  __new__(*args, **kwargs) from builtins.type\n",
      " |      Create and return a new object.  See help(type) for accurate signature.\n",
      " |  \n",
      " |  ----------------------------------------------------------------------\n",
      " |  Data and other attributes inherited from builtins.dict:\n",
      " |  \n",
      " |  __hash__ = None\n",
      "\n"
     ]
    }
   ],
   "source": [
    "help(word_counts)"
   ]
  },
  {
   "cell_type": "code",
   "execution_count": 62,
   "metadata": {
    "id": "vTILsWpUNPcZ"
   },
   "outputs": [
    {
     "name": "stdout",
     "output_type": "stream",
     "text": [
      "I 2\n",
      "am 1\n",
      "a 1\n",
      "boy 1\n",
      "love 1\n",
      "you 1\n"
     ]
    }
   ],
   "source": [
    "# print the 10 most common words and their counts\n",
    "for word, count in word_counts.most_common(10):\n",
    "    print(word, count)\n"
   ]
  },
  {
   "cell_type": "markdown",
   "metadata": {
    "id": "oaRs8Rh-NPca"
   },
   "source": [
    "### Sets\n",
    "\n",
    "- Another data structure is **set**, which represents a collection of **distinct** elements:\n",
    "- distinct = key\n",
    "- 중복값 x"
   ]
  },
  {
   "cell_type": "code",
   "execution_count": 63,
   "metadata": {
    "id": "gkybr1mCNPca"
   },
   "outputs": [],
   "source": [
    "s = set() # set을 만들때 사용\n",
    "s.add(1)      # s is now { 1 }\n",
    "s.add(2)      # s is now { 1, 2 }\n",
    "s.add(2)      # s is still { 1, 2 }\n",
    "x = len(s)    # equals 2\n",
    "y = 2 in s    # equals True\n",
    "z = 3 in s    # equals False"
   ]
  },
  {
   "cell_type": "markdown",
   "metadata": {
    "id": "Py-DZM95NPca"
   },
   "source": [
    "- For a membership test, a set is more appropriate than a list\n",
    "- **in** is a very fast operation on sets."
   ]
  },
  {
   "cell_type": "code",
   "execution_count": 64,
   "metadata": {
    "id": "PivbSZqMNPca"
   },
   "outputs": [
    {
     "data": {
      "text/plain": [
       "False"
      ]
     },
     "execution_count": 64,
     "metadata": {},
     "output_type": "execute_result"
    }
   ],
   "source": [
    "hundreds_of_other_words = []\n",
    "stopwords_list = [\"a\",\"an\",\"at\"] + hundreds_of_other_words + [\"yet\", \"you\"] # ['a', 'an', 'at', 'yet', 'you']\n",
    "\n",
    "\"zip\" in stopwords_list  # False, but have to check every element\n",
    "\n",
    "stopwords_set = set(stopwords_list)\n",
    "\"zip\" in stopwords_set  # very fast to check; use hashing to find a member"
   ]
  },
  {
   "cell_type": "markdown",
   "metadata": {
    "id": "2hAS5733NPca"
   },
   "source": [
    "To find the **distinct** items in a collection:"
   ]
  },
  {
   "cell_type": "code",
   "execution_count": 65,
   "metadata": {
    "id": "RmJZauq5NPca"
   },
   "outputs": [],
   "source": [
    "item_list = [1, 2, 3, 1, 2, 3]\n",
    "num_items = len(item_list)          # 6\n",
    "item_set = set(item_list)           # {1, 2, 3}\n",
    "num_distinct_items = len(item_set)  # 3\n",
    "distinct_item_list = list(item_set) # [1, 2, 3]"
   ]
  },
  {
   "cell_type": "markdown",
   "metadata": {
    "id": "cVbTnvhSNPca"
   },
   "source": [
    "### Control Flow"
   ]
  },
  {
   "cell_type": "markdown",
   "metadata": {
    "id": "403VTPuuNPca"
   },
   "source": [
    "**if** statement:"
   ]
  },
  {
   "cell_type": "code",
   "execution_count": 66,
   "metadata": {
    "id": "jnVlemmmNPcb"
   },
   "outputs": [],
   "source": [
    "if 1 > 2:\n",
    "    message = \"if only 1 were greater than two...\"\n",
    "elif 1 > 3:\n",
    "    message = \"elif stands for 'else if'\"\n",
    "else:\n",
    "    message = \"when all else fails use else (if you want to)\""
   ]
  },
  {
   "cell_type": "markdown",
   "metadata": {
    "id": "5ugv4puJNPcb"
   },
   "source": [
    "a **ternary** if-then-else on one line"
   ]
  },
  {
   "cell_type": "code",
   "execution_count": 67,
   "metadata": {
    "id": "ihynXA4NNPcb"
   },
   "outputs": [],
   "source": [
    "parity = \"even\" if x % 2 == 0 else \"odd\""
   ]
  },
  {
   "cell_type": "markdown",
   "metadata": {
    "id": "a16Jte3zNPcb"
   },
   "source": [
    "**while** statement:"
   ]
  },
  {
   "cell_type": "code",
   "execution_count": 68,
   "metadata": {
    "id": "TKBXD-R5NPcb"
   },
   "outputs": [
    {
     "name": "stdout",
     "output_type": "stream",
     "text": [
      "0 is less than 10\n",
      "1 is less than 10\n",
      "2 is less than 10\n",
      "3 is less than 10\n",
      "4 is less than 10\n",
      "5 is less than 10\n",
      "6 is less than 10\n",
      "7 is less than 10\n",
      "8 is less than 10\n",
      "9 is less than 10\n"
     ]
    }
   ],
   "source": [
    "x = 0\n",
    "while x < 10:\n",
    "    print(x, \"is less than 10\")\n",
    "    x += 1"
   ]
  },
  {
   "cell_type": "markdown",
   "metadata": {
    "id": "THtsbNQxNPcb"
   },
   "source": [
    "**for** statement"
   ]
  },
  {
   "cell_type": "code",
   "execution_count": 69,
   "metadata": {
    "id": "aWZ_KxXdNPcb"
   },
   "outputs": [
    {
     "name": "stdout",
     "output_type": "stream",
     "text": [
      "0 is less than 10\n",
      "1 is less than 10\n",
      "2 is less than 10\n",
      "3 is less than 10\n",
      "4 is less than 10\n",
      "5 is less than 10\n",
      "6 is less than 10\n",
      "7 is less than 10\n",
      "8 is less than 10\n",
      "9 is less than 10\n"
     ]
    }
   ],
   "source": [
    "for x in range(10):\n",
    "    print(x, \"is less than 10\")"
   ]
  },
  {
   "cell_type": "markdown",
   "metadata": {
    "id": "KDXzS5GpNPcc"
   },
   "source": [
    "continue and break statement:"
   ]
  },
  {
   "cell_type": "code",
   "execution_count": 70,
   "metadata": {
    "id": "8g6mOXq7NPcc"
   },
   "outputs": [
    {
     "name": "stdout",
     "output_type": "stream",
     "text": [
      "0\n",
      "1\n",
      "2\n",
      "4\n"
     ]
    }
   ],
   "source": [
    "for x in range(10):\n",
    "    if x == 3:\n",
    "        continue   # go immediately to the next iteration\n",
    "    if x == 5:\n",
    "        break      # quit the loop entirely\n",
    "    print(x)"
   ]
  },
  {
   "cell_type": "markdown",
   "metadata": {
    "id": "LHrINHBiNPcc"
   },
   "source": [
    "### Truthiness"
   ]
  },
  {
   "cell_type": "code",
   "execution_count": 71,
   "metadata": {
    "id": "sNG53UWiNPcc"
   },
   "outputs": [],
   "source": [
    "one_is_less_than_two = 1 < 2       # equals True\n",
    "true_equals_false = True == False  # equals False"
   ]
  },
  {
   "cell_type": "markdown",
   "metadata": {
    "id": "aZgtS54yNPcc"
   },
   "source": [
    "Python uses the value **None** to indicate a nonexistent value"
   ]
  },
  {
   "cell_type": "code",
   "execution_count": 72,
   "metadata": {
    "id": "_1AyUq5mNPcc"
   },
   "outputs": [
    {
     "name": "stdout",
     "output_type": "stream",
     "text": [
      "True\n",
      "True\n"
     ]
    }
   ],
   "source": [
    "x = None\n",
    "print(x == None)   # prints True, but is not Pythonic\n",
    "print(x is None)   # prints True, and is Pythonic"
   ]
  },
  {
   "cell_type": "markdown",
   "metadata": {
    "id": "_xSRCorWNPcd"
   },
   "source": [
    "The following are all “Falsy”:\n",
    "\n",
    "```python\n",
    "False\n",
    "None\n",
    "[] : (an empty list)\n",
    "{} : (an empty dict)\n",
    "\"\"\n",
    "set()\n",
    "0\n",
    "0.0\n",
    "```"
   ]
  },
  {
   "cell_type": "code",
   "execution_count": 73,
   "metadata": {
    "id": "eNmwFZE5NPcd"
   },
   "outputs": [],
   "source": [
    "s = 'abc'\n",
    "if s:\n",
    "    first_char = s[0]\n",
    "else:\n",
    "    first_char = \"\"\n"
   ]
  },
  {
   "cell_type": "code",
   "execution_count": 74,
   "metadata": {
    "id": "ACNB_XNqNPcd"
   },
   "outputs": [
    {
     "data": {
      "text/plain": [
       "'a'"
      ]
     },
     "execution_count": 74,
     "metadata": {},
     "output_type": "execute_result"
    }
   ],
   "source": [
    "first_char = s and s[0]   # A simpler way of doing the same -> s가 True 기 때문에 s[0] 값이 할당된다.\n",
    "first_char                # 만약 s가 False 였다면 s 값이 할당된다."
   ]
  },
  {
   "cell_type": "code",
   "execution_count": 75,
   "metadata": {
    "id": "_hvBvvozNPcd"
   },
   "outputs": [
    {
     "data": {
      "text/plain": [
       "0"
      ]
     },
     "execution_count": 75,
     "metadata": {},
     "output_type": "execute_result"
    }
   ],
   "source": [
    "x = None\n",
    "safe_x = x or 0    # if x is either a number or possibly None -> x가 False기 때문에 0 값이 할당된다.\n",
    "safe_x             # 만약 x가 True 라면 x의 값이 할당된다."
   ]
  },
  {
   "cell_type": "markdown",
   "metadata": {
    "id": "KhZVQ_FiNPce"
   },
   "source": [
    "- Python has an **all** function, which takes a list and returns True precisely when every element is truthy, and \n",
    "- an **any** function, which returns True when at least one element is truthy:"
   ]
  },
  {
   "cell_type": "code",
   "execution_count": 76,
   "metadata": {
    "id": "uZYBLaRDNPce"
   },
   "outputs": [
    {
     "data": {
      "text/plain": [
       "False"
      ]
     },
     "execution_count": 76,
     "metadata": {},
     "output_type": "execute_result"
    }
   ],
   "source": [
    "# all -> 모두 True 여야 True \n",
    "# any -> 하나라도 True면 True\n",
    "all([True, 1, { 3 }])    # True\n",
    "all([True, 1, {}])       # False, {} is falsy\n",
    "any([True, 1, {}])       # True, True is truthy\n",
    "all([])                  # True, no falsy elements in the list -> and로 생각\n",
    "any([])                  # False, no truthy elements in the list -> or로 생각"
   ]
  },
  {
   "cell_type": "code",
   "execution_count": 77,
   "metadata": {
    "id": "jrpBhAcONPce"
   },
   "outputs": [
    {
     "data": {
      "text/plain": [
       "True"
      ]
     },
     "execution_count": 77,
     "metadata": {},
     "output_type": "execute_result"
    }
   ],
   "source": [
    "all([] + [True, True]) == all([]) and all([True, True]) # all([]) = True 여야 함"
   ]
  },
  {
   "cell_type": "code",
   "execution_count": 78,
   "metadata": {
    "id": "FEgqtqh9NPce"
   },
   "outputs": [
    {
     "data": {
      "text/plain": [
       "True"
      ]
     },
     "execution_count": 78,
     "metadata": {},
     "output_type": "execute_result"
    }
   ],
   "source": [
    "any([] + [True, False]) == any([]) or any([True, False]) # any([]) = False 여야 함"
   ]
  },
  {
   "cell_type": "markdown",
   "metadata": {
    "id": "UnIgA3-LNPce"
   },
   "source": [
    "## The Not-So-Basics"
   ]
  },
  {
   "cell_type": "markdown",
   "metadata": {
    "id": "3smq2jrBNPce"
   },
   "source": [
    "### Sorting"
   ]
  },
  {
   "cell_type": "code",
   "execution_count": 79,
   "metadata": {
    "id": "8u9rcWL3NPcf"
   },
   "outputs": [],
   "source": [
    "x = [4,1,2,3]\n",
    "y = sorted(x)    # is [1,2,3,4], x is unchanged x = [4,1,2,3] 그대로임\n",
    "x.sort()         # now x is [1,2,3,4]"
   ]
  },
  {
   "cell_type": "code",
   "execution_count": 80,
   "metadata": {
    "id": "YlXY6VGKNPcf"
   },
   "outputs": [
    {
     "data": {
      "text/plain": [
       "[('I', 2), ('am', 1), ('a', 1), ('boy', 1), ('love', 1), ('you', 1)]"
      ]
     },
     "execution_count": 80,
     "metadata": {},
     "output_type": "execute_result"
    }
   ],
   "source": [
    "# sort the list by absolute value from largest to smallest\n",
    "x = sorted([-4,1,-2,3], key=abs, reverse=True) # is [-4,3,-2,1] 절대값으로 내림차순 정렬\n",
    "# sort the words and counts from highest count to lowest\n",
    "wc = sorted(word_counts.items(),\n",
    "            key=lambda x: x[1],\n",
    "            reverse=True)\n",
    "\n",
    "wc"
   ]
  },
  {
   "cell_type": "markdown",
   "metadata": {
    "id": "dSGHkt8ZNPcf"
   },
   "source": [
    "### List Comprehensions\n",
    "\n",
    "- you’ll want to transform a list into another list, by choosing only certain elements, or by transforming elements, or both. The Pythonic way of doing this is list comprehensions:\n",
    "- Always use list comprehension if possible."
   ]
  },
  {
   "cell_type": "code",
   "execution_count": 81,
   "metadata": {
    "id": "1AcK5kqRNPcf"
   },
   "outputs": [],
   "source": [
    "even_numbers = [x for x in range(5) if x % 2 == 0]  # [0, 2, 4]\n",
    "squares      = [x * x for x in range(5)]            # [0, 1, 4, 9, 16]\n",
    "even_squares = [x * x for x in even_numbers]        # [0, 4, 16]"
   ]
  },
  {
   "cell_type": "markdown",
   "metadata": {
    "id": "FULWisnENPcf"
   },
   "source": [
    "You can similarly turn lists into dictionaries or sets:"
   ]
  },
  {
   "cell_type": "code",
   "execution_count": 82,
   "metadata": {
    "id": "oE1b4K42NPcf"
   },
   "outputs": [],
   "source": [
    "square_dict = { x : x * x for x in range(5) }  # { 0:0, 1:1, 2:4, 3:9, 4:16 } dictionary\n",
    "square_set = { x * x for x in [1, -1] }        # { 1 } set"
   ]
  },
  {
   "cell_type": "markdown",
   "metadata": {
    "id": "9XB_gtOfNPcf"
   },
   "source": [
    "- It’s conventional to use an underscore as the variable:"
   ]
  },
  {
   "cell_type": "code",
   "execution_count": 83,
   "metadata": {
    "id": "9oALbTWwNPcg"
   },
   "outputs": [],
   "source": [
    "zeroes = [0 for _ in even_numbers]    # has the same length as even_numbers"
   ]
  },
  {
   "cell_type": "markdown",
   "metadata": {
    "id": "9jZW3-smNPcg"
   },
   "source": [
    "A list comprehension can include multiple **for**s:"
   ]
  },
  {
   "cell_type": "code",
   "execution_count": 84,
   "metadata": {
    "id": "W_WLtnx8NPcg"
   },
   "outputs": [],
   "source": [
    "pairs = [(x, y)\n",
    "         for x in range(10)\n",
    "         for y in range(10)] # 100 pairs (0,0) (0,1) ... (9,8), (9,9)"
   ]
  },
  {
   "cell_type": "markdown",
   "metadata": {
    "id": "GXao1yg6NPcg"
   },
   "source": [
    "Easy to computer distance matrix"
   ]
  },
  {
   "cell_type": "markdown",
   "metadata": {
    "id": "u_xKsDQBNPcg"
   },
   "source": [
    "later **for**s can use the results of earlier ones:"
   ]
  },
  {
   "cell_type": "code",
   "execution_count": 85,
   "metadata": {
    "id": "pH5NO5kgNPcg"
   },
   "outputs": [],
   "source": [
    "increasing_pairs = [(x, y)\n",
    "                    for x in range(10)\n",
    "                    for y in range(x + 1, 10)]"
   ]
  },
  {
   "cell_type": "markdown",
   "metadata": {
    "id": "y-SqowIFNPcg"
   },
   "source": [
    "### Generators and Iterators\n",
    "\n",
    "- A problem with lists is that they can easily grow very big. range(1000000) creates an actual list of 1 million elements. If you only need to deal with them one at a time, this can be a huge source of inefficiency (or of running out of memory). If you potentially only need the **first few** values, then calculating them all is a waste.\n",
    "- A generator is something that you can iterate over (for us, usually using for ) but whose values are produced only as needed (lazily).\n",
    "- One way to create generators is with functions and the **yield** operator:"
   ]
  },
  {
   "cell_type": "code",
   "execution_count": 86,
   "metadata": {
    "id": "kJZUDFJ-NPch"
   },
   "outputs": [],
   "source": [
    "def lazy_range(n):\n",
    "    \"\"\"a lazy version of range\"\"\"\n",
    "    i = 0\n",
    "    while i < n:\n",
    "        yield i # return 대신에 yield -> 요구할 때마다 1개씩 줌\n",
    "        i += 1"
   ]
  },
  {
   "cell_type": "code",
   "execution_count": 87,
   "metadata": {
    "id": "P87JDNfVNPch"
   },
   "outputs": [
    {
     "name": "stdout",
     "output_type": "stream",
     "text": [
      "0\n",
      "1\n",
      "2\n",
      "3\n",
      "4\n",
      "5\n",
      "6\n",
      "7\n",
      "8\n",
      "9\n"
     ]
    }
   ],
   "source": [
    "# The following loop will consume the yield ed values one at a time until none are left:\n",
    "for i in lazy_range(10):\n",
    "    print(i)"
   ]
  },
  {
   "cell_type": "code",
   "execution_count": 88,
   "metadata": {
    "id": "q_RFBdLDNPch"
   },
   "outputs": [
    {
     "name": "stdout",
     "output_type": "stream",
     "text": [
      "0\n",
      "1\n",
      "2\n"
     ]
    }
   ],
   "source": [
    "# The following loop will consume the yield ed values one at a time until none are left:\n",
    "for i in lazy_range(10000): # for i in list(lazy_range(10000)) 는 시간이 너무 오래 걸려서 비효율적\n",
    "    if i == 3: break\n",
    "    print(i)"
   ]
  },
  {
   "cell_type": "code",
   "execution_count": 89,
   "metadata": {
    "id": "Tp6fnlFqNPch"
   },
   "outputs": [
    {
     "data": {
      "text/plain": [
       "2"
      ]
     },
     "execution_count": 89,
     "metadata": {},
     "output_type": "execute_result"
    }
   ],
   "source": [
    "t = lazy_range(3)\n",
    "next(t)\n",
    "next(t)\n",
    "next(t)\n",
    "#next(t)"
   ]
  },
  {
   "cell_type": "code",
   "execution_count": 90,
   "metadata": {
    "id": "OhHUAdIBNPch"
   },
   "outputs": [
    {
     "data": {
      "text/plain": [
       "2"
      ]
     },
     "execution_count": 90,
     "metadata": {},
     "output_type": "execute_result"
    }
   ],
   "source": [
    "def lazy_inf_range(): # 무한대 -> 끝나지 않는 루프\n",
    "    i = 0\n",
    "    while True:\n",
    "        yield i\n",
    "        i += 1\n",
    "         \n",
    "t = lazy_inf_range()\n",
    "next(t)\n",
    "next(t)\n",
    "next(t)"
   ]
  },
  {
   "cell_type": "markdown",
   "metadata": {
    "id": "HgXeJkF6NPch"
   },
   "source": [
    "A second way to create generators is by using for comprehensions wrapped in parentheses:"
   ]
  },
  {
   "cell_type": "code",
   "execution_count": 91,
   "metadata": {
    "id": "Zz9adGIzNPci"
   },
   "outputs": [],
   "source": [
    "lazy_evens_below_20 = (i for i in lazy_range(20) if i % 2 == 0)"
   ]
  },
  {
   "cell_type": "code",
   "execution_count": 92,
   "metadata": {
    "id": "uZ_YjUGNNPci"
   },
   "outputs": [
    {
     "data": {
      "text/plain": [
       "<generator object <genexpr> at 0x000002267E0EF270>"
      ]
     },
     "execution_count": 92,
     "metadata": {},
     "output_type": "execute_result"
    }
   ],
   "source": [
    "lazy_evens_below_20"
   ]
  },
  {
   "cell_type": "markdown",
   "metadata": {
    "id": "rSlYfqYNNPci"
   },
   "source": [
    "### Randomness\n",
    "\n",
    "- To generate random numbers, we can do with the random module\n",
    "- random.random() produces numbers uniformly between 0 and 1"
   ]
  },
  {
   "cell_type": "code",
   "execution_count": 93,
   "metadata": {
    "id": "W_iZr45lNPci"
   },
   "outputs": [
    {
     "data": {
      "text/plain": [
       "[0.46812448756269665,\n",
       " 0.6278764997990312,\n",
       " 0.6389348663990438,\n",
       " 0.5948791350059619]"
      ]
     },
     "execution_count": 93,
     "metadata": {},
     "output_type": "execute_result"
    }
   ],
   "source": [
    "import random\n",
    "\n",
    "four_uniform_randoms = [random.random() for _ in range(4)]\n",
    "four_uniform_randoms"
   ]
  },
  {
   "cell_type": "markdown",
   "metadata": {
    "id": "DvBP5x5sNPci"
   },
   "source": [
    "if you want to get reproducible results:\n",
    "- reproducible : 같은 값이 나오도록 함 -> seed"
   ]
  },
  {
   "cell_type": "code",
   "execution_count": 94,
   "metadata": {
    "id": "x4XcchxTNPci"
   },
   "outputs": [
    {
     "name": "stdout",
     "output_type": "stream",
     "text": [
      "0.5714025946899135\n",
      "0.5714025946899135\n"
     ]
    }
   ],
   "source": [
    "random.seed(10)\n",
    "print(random.random())\n",
    "random.seed(10)\n",
    "print(random.random())"
   ]
  },
  {
   "cell_type": "markdown",
   "metadata": {
    "id": "Pun-OK2hNPci"
   },
   "source": [
    "random.randrange takes either 1 or 2 arguments and returns\n",
    "an element chosen randomly from the corresponding range()"
   ]
  },
  {
   "cell_type": "code",
   "execution_count": 95,
   "metadata": {
    "id": "PrXEHwIZNPcj"
   },
   "outputs": [
    {
     "data": {
      "text/plain": [
       "4"
      ]
     },
     "execution_count": 95,
     "metadata": {},
     "output_type": "execute_result"
    }
   ],
   "source": [
    "random.randrange(10)      # choose randomly from range(10) = [0, 1, ..., 9]\n",
    "random.randrange(3, 6)    # choose randomly from range(3, 6) = [3, 4, 5]"
   ]
  },
  {
   "cell_type": "markdown",
   "metadata": {
    "id": "o3tp7t23NPcj"
   },
   "source": [
    "random.shuffle randomly reorders the elements of a list:"
   ]
  },
  {
   "cell_type": "code",
   "execution_count": 96,
   "metadata": {
    "id": "Quyht_hrNPcj"
   },
   "outputs": [
    {
     "name": "stdout",
     "output_type": "stream",
     "text": [
      "[4, 5, 8, 1, 2, 6, 7, 3, 0, 9]\n"
     ]
    }
   ],
   "source": [
    "up_to_ten = list(range(10))\n",
    "random.shuffle(up_to_ten) # 랜덤하게 섞기\n",
    "print(up_to_ten)       "
   ]
  },
  {
   "cell_type": "markdown",
   "metadata": {
    "id": "JxU_cqcnNPcj"
   },
   "source": [
    "To randomly pick one element from a list:"
   ]
  },
  {
   "cell_type": "code",
   "execution_count": 97,
   "metadata": {
    "id": "kZfDmkKlNPcj"
   },
   "outputs": [],
   "source": [
    "my_best_friend = random.choice([\"Alice\", \"Bob\", \"Charlie\"]) # 랜덤하게 선택"
   ]
  },
  {
   "cell_type": "markdown",
   "metadata": {
    "id": "AfvjP_-jNPcj"
   },
   "source": [
    "To randomly choose a sample of elements without replacement (i.e., with\n",
    "no duplicates)\n",
    "중복제외 선택"
   ]
  },
  {
   "cell_type": "code",
   "execution_count": 98,
   "metadata": {
    "id": "kDS7Y9JLNPcj"
   },
   "outputs": [],
   "source": [
    "lottery_numbers = range(60)\n",
    "winning_numbers = random.sample(lottery_numbers, 6) # 6개 랜덤하게 선택(중복x)"
   ]
  },
  {
   "cell_type": "markdown",
   "metadata": {
    "id": "XONK4X-FNPck"
   },
   "source": [
    "To choose a sample of elements with replacement (i.e., allowing duplicates) 중복포함 선택"
   ]
  },
  {
   "cell_type": "code",
   "execution_count": 99,
   "metadata": {
    "id": "rjQqztVXNPck"
   },
   "outputs": [
    {
     "data": {
      "text/plain": [
       "[2, 9, 5, 6]"
      ]
     },
     "execution_count": 99,
     "metadata": {},
     "output_type": "execute_result"
    }
   ],
   "source": [
    "four_with_replacement = [random.choice(range(10)) for _ in range(4)] # 중복되게 선택\n",
    "four_with_replacement"
   ]
  },
  {
   "cell_type": "markdown",
   "metadata": {
    "id": "l2bsBzPkNPck"
   },
   "source": [
    "### Regular Expressions\n",
    "\n",
    "- Regular expressions provide a way of searching text.\n",
    "- They are incredibly useful but also fairly complicated, so much so that there are entire books written about them."
   ]
  },
  {
   "cell_type": "code",
   "execution_count": 100,
   "metadata": {
    "id": "dTgr-FKNNPck"
   },
   "outputs": [
    {
     "name": "stdout",
     "output_type": "stream",
     "text": [
      "True\n"
     ]
    }
   ],
   "source": [
    "import re\n",
    "print(all([\n",
    "    not re.match(\"a\", \"cat\"), # a로 시작하지 않으므로 false\n",
    "    re.search(\"a\", \"cat\"), # a가 있는지 없는지 확인, 있으므로 true\n",
    "    not re.search(\"c\", \"dog\"),\n",
    "    3 == len(re.split(\"[ab]\", \"carbs\")),\n",
    "    \"R-D-\" == re.sub(\"[0-9]\", \"-\", \"R2D2\")\n",
    "    ])) # prints True"
   ]
  },
  {
   "cell_type": "markdown",
   "metadata": {
    "id": "a6o-py4TNPck"
   },
   "source": [
    "### Object-Oriented Programming"
   ]
  },
  {
   "cell_type": "code",
   "execution_count": 101,
   "metadata": {
    "id": "urVAjxXMNPck"
   },
   "outputs": [],
   "source": [
    "# by convention, we give classes PascalCase names\n",
    "class Set:\n",
    "    # these are the member functions\n",
    "    # every one takes a first parameter \"self\" (another convention)\n",
    "    # that refers to the particular Set object being used\n",
    "    \n",
    "    def __init__(self, values=None):\n",
    "        \"\"\"This is the constructor.\n",
    "        It gets called when you create a new Set.\n",
    "        You would use it like\n",
    "        s1 = Set()          # empty set\n",
    "        s2 = Set([1,2,2,3]) # initialize with values\"\"\"\n",
    "        \n",
    "        self.dict = {}  # each instance of Set has its own dict property\n",
    "                        # which is what we'll use to track memberships\n",
    "        if values is not None:\n",
    "            for value in values:\n",
    "                self.add(value)\n",
    "\n",
    "    def __repr__(self):\n",
    "        \"\"\"this is the string representation of a Set object\n",
    "        if you type it at the Python prompt or pass it to str()\"\"\"\n",
    "        return \"Set: \" + str(self.dict.keys())\n",
    "\n",
    "    # we'll represent membership by being a key in self.dict with value True\n",
    "    def add(self, value):\n",
    "        self.dict[value] = True\n",
    "\n",
    "    # value is in the Set if it's a key in the dictionary\n",
    "    def contains(self, value):\n",
    "        return value in self.dict\n",
    "\n",
    "    def remove(self, value):\n",
    "        del self.dict[value]"
   ]
  },
  {
   "cell_type": "code",
   "execution_count": 102,
   "metadata": {
    "id": "jdq0iYP9NPck"
   },
   "outputs": [
    {
     "name": "stdout",
     "output_type": "stream",
     "text": [
      "True\n",
      "False\n"
     ]
    }
   ],
   "source": [
    "s = Set([1,2,3])\n",
    "s.add(4)\n",
    "print(s.contains(4))    # True\n",
    "s.remove(3)\n",
    "print(s.contains(3))    # False"
   ]
  },
  {
   "cell_type": "markdown",
   "metadata": {
    "id": "7QTwMhn1NPcl"
   },
   "source": [
    "### Functional Tools\n",
    "\n",
    "- When passing functions around, sometimes we’ll want to **partially apply (or curry)** functions to create new functions."
   ]
  },
  {
   "cell_type": "code",
   "execution_count": 103,
   "metadata": {
    "id": "vNhSPoOjNPcl"
   },
   "outputs": [],
   "source": [
    "# 비추\n",
    "def exp(base, power):\n",
    "    return base ** power\n",
    "\n",
    "def two_to_the(power):\n",
    "    return exp(2, power)"
   ]
  },
  {
   "cell_type": "code",
   "execution_count": 104,
   "metadata": {
    "id": "cgithWDYNPcl"
   },
   "outputs": [
    {
     "data": {
      "text/plain": [
       "8"
      ]
     },
     "execution_count": 104,
     "metadata": {},
     "output_type": "execute_result"
    }
   ],
   "source": [
    "two_to_the(3)"
   ]
  },
  {
   "cell_type": "markdown",
   "metadata": {
    "id": "Xdl3v2UfNPcl"
   },
   "source": [
    "A different approach is to use functools.partial :"
   ]
  },
  {
   "cell_type": "code",
   "execution_count": 105,
   "metadata": {
    "id": "A0sJCvLBNPcm"
   },
   "outputs": [
    {
     "name": "stdout",
     "output_type": "stream",
     "text": [
      "8\n"
     ]
    }
   ],
   "source": [
    "from functools import partial\n",
    "\n",
    "two_to_the = partial(exp, 2)     # is now a function of one variable -> 인자를 하나만 줌 base\n",
    "print(two_to_the(3))             # 8 -> 나머지 인자를 여기서 줌 power"
   ]
  },
  {
   "cell_type": "code",
   "execution_count": 106,
   "metadata": {
    "id": "jQ7uXdPtNPcm"
   },
   "outputs": [
    {
     "name": "stdout",
     "output_type": "stream",
     "text": [
      "9\n"
     ]
    }
   ],
   "source": [
    "square_of = partial(exp, power=2)\n",
    "print(square_of(3))    # 9"
   ]
  },
  {
   "cell_type": "markdown",
   "metadata": {
    "id": "ctTGGKJtNPcm"
   },
   "source": [
    "We will also occasionally use **map, reduce, and filter**, which provide functional alternatives to list comprehensions:\n",
    "\n",
    "- Always use map, reduce, and filter if possible"
   ]
  },
  {
   "cell_type": "markdown",
   "metadata": {
    "id": "QGKO76I1NPcm"
   },
   "source": [
    "#### Map"
   ]
  },
  {
   "cell_type": "code",
   "execution_count": 107,
   "metadata": {
    "id": "E1aw7P7HNPcn"
   },
   "outputs": [],
   "source": [
    "def double(x):\n",
    "    return 2 * x\n",
    "\n",
    "xs = [1, 2, 3, 4]\n",
    "twice_xs = [double(x) for x in xs]\n",
    "twice_xs = map(double, xs)\n",
    "\n",
    "list_doubler = partial(map, double)\n",
    "twice_xs = list_doubler(xs)"
   ]
  },
  {
   "cell_type": "code",
   "execution_count": 108,
   "metadata": {
    "id": "SiSElKFtNPcn"
   },
   "outputs": [
    {
     "data": {
      "text/plain": [
       "[4, 10]"
      ]
     },
     "execution_count": 108,
     "metadata": {},
     "output_type": "execute_result"
    }
   ],
   "source": [
    "def multiply(x, y): return x * y\n",
    "\n",
    "products = map(multiply, [1, 2], [4, 5])    # [1 * 4, 2 * 5] = [4, 10]\n",
    "list(products)"
   ]
  },
  {
   "cell_type": "code",
   "execution_count": 109,
   "metadata": {
    "id": "BWPNpxtWNPcn"
   },
   "outputs": [
    {
     "data": {
      "text/plain": [
       "[40, 200]"
      ]
     },
     "execution_count": 109,
     "metadata": {},
     "output_type": "execute_result"
    }
   ],
   "source": [
    "def multiply(x, y, z): return x * y * z\n",
    "\n",
    "products = map(multiply, [1, 2], [4, 5], [10, 20])    # [1 * 4 * 10, 2 * 5 * 20]\n",
    "list(products)"
   ]
  },
  {
   "cell_type": "markdown",
   "metadata": {
    "id": "2cjTN8M-NPcn"
   },
   "source": [
    "#### Filter"
   ]
  },
  {
   "cell_type": "code",
   "execution_count": 110,
   "metadata": {
    "id": "ndqlynmcNPco"
   },
   "outputs": [
    {
     "name": "stdout",
     "output_type": "stream",
     "text": [
      "[2, 4]\n",
      "[2, 4]\n"
     ]
    }
   ],
   "source": [
    "def is_even(x):\n",
    "    \"\"\"True if x is even, False if x is odd\"\"\"\n",
    "    return x % 2 == 0\n",
    "\n",
    "x_evens = [x for x in xs if is_even(x)]\n",
    "x_evens = filter(is_even, xs)\n",
    "print(list(x_evens))\n",
    "list_evener = partial(filter, is_even)\n",
    "x_evens = list_evener(xs)\n",
    "print(list(x_evens))"
   ]
  },
  {
   "cell_type": "markdown",
   "metadata": {
    "id": "qg6KRqTjNPco"
   },
   "source": [
    "#### Reduce"
   ]
  },
  {
   "cell_type": "code",
   "execution_count": 111,
   "metadata": {
    "id": "1jUowqYqNPco"
   },
   "outputs": [
    {
     "name": "stdout",
     "output_type": "stream",
     "text": [
      "6\n",
      "6\n"
     ]
    }
   ],
   "source": [
    "from functools import reduce\n",
    "\n",
    "def multiply(x, y): return x * y\n",
    "\n",
    "xs = [1,2,3]\n",
    "x_product = reduce(multiply, xs) # reduce = (1*2)*3 = 6\n",
    "print(x_product)\n",
    "list_product = partial(reduce, multiply)\n",
    "x_product = list_product(xs)\n",
    "print(x_product)"
   ]
  },
  {
   "cell_type": "markdown",
   "metadata": {
    "id": "c9xKlo8TNPco"
   },
   "source": [
    "### enumerate \n",
    "\n",
    "- To iterate over a list and use both its elements and their indexes:"
   ]
  },
  {
   "cell_type": "code",
   "execution_count": 112,
   "metadata": {
    "id": "MWam2Qq7NPcp",
    "scrolled": true
   },
   "outputs": [
    {
     "name": "stdout",
     "output_type": "stream",
     "text": [
      "0 I\n",
      "1 am\n",
      "2 a\n",
      "3 boy\n",
      "0 I\n",
      "1 am\n",
      "2 a\n",
      "3 boy\n"
     ]
    }
   ],
   "source": [
    "documents = [\"I\", \"am\", \"a\", \"boy\"]\n",
    "# not Pythonic\n",
    "for i in range(len(documents)):\n",
    "    document = documents[i]\n",
    "    print(i, document)\n",
    "    \n",
    "# also not Pythonic\n",
    "i = 0\n",
    "for document in documents:\n",
    "    print(i, document)\n",
    "    i += 1"
   ]
  },
  {
   "cell_type": "markdown",
   "metadata": {
    "id": "zK2Ezxv2NPcp"
   },
   "source": [
    "The Pythonic solution is enumerate , which produces tuples (index, element) :"
   ]
  },
  {
   "cell_type": "code",
   "execution_count": 113,
   "metadata": {
    "id": "c5ke-D-qNPcp"
   },
   "outputs": [
    {
     "name": "stdout",
     "output_type": "stream",
     "text": [
      "0 I\n",
      "1 am\n",
      "2 a\n",
      "3 boy\n"
     ]
    }
   ],
   "source": [
    "for i, document in enumerate(documents):\n",
    "    print(i, document)"
   ]
  },
  {
   "cell_type": "code",
   "execution_count": 114,
   "metadata": {
    "id": "-PDrG42hNPcq"
   },
   "outputs": [
    {
     "name": "stdout",
     "output_type": "stream",
     "text": [
      "0\n",
      "1\n",
      "2\n",
      "3\n",
      "0\n",
      "1\n",
      "2\n",
      "3\n"
     ]
    }
   ],
   "source": [
    "for i in range(len(documents)): print(i)    # not Pythonic\n",
    "    \n",
    "for i, _ in enumerate(documents): print(i)  # Pythonic"
   ]
  },
  {
   "cell_type": "markdown",
   "metadata": {
    "id": "T2WT0dm4NPcq"
   },
   "source": [
    "### zip and unzip\n",
    "\n",
    "- To zip two or more lists together. \n",
    "- zip transforms multiple lists into a single list of tuples of corresponding elements:"
   ]
  },
  {
   "cell_type": "code",
   "execution_count": 115,
   "metadata": {
    "id": "JpT8b7NbNPcq"
   },
   "outputs": [
    {
     "data": {
      "text/plain": [
       "[('a', 1), ('b', 2), ('c', 3)]"
      ]
     },
     "execution_count": 115,
     "metadata": {},
     "output_type": "execute_result"
    }
   ],
   "source": [
    "list1 = ['a', 'b', 'c']\n",
    "list2 = [1, 2, 3]\n",
    "list(zip(list1, list2))        # is [('a', 1), ('b', 2), ('c', 3)]"
   ]
  },
  {
   "cell_type": "markdown",
   "metadata": {
    "id": "0Xt7sZNtNPcq"
   },
   "source": [
    "You can also “unzip” a list using a strange trick:"
   ]
  },
  {
   "cell_type": "code",
   "execution_count": 116,
   "metadata": {
    "id": "sH2tx6DtNPcr"
   },
   "outputs": [
    {
     "name": "stdout",
     "output_type": "stream",
     "text": [
      "('a', 'b', 'c') (1, 2, 3)\n"
     ]
    }
   ],
   "source": [
    "pairs = [('a', 1), ('b', 2), ('c', 3)]\n",
    "letters, numbers = zip(*pairs)\n",
    "print(letters, numbers)"
   ]
  },
  {
   "cell_type": "code",
   "execution_count": 117,
   "metadata": {
    "id": "Xb8470uMNPcr"
   },
   "outputs": [
    {
     "name": "stdout",
     "output_type": "stream",
     "text": [
      "('a', 'b', 'c') (1, 2, 3)\n"
     ]
    }
   ],
   "source": [
    "pairs = [('a', 1), ('b', 2), ('c', 3)]\n",
    "letters, numbers = zip(('a', 1), ('b', 2), ('c', 3))\n",
    "print(letters, numbers)"
   ]
  }
 ],
 "metadata": {
  "celltoolbar": "Slideshow",
  "colab": {
   "name": "ch2_crash_course_in_python-student-2022.ipynb",
   "provenance": []
  },
  "hide_input": false,
  "kernelspec": {
   "display_name": "Python 3 (ipykernel)",
   "language": "python",
   "name": "python3"
  },
  "language_info": {
   "codemirror_mode": {
    "name": "ipython",
    "version": 3
   },
   "file_extension": ".py",
   "mimetype": "text/x-python",
   "name": "python",
   "nbconvert_exporter": "python",
   "pygments_lexer": "ipython3",
   "version": "3.9.10"
  },
  "toc": {
   "base_numbering": 1,
   "nav_menu": {},
   "number_sections": false,
   "sideBar": true,
   "skip_h1_title": true,
   "title_cell": "Table of Contents",
   "title_sidebar": "Contents",
   "toc_cell": false,
   "toc_position": {},
   "toc_section_display": true,
   "toc_window_display": false
  },
  "varInspector": {
   "cols": {
    "lenName": 16,
    "lenType": 16,
    "lenVar": 40
   },
   "kernels_config": {
    "python": {
     "delete_cmd_postfix": "",
     "delete_cmd_prefix": "del ",
     "library": "var_list.py",
     "varRefreshCmd": "print(var_dic_list())"
    },
    "r": {
     "delete_cmd_postfix": ") ",
     "delete_cmd_prefix": "rm(",
     "library": "var_list.r",
     "varRefreshCmd": "cat(var_dic_list()) "
    }
   },
   "types_to_exclude": [
    "module",
    "function",
    "builtin_function_or_method",
    "instance",
    "_Feature"
   ],
   "window_display": false
  }
 },
 "nbformat": 4,
 "nbformat_minor": 1
}
