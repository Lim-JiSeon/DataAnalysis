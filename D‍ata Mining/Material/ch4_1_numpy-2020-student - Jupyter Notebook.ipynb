{
 "cells": [
  {
   "cell_type": "markdown",
   "id": "8b0da053",
   "metadata": {},
   "source": [
    "# Introduction to Numpy\n",
    "Numpy, which stands for numerical Python, is a Python library package to support numerical computations. The\n",
    "basic data structure in numpy is a <b>multi-dimensional array object called ndarray</b>. Numpy provides a suite of\n",
    "functions that can <b>efficiently</b> manipulate elements of the ndarray."
   ]
  },
  {
   "cell_type": "markdown",
   "id": "e1280f5b",
   "metadata": {},
   "source": [
    "- To see the reference manual\n",
    "    - Help -> Numpy Reference\n",
    "    - or https://docs.scipy.org/doc/numpy/reference/?v=20190305121057 <br>\n",
    "        (https://docs.scipy.org/doc/numpy/reference/?v=20190305121057)\n",
    "- We will introduce basic building blocks of numpy.\n",
    "- To use a specific function, always try googling or help().\n",
    "- If you are an expert in numpy,\n",
    "    - you will learn SPARK RDD computing faster. (based on similar concepts)"
   ]
  },
  {
   "cell_type": "markdown",
   "id": "8bf7aad7",
   "metadata": {},
   "source": [
    "## Creating ndarray\n",
    "An ndarray can be created from a list or tuple object."
   ]
  },
  {
   "cell_type": "markdown",
   "id": "a5336d67",
   "metadata": {},
   "source": [
    "- numpy.array is just a convenience function to create an ndarray\n",
    "- numpy.ndarray is a class\n",
    "\n",
    "<b><i>Note:</i></b>\n",
    "- Tensor is \"something\" which can be represented as multidimensional array.\n",
    "- Tensorflow is a google product for deep learning.\n",
    "- For tensorflow coding, you must be very proficient in numpy n-dimensional array."
   ]
  },
  {
   "cell_type": "code",
   "execution_count": 1,
   "id": "bc947635",
   "metadata": {},
   "outputs": [],
   "source": [
    "import numpy"
   ]
  },
  {
   "cell_type": "code",
   "execution_count": 2,
   "id": "5c488330",
   "metadata": {},
   "outputs": [
    {
     "name": "stdout",
     "output_type": "stream",
     "text": [
      "[1. 2. 3. 4. 5.]\n",
      "#Dimensions = 1\n",
      "Dimension = (5,)\n",
      "Size = 5\n",
      "Array type = float64\n"
     ]
    }
   ],
   "source": [
    "import numpy as np\n",
    "\n",
    "oneDim = np.array([1.0,2,3,4,5]) # a 1-dimensional array (vector)\n",
    "print(oneDim)\n",
    "print(\"#Dimensions =\", oneDim.ndim) # numpy 차원 수 리턴\n",
    "print(\"Dimension =\", oneDim.shape)\n",
    "print(\"Size =\", oneDim.size)\n",
    "print(\"Array type =\", oneDim.dtype)"
   ]
  },
  {
   "cell_type": "markdown",
   "id": "c6e4ed57",
   "metadata": {},
   "source": [
    "numpy element has only one type like C array"
   ]
  },
  {
   "cell_type": "code",
   "execution_count": 3,
   "id": "7bcad6e6",
   "metadata": {},
   "outputs": [
    {
     "name": "stdout",
     "output_type": "stream",
     "text": [
      "[[1 2]\n",
      " [3 4]\n",
      " [5 6]\n",
      " [7 8]]\n",
      "#Dimensions = 2\n",
      "Dimension = (4, 2)\n",
      "Size = 8\n",
      "Array type = int32\n"
     ]
    }
   ],
   "source": [
    "twoDim = np.array([[1,2],[3,4],[5,6],[7,8]]) # a two-dimensional array (matrix)\n",
    "print(twoDim)\n",
    "print(\"#Dimensions =\", twoDim.ndim)\n",
    "print(\"Dimension =\", twoDim.shape)\n",
    "print(\"Size =\", twoDim.size)\n",
    "print(\"Array type =\", twoDim.dtype)"
   ]
  },
  {
   "cell_type": "code",
   "execution_count": 4,
   "id": "8d94b2df",
   "metadata": {},
   "outputs": [
    {
     "name": "stdout",
     "output_type": "stream",
     "text": [
      "[['1' 'a' '3.0']\n",
      " ['2' 'b' '3.5']]\n",
      "#Dimensions = 2\n",
      "Dimension = (2, 3)\n",
      "Size = 6\n",
      "Array type = <U32\n"
     ]
    }
   ],
   "source": [
    "arrFromTuple = np.array([(1,'a',3.0),(2,'b',3.5)]) # create ndarray from tuple ->type이 맞지 않으면 dtype= 타입 으로 타입을 정해주기\n",
    "print(arrFromTuple)\n",
    "print(\"#Dimensions =\", arrFromTuple.ndim)\n",
    "print(\"Dimension =\", arrFromTuple.shape)\n",
    "print(\"Size =\", arrFromTuple.size)\n",
    "print(\"Array type =\", arrFromTuple.dtype) # type이 일정하지 않기 때문에 유니코드로 나온다"
   ]
  },
  {
   "cell_type": "markdown",
   "id": "26cceca2",
   "metadata": {},
   "source": [
    "<U21 : little endian, Unicode"
   ]
  },
  {
   "cell_type": "code",
   "execution_count": 5,
   "id": "d130427b",
   "metadata": {},
   "outputs": [
    {
     "name": "stdout",
     "output_type": "stream",
     "text": [
      "(1,)\n",
      "(2,)\n",
      "(2, 1)\n",
      "(1, 2, 3)\n",
      "(1, 1, 1, 0)\n"
     ]
    }
   ],
   "source": [
    "# Guess what is printed\n",
    "print(np.array([1]).shape) # 1 -> 1\n",
    "print(np.array([1,2]).shape) # 1, 2 -> 2  \n",
    "print(np.array([[1],[2]]).shape) # [[1],[2]], 1 / 2 -> 2, 1\n",
    "print(np.array([[[1,2,3],[1,2,3]]]).shape) # [[1,2,3],[1,2,3]], [1,2,3],[1,2,3], 1,2,3 -> 1, 2, 3\n",
    "print(np.array([[[[]]]]).shape) # [[[]]], [[]], [], 0 -> 1, 1, 1, 0"
   ]
  },
  {
   "cell_type": "markdown",
   "id": "ae5fa46d",
   "metadata": {},
   "source": [
    "Python tuple <br>\n",
    "https://wiki.python.org/moin/TupleSyntax (https://wiki.python.org/moin/TupleSyntax) <br>\n",
    "Python tuple is defined by trailing comma, not by parenthesis 1, 1,2, 1,2,3, parenthesis is optional"
   ]
  },
  {
   "cell_type": "code",
   "execution_count": 6,
   "id": "1922dc46",
   "metadata": {},
   "outputs": [
    {
     "data": {
      "text/plain": [
       "True"
      ]
     },
     "execution_count": 6,
     "metadata": {},
     "output_type": "execute_result"
    }
   ],
   "source": [
    "(1,2) == (1,2,)"
   ]
  },
  {
   "cell_type": "markdown",
   "id": "4482ecd4",
   "metadata": {},
   "source": [
    "There are several built-in functions in numpy that can be used to create ndarrays"
   ]
  },
  {
   "cell_type": "code",
   "execution_count": 7,
   "id": "a09f2491",
   "metadata": {},
   "outputs": [
    {
     "name": "stdout",
     "output_type": "stream",
     "text": [
      "[0.0232381  0.49513093 0.61915733 0.51581185 0.80354878]\n",
      "[ 0.84016369  1.88727476 -1.05523087  0.48547538 -1.54604437]\n",
      "[-10  -8  -6  -4  -2   0   2   4   6   8]\n",
      "[[ 0  1  2  3]\n",
      " [ 4  5  6  7]\n",
      " [ 8  9 10 11]]\n",
      "[0.         0.11111111 0.22222222 0.33333333 0.44444444 0.55555556\n",
      " 0.66666667 0.77777778 0.88888889 1.        ]\n",
      "[1.e-03 1.e-02 1.e-01 1.e+00 1.e+01 1.e+02 1.e+03]\n"
     ]
    }
   ],
   "source": [
    "print(np.random.rand(5))          # random numbers from a uniform distribution between [0,1] -> 5개를 고르는데 0~1 범위 안에서\n",
    "print(np.random.randn(5))         # random numbers from a normal distribution -> 정규분포에 따라서 고르는거\n",
    "print(np.arange(-10,10,2))        # similar to range, but returns ndarray instead of list -> = range\n",
    "print(np.arange(12).reshape(3,4)) # reshape to a matrix -> reshape 하면 row가 3, column이 4인 형태로 만들어준다.\n",
    "print(np.linspace(0,1,10))        # split interval [0,1] into 10 equally separated values -> 0~1 범위를 10등분\n",
    "print(np.logspace(-3,3,7))        # create ndarray with values from 10^-3 to 10^3 -> 10^(-3) ~ 10^(3) 범위를 7등분\n",
    "                                  # logspace returns numbers spaced evenly on a log scale."
   ]
  },
  {
   "cell_type": "code",
   "execution_count": 8,
   "id": "d801bbd8",
   "metadata": {},
   "outputs": [
    {
     "name": "stdout",
     "output_type": "stream",
     "text": [
      "[[0. 0. 0.]\n",
      " [0. 0. 0.]]\n",
      "[[1. 1.]\n",
      " [1. 1.]\n",
      " [1. 1.]]\n",
      "[[1. 0. 0.]\n",
      " [0. 1. 0.]\n",
      " [0. 0. 1.]]\n"
     ]
    }
   ],
   "source": [
    "print(np.zeros((2,3)))   # a matrix of zeros\n",
    "print(np.ones((3,2)))    # a matrix of ones\n",
    "print(np.eye(3))         # a 3 x 3 identity matrix"
   ]
  },
  {
   "cell_type": "markdown",
   "id": "29c6abd8",
   "metadata": {},
   "source": [
    "## Element-wise Operations\n",
    "You can apply standard operators such as addition and multiplication on each element of the ndarray"
   ]
  },
  {
   "cell_type": "code",
   "execution_count": 9,
   "id": "36e238db",
   "metadata": {},
   "outputs": [
    {
     "name": "stdout",
     "output_type": "stream",
     "text": [
      "[2 3 4 5 6]\n",
      "[0 1 2 3 4]\n",
      "[ 2  4  6  8 10]\n",
      "[0 1 1 2 2]\n",
      "[ 1  4  9 16 25]\n",
      "[1 0 1 0 1]\n",
      "[1.         0.5        0.33333333 0.25       0.2       ]\n"
     ]
    }
   ],
   "source": [
    "x = np.array([1,2,3,4,5])\n",
    "print(x + 1) # addition\n",
    "print(x - 1) # subtraction\n",
    "print(x * 2) # multiplication\n",
    "print(x // 2) # integer division\n",
    "print(x ** 2) # square\n",
    "print(x % 2) # modulo\n",
    "print(1 / x) # division"
   ]
  },
  {
   "cell_type": "code",
   "execution_count": 10,
   "id": "2f3b62f6",
   "metadata": {},
   "outputs": [
    {
     "name": "stdout",
     "output_type": "stream",
     "text": [
      "[ 3  6  9 12 15]\n",
      "[1 2 3 4 5]\n",
      "[ 2  8 18 32 50]\n",
      "[2. 2. 2. 2. 2.]\n",
      "[2 2 2 2 2]\n",
      "[     2     16    216   4096 100000]\n"
     ]
    }
   ],
   "source": [
    "x = np.array([2,4,6,8,10])\n",
    "y = np.array([1,2,3,4,5])\n",
    "print(x + y)\n",
    "print(x - y)\n",
    "print(x * y)\n",
    "print(x / y)\n",
    "print(x // y)\n",
    "print(x ** y)"
   ]
  },
  {
   "cell_type": "markdown",
   "id": "af143133",
   "metadata": {},
   "source": [
    "## Indexing and Slicing\n",
    "There are various ways to select certain elements with an ndarray."
   ]
  },
  {
   "cell_type": "code",
   "execution_count": 11,
   "id": "4b430b11",
   "metadata": {},
   "outputs": [
    {
     "name": "stdout",
     "output_type": "stream",
     "text": [
      "[-5 -4 -3 -2 -1  0  1  2  3  4]\n",
      "[-2 -1]\n",
      "[1000 1000]\n",
      "[  -5   -4   -3 1000 1000    0    1    2    3    4]\n",
      "[1000 1000]\n",
      "[500 500]\n",
      "[  -5   -4   -3 1000 1000    0    1    2    3    4]\n"
     ]
    }
   ],
   "source": [
    "# numpy array는 슬라이싱하면 포인터 값을 주기 떄문에 -> 즉 원본에 영향을 줌\n",
    "x = np.arange(-5,5)\n",
    "print(x)\n",
    "\n",
    "y = x[3:5] # y is a slice, i.e., pointer to a subarray in -> x 포인터를 줌\n",
    "print(y)\n",
    "y[:] = 1000 # modifying the value of y will change x -> 즉 y에 값을 달리하면 x의 값이 달라짐(원본이 달라짐)\n",
    "print(y)\n",
    "print(x)\n",
    "\n",
    "z = x[3:5].copy() # makes a copy of the subarray -> x의 값을 복제한것\n",
    "print(z)\n",
    "z[:] = 500 # modifying the value of z will not affect x -> 원본에 영향을 주지 않음\n",
    "print(z)\n",
    "print(x)"
   ]
  },
  {
   "cell_type": "markdown",
   "id": "5b3ea4a6",
   "metadata": {},
   "source": [
    "<b>Remark: slicing a list makes a copy of the sublist, but slicing numpy array does not.</b>"
   ]
  },
  {
   "cell_type": "code",
   "execution_count": 12,
   "id": "05ba435e",
   "metadata": {},
   "outputs": [
    {
     "name": "stdout",
     "output_type": "stream",
     "text": [
      "[-5, -4, -3, -2, -1, 0, 1, 2, 3, 4]\n",
      "[-2, -1]\n",
      "[-2, 1000]\n",
      "[-5, -4, -3, -2, -1, 0, 1, 2, 3, 4]\n"
     ]
    }
   ],
   "source": [
    "# 리스트는 슬라이싱하면 복제를 함 -> 즉 원본에 영향을 주지 않음\n",
    "# Remark slicing a list makes a copy of the sublist\n",
    "x = list(range(-5,5))\n",
    "print(x)\n",
    "\n",
    "y = x[3:5] # y is a slice, i.e., not a pointer to a list in x\n",
    "print(y)\n",
    "y[1] = 1000 # modifying the value of y does not change x\n",
    "print(y)\n",
    "print(x)"
   ]
  },
  {
   "cell_type": "code",
   "execution_count": 13,
   "id": "9fd8fc60",
   "metadata": {},
   "outputs": [
    {
     "name": "stdout",
     "output_type": "stream",
     "text": [
      "[[1, 2, 3, 4], [5, 6, 7, 8], [9, 10, 11, 12]]\n",
      "[9, 10, 11, 12]\n",
      "[9, 10, 11, 12]\n",
      "[[ 1  2  3  4]\n",
      " [ 5  6  7  8]\n",
      " [ 9 10 11 12]]\n",
      "[ 9 10 11 12]\n",
      "[ 9 10 11 12]\n",
      "[ 9 10 11 12]\n",
      "[ 3  7 11]\n",
      "[[3 4]\n",
      " [7 8]]\n",
      "[[ 3  4]\n",
      " [11 12]]\n"
     ]
    }
   ],
   "source": [
    "my2dlist = [[1,2,3,4],[5,6,7,8],[9,10,11,12]] # a 2-dim list\n",
    "print(my2dlist)\n",
    "print(my2dlist[2]) # access the third sublist\n",
    "print(my2dlist[:][2]) # can't access third element of each sublist\n",
    "# print(my2dlist[:,2]) # this will cause syntax error\n",
    "\n",
    "my2darr = np.array(my2dlist)\n",
    "print(my2darr)\n",
    "print(my2darr[2][:]) # access the third row\n",
    "print(my2darr[2,:]) # access the third row\n",
    "print(my2darr[:][2]) # access the third row (similar to 2d list); Don't do this\n",
    "print(my2darr[:,2]) # access the third column\n",
    "print(my2darr[:2,2:]) # access the first two rows & last two columns\n",
    "print(my2darr[::2,2:]) # applying skipper\n",
    "\n",
    "# numpy array : [row 접근, column 접근]"
   ]
  },
  {
   "cell_type": "markdown",
   "id": "28284279",
   "metadata": {},
   "source": [
    "### Remark again: It's indexing, not copying"
   ]
  },
  {
   "cell_type": "code",
   "execution_count": 14,
   "id": "d7d19917",
   "metadata": {},
   "outputs": [
    {
     "name": "stdout",
     "output_type": "stream",
     "text": [
      "[[ 1  2  3  4]\n",
      " [ 5  6  7  8]\n",
      " [ 9 10 11 12]]\n",
      "\n",
      "[[ 3  4]\n",
      " [11 12]]\n",
      "<class 'numpy.ndarray'>\n",
      "\n",
      "[[   1    2 1000 1000]\n",
      " [   5    6    7    8]\n",
      " [   9   10 1000 1000]]\n",
      "\n",
      "[[   1    2 2000 1000]\n",
      " [   5    6    7    8]\n",
      " [   9   10 1000 1000]]\n"
     ]
    }
   ],
   "source": [
    "my2darr = np.array([[1,2,3,4],[5,6,7,8],[9,10,11,12]]) # a 2-dim list\n",
    "print(my2darr)\n",
    "\n",
    "print()\n",
    "sliced = my2darr[::2,2:] # applying skipper\n",
    "print(sliced)\n",
    "print(type(sliced))\n",
    "\n",
    "print()\n",
    "sliced[:,:] = 1000\n",
    "print(my2darr)\n",
    "\n",
    "print()\n",
    "sliced[0,0] = 2000\n",
    "print(my2darr)"
   ]
  },
  {
   "cell_type": "markdown",
   "id": "86f77522",
   "metadata": {},
   "source": [
    "### ndarray also supports boolean indexing (also called masking)."
   ]
  },
  {
   "cell_type": "code",
   "execution_count": 15,
   "id": "64a6b605",
   "metadata": {},
   "outputs": [
    {
     "name": "stdout",
     "output_type": "stream",
     "text": [
      "[2 3]\n",
      "2\n",
      "\n",
      "[1 3]\n",
      "\n",
      "[3 2]\n",
      "[3 2 2 2 1]\n",
      "\n",
      "[0 0 0]\n"
     ]
    }
   ],
   "source": [
    "# slicing vs masking vs integer array indexing\n",
    "x = np.array([1,2,3])\n",
    "print(x[1:]) # slicing\n",
    "print(x[1:][0]) # slicing\n",
    "\n",
    "print()\n",
    "print(x[[True, False, True]]) # boolean masking 괄호 주의\n",
    "\n",
    "print()\n",
    "print(x[[2,1]]) # integer array indexing -> index로 접근\n",
    "print(x[[2,1,1,1,0]]) # integer array indexing\n",
    "\n",
    "print()\n",
    "x[[2,1,1,1,0]] = 0 # -> 원래 값이 바뀜\n",
    "print(x)"
   ]
  },
  {
   "cell_type": "code",
   "execution_count": 16,
   "id": "4c3a598e",
   "metadata": {},
   "outputs": [
    {
     "name": "stdout",
     "output_type": "stream",
     "text": [
      "[[False False False False False False False]\n",
      " [False False False False False False False]\n",
      " [False False False False False False False]\n",
      " [ True  True  True  True  True  True  True]\n",
      " [ True  True  True  True  True  True  True]]\n",
      "\n",
      "[21 22 23 24 25 26 27 28 29 30 31 32 33 34]\n",
      "\n",
      "[1000 1000 1000   24   25   26   27   28   29   30   31   32   33   34]\n",
      "[[ 0  1  2  3  4  5  6]\n",
      " [ 7  8  9 10 11 12 13]\n",
      " [14 15 16 17 18 19 20]\n",
      " [21 22 23 24 25 26 27]\n",
      " [28 29 30 31 32 33 34]]\n"
     ]
    }
   ],
   "source": [
    "# ~, & | 우선 순위가 높다. -> not and or 의미는 비슷하지만 우선순위는 그보다 높다(주의해서 사용)\n",
    "\n",
    "y = np.arange(35).reshape(5,7)\n",
    "b = y > 20\n",
    "print(b)\n",
    "\n",
    "print()\n",
    "t = y[b] # Filtering result is always one-dimensional; it's a copy; not indexing -> copy기 때문에 y의 값이 바뀌지 않음\n",
    "print(t)\n",
    "\n",
    "print()\n",
    "t[:3] = 1000\n",
    "print(t)\n",
    "print(y)"
   ]
  },
  {
   "cell_type": "markdown",
   "id": "f9992bfb",
   "metadata": {},
   "source": [
    "<b>LAB</b>: set to zero if the value is a even number in 2-d array"
   ]
  },
  {
   "cell_type": "code",
   "execution_count": 17,
   "id": "1622df2c",
   "metadata": {},
   "outputs": [
    {
     "data": {
      "text/plain": [
       "array([[ 0,  1,  2,  3,  4,  5,  6],\n",
       "       [ 7,  8,  9, 10, 11, 12, 13],\n",
       "       [14, 15, 16, 17, 18, 19, 20],\n",
       "       [21, 22, 23, 24, 25, 26, 27],\n",
       "       [28, 29, 30, 31, 32, 33, 34]])"
      ]
     },
     "execution_count": 17,
     "metadata": {},
     "output_type": "execute_result"
    }
   ],
   "source": [
    "M = np.arange(35).reshape(5,7)\n",
    "M"
   ]
  },
  {
   "cell_type": "code",
   "execution_count": 18,
   "id": "fab0017d",
   "metadata": {},
   "outputs": [
    {
     "data": {
      "text/plain": [
       "array([[ 0,  1,  0,  3,  0,  5,  0],\n",
       "       [ 7,  0,  9,  0, 11,  0, 13],\n",
       "       [ 0, 15,  0, 17,  0, 19,  0],\n",
       "       [21,  0, 23,  0, 25,  0, 27],\n",
       "       [ 0, 29,  0, 31,  0, 33,  0]])"
      ]
     },
     "execution_count": 18,
     "metadata": {},
     "output_type": "execute_result"
    }
   ],
   "source": [
    "M[M % 2 == 0] = 0\n",
    "M"
   ]
  },
  {
   "cell_type": "markdown",
   "id": "1b4ff5c7",
   "metadata": {},
   "source": [
    "<b>LAB</b>: Take negative if the value is a even number in 2-d array"
   ]
  },
  {
   "cell_type": "code",
   "execution_count": 19,
   "id": "028ffa37",
   "metadata": {},
   "outputs": [
    {
     "data": {
      "text/plain": [
       "array([[ 0,  1,  0,  3,  0,  5,  0],\n",
       "       [ 7,  0,  9,  0, 11,  0, 13],\n",
       "       [ 0, 15,  0, 17,  0, 19,  0],\n",
       "       [21,  0, 23,  0, 25,  0, 27],\n",
       "       [ 0, 29,  0, 31,  0, 33,  0]])"
      ]
     },
     "execution_count": 19,
     "metadata": {},
     "output_type": "execute_result"
    }
   ],
   "source": [
    "M[M % 2 == 0] = -M[M % 2 == 0]\n",
    "M"
   ]
  },
  {
   "cell_type": "code",
   "execution_count": 20,
   "id": "3e3cdcdb",
   "metadata": {},
   "outputs": [
    {
     "data": {
      "text/plain": [
       "array([[  0,  -1,   0,  -3,   0,  -5,   0],\n",
       "       [ -7,   0,  -9,   0, -11,   0, -13],\n",
       "       [  0, -15,   0, -17,   0, -19,   0],\n",
       "       [-21,   0, -23,   0, -25,   0, -27],\n",
       "       [  0, -29,   0, -31,   0, -33,   0]])"
      ]
     },
     "execution_count": 20,
     "metadata": {},
     "output_type": "execute_result"
    }
   ],
   "source": [
    "# First Boolean masking\n",
    "np.where(M % 2 == 0, M, -M) # where : true면 앞의 값 M을 리턴, false면 뒤의 값 -M 리턴"
   ]
  },
  {
   "cell_type": "code",
   "execution_count": 21,
   "id": "1d60963d",
   "metadata": {},
   "outputs": [
    {
     "data": {
      "image/png": "[encoded data removed]",
      "text/plain": [
       "<Figure size 432x288 with 1 Axes>"
      ]
     },
     "metadata": {
      "needs_background": "light"
     },
     "output_type": "display_data"
    }
   ],
   "source": [
    "# astype -> type을 바꿔줌 (예시문제)\n",
    "\n",
    "import numpy as np\n",
    "import matplotlib.pyplot as plt\n",
    "\n",
    "def step(x):\n",
    "    return (x > 0).astype(np.float64) # np.float \n",
    "\n",
    "t = np.linspace(-10,10,50)\n",
    "plt.plot(t, step(t))\n",
    "plt.show()"
   ]
  },
  {
   "cell_type": "markdown",
   "id": "d7dc5b4a",
   "metadata": {},
   "source": [
    "More indexing examples: <b>Integer array indexing</b>"
   ]
  },
  {
   "cell_type": "code",
   "execution_count": 22,
   "id": "5e5c8fc3",
   "metadata": {},
   "outputs": [
    {
     "name": "stdout",
     "output_type": "stream",
     "text": [
      "[[ 1  2  3]\n",
      " [ 4  5  6]\n",
      " [ 7  8  9]\n",
      " [10 11 12]]\n",
      "[[ 7  8  9]\n",
      " [ 4  5  6]\n",
      " [ 1  2  3]\n",
      " [10 11 12]]\n",
      "[ 1  3  4  8 12]\n"
     ]
    }
   ],
   "source": [
    "my2darr = np.arange(1,13,1).reshape(4,3)\n",
    "print(my2darr)\n",
    "\n",
    "indices = [2,1,0,3] # selected row indices\n",
    "print(my2darr[indices,:]) # indexing -> row 인덱스\n",
    "\n",
    "rowIndex = [0,0,1,2,3] # row index into my2darr\n",
    "columnIndex = [0,2,0,1,2] # column index into my2darr\n",
    "print(my2darr[rowIndex,columnIndex]) # element-wise -> [0][0], [0][2], [1][0] ... [3][2] :[row][col]"
   ]
  },
  {
   "cell_type": "markdown",
   "id": "f686566d",
   "metadata": {},
   "source": [
    "## Numpy Arithmetic and Statistical Functions\n",
    "There are many built-in mathematical functions available for manipulating elements of nd-array"
   ]
  },
  {
   "cell_type": "code",
   "execution_count": 23,
   "id": "bfbc6c71",
   "metadata": {},
   "outputs": [
    {
     "name": "stdout",
     "output_type": "stream",
     "text": [
      "[-1.4  0.4 -3.2  2.5  3.4]\n",
      "\n",
      "[1.4 0.4 3.2 2.5 3.4]\n",
      "[1.18321596 0.63245553 1.78885438 1.58113883 1.84390889]\n",
      "[-1.  1. -1.  1.  1.]\n",
      "[ 0.24659696  1.4918247   0.0407622  12.18249396 29.96410005]\n",
      "[-3.2 -1.4  0.4  2.5  3.4]\n",
      "[-1.4  0.4 -3.2  2.5  3.4]\n"
     ]
    }
   ],
   "source": [
    "y = np.array([-1.4, 0.4, -3.2, 2.5, 3.4]) # generate a random vector\n",
    "print(y)\n",
    "print()\n",
    "\n",
    "print(np.abs(y)) # convert to absolute values -> 절대값 \n",
    "print(np.sqrt(np.abs(y))) # apply square root to each element -> 제곱근\n",
    "print(np.sign(y)) # get the sign of each element -> 원소의 부호 판별\n",
    "print(np.exp(y)) # apply exponentiation: e^y -> e^x 값\n",
    "print(np.sort(y)) # sort array; return a sorted copy of an array -> copy해서 정렬(원본에 영향x)\n",
    "print(y)"
   ]
  },
  {
   "cell_type": "code",
   "execution_count": 24,
   "id": "2bbdc906",
   "metadata": {},
   "outputs": [
    {
     "data": {
      "image/png": "[encoded data removed]",
      "text/plain": [
       "<Figure size 432x288 with 1 Axes>"
      ]
     },
     "metadata": {
      "needs_background": "light"
     },
     "output_type": "display_data"
    }
   ],
   "source": [
    "# sigmoid\n",
    "\n",
    "def sigmoid(x):\n",
    "    return 1/(1 + np.exp(-x))\n",
    "\n",
    "t = np.linspace(-10,10,50)\n",
    "plt.plot(t, sigmoid(t))\n",
    "plt.show()"
   ]
  },
  {
   "cell_type": "code",
   "execution_count": 25,
   "id": "e9a7998e",
   "metadata": {},
   "outputs": [
    {
     "name": "stdout",
     "output_type": "stream",
     "text": [
      "[-2 -1  0  1  2]\n",
      "[-0.4870199   1.19567398 -0.59069572 -1.60745198  0.46696723]\n",
      "[-2.4870199   0.19567398 -0.59069572 -0.60745198  2.46696723]\n",
      "[-1.5129801  -2.19567398  0.59069572  2.60745198  1.53303277]\n",
      "[ 0.9740398  -1.19567398 -0.         -1.60745198  0.93393446]\n",
      "[ 4.10660836 -0.83634839 -0.         -0.62210256  4.28295577]\n",
      "[-0.4870199   1.19567398  0.          1.          2.        ]\n"
     ]
    }
   ],
   "source": [
    "x = np.arange(-2,3)\n",
    "y = np.random.randn(5)\n",
    "print(x)\n",
    "print(y)\n",
    "\n",
    "# function이 아니라 object다.\n",
    "print(np.add(x,y)) # element-wise addition x + y \n",
    "print(np.subtract(x,y)) # element-wise subtraction x - y\n",
    "print(np.multiply(x,y)) # element-wise multiplication x * y\n",
    "print(np.divide(x,y)) # element-wise division x / y\n",
    "print(np.maximum(x,y)) # element-wise maximum max(x,y)"
   ]
  },
  {
   "cell_type": "code",
   "execution_count": 26,
   "id": "5c98e296",
   "metadata": {},
   "outputs": [
    {
     "name": "stdout",
     "output_type": "stream",
     "text": [
      "[-3.2 -1.4  0.4  2.5  3.4]\n",
      "Min = -3.2\n",
      "Max = 3.4\n",
      "Average = 0.34000000000000014\n",
      "Std deviation = 2.432776191925595\n",
      "Sum = 1.7000000000000006\n"
     ]
    }
   ],
   "source": [
    "y = np.array([-3.2, -1.4, 0.4, 2.5, 3.4]) # generate a random vector\n",
    "print(y)\n",
    "\n",
    "print(\"Min =\", np.min(y)) # min : 최소값\n",
    "print(\"Max =\", np.max(y)) # max : 최대값\n",
    "print(\"Average =\", np.mean(y)) # mean/average : 평균\n",
    "print(\"Std deviation =\", np.std(y)) # standard deviation : 표준편차\n",
    "print(\"Sum =\", np.sum(y)) # sum : 합"
   ]
  },
  {
   "cell_type": "code",
   "execution_count": 27,
   "id": "a7d4b81b",
   "metadata": {},
   "outputs": [
    {
     "data": {
      "image/png": "[encoded data removed]",
      "text/plain": [
       "<Figure size 432x288 with 1 Axes>"
      ]
     },
     "metadata": {
      "needs_background": "light"
     },
     "output_type": "display_data"
    }
   ],
   "source": [
    "# ReLU\n",
    "\n",
    "def relu(x):\n",
    "    return np.maximum(0,x)\n",
    "\n",
    "t = np.linspace(-10,10,50)\n",
    "plt.plot(t, relu(t))\n",
    "plt.show()"
   ]
  },
  {
   "cell_type": "markdown",
   "id": "3a2eec22",
   "metadata": {},
   "source": [
    "### Universal method\n",
    "reduction and accumulation"
   ]
  },
  {
   "cell_type": "code",
   "execution_count": 28,
   "id": "233065b4",
   "metadata": {},
   "outputs": [
    {
     "name": "stdout",
     "output_type": "stream",
     "text": [
      "[[ 0  1  2  3  4]\n",
      " [ 5  6  7  8  9]\n",
      " [10 11 12 13 14]\n",
      " [15 16 17 18 19]]\n",
      "\n",
      "[30 34 38 42 46]\n",
      "[10 35 60 85]\n",
      "\n",
      "[[ 0  1  2  3  4]\n",
      " [ 5  7  9 11 13]\n",
      " [15 18 21 24 27]\n",
      " [30 34 38 42 46]]\n",
      "\n",
      "[[ 0  1  3  6 10]\n",
      " [ 5 11 18 26 35]\n",
      " [10 21 33 46 60]\n",
      " [15 31 48 66 85]]\n"
     ]
    }
   ],
   "source": [
    "t = np.arange(20).reshape(4,5)\n",
    "print(t, end='\\n\\n')\n",
    "print(np.add.reduce(t)) # default : axis = 0 즉 column방향으로 진행\n",
    "print(np.add.reduce(t, axis=-1), end='\\n\\n') # axis = -1 즉 row 방향으로 진행\n",
    "print(np.add.accumulate(t), end='\\n\\n') # 누적합, axis = 0 즉 column방향으로 진행\n",
    "print(np.add.accumulate(t, axis=-1)) # 누적합, axis = -1 즉 row 방향으로 진행"
   ]
  },
  {
   "cell_type": "markdown",
   "id": "8882a899",
   "metadata": {},
   "source": [
    "### More on filtering"
   ]
  },
  {
   "cell_type": "code",
   "execution_count": 29,
   "id": "9be8dfdc",
   "metadata": {},
   "outputs": [
    {
     "name": "stdout",
     "output_type": "stream",
     "text": [
      "[[ 0  1  2  3  4]\n",
      " [ 5  6  7  8  9]\n",
      " [10 11 12 13 14]\n",
      " [15 16 17 18 19]\n",
      " [20 21 22 23 24]]\n",
      "[ 1  3  5  7  9 11 13 15 17 19 21 23]\n",
      "[[4 0]\n",
      " [4 1]\n",
      " [4 2]\n",
      " [4 3]\n",
      " [4 4]]\n",
      "[[ 0  1  0  3  0]\n",
      " [ 5  0  7  0  9]\n",
      " [ 0 11  0 13  0]\n",
      " [15  0 17  0 19]\n",
      " [ 0 21  0 23  0]]\n"
     ]
    }
   ],
   "source": [
    "M = np.arange(25).reshape(5,5)\n",
    "print(M)\n",
    "print(M[M%2==1]) # filtering in general\n",
    "print(np.argwhere(M >= 20)) # indexes satisfying condition -> arg는 argument where의 조건을 참으로 만드는 argument를 찾음(인덱스)\n",
    "print(np.where(M % 2 == 1, M, 0)) # M, 0 is broadcast"
   ]
  },
  {
   "cell_type": "markdown",
   "id": "0b3d20e9",
   "metadata": {},
   "source": [
    "### New axis\n",
    "- Used to increase the dimension of the existing array by one more dimension\n",
    "- shape change, for example: n x (newaxis) x m ⇒ n x 1 x m"
   ]
  },
  {
   "cell_type": "code",
   "execution_count": 30,
   "id": "eb80c14c",
   "metadata": {},
   "outputs": [
    {
     "name": "stdout",
     "output_type": "stream",
     "text": [
      "(3,)\n",
      "(3, 1)\n",
      "(1, 3)\n"
     ]
    }
   ],
   "source": [
    "# x : axis = 0, y : axis = 1, z : axis = 2 ...\n",
    "\n",
    "t = np.array([1,2,3])\n",
    "print(t.shape)\n",
    "x = t[:, np.newaxis] # newaxis : 차원을 확장\n",
    "print(x.shape)\n",
    "y = t[np.newaxis, :]\n",
    "print(y.shape)"
   ]
  },
  {
   "cell_type": "code",
   "execution_count": 31,
   "id": "0096c4f4",
   "metadata": {},
   "outputs": [
    {
     "name": "stdout",
     "output_type": "stream",
     "text": [
      "[1 2 3]\n",
      "[[1]\n",
      " [2]\n",
      " [3]]\n",
      "[[1 2 3]]\n"
     ]
    }
   ],
   "source": [
    "print(t)\n",
    "print(x)\n",
    "print(y)"
   ]
  },
  {
   "cell_type": "markdown",
   "id": "5118ca8d",
   "metadata": {},
   "source": [
    "<b>x and y are broadcasted</b> (it is explained below)"
   ]
  },
  {
   "cell_type": "code",
   "execution_count": 32,
   "id": "d3aa3a6b",
   "metadata": {},
   "outputs": [
    {
     "data": {
      "text/plain": [
       "array([[2, 3, 4],\n",
       "       [3, 4, 5],\n",
       "       [4, 5, 6]])"
      ]
     },
     "execution_count": 32,
     "metadata": {},
     "output_type": "execute_result"
    }
   ],
   "source": [
    "# x -> 확장시키기\n",
    "# y -> 확장시키기\n",
    "'''\n",
    "x = 1 1 1\n",
    "    2 2 2\n",
    "    3 3 3\n",
    "    \n",
    "y = 1 2 3\n",
    "    1 2 3\n",
    "    1 2 3\n",
    "'''\n",
    "\n",
    "x + y"
   ]
  },
  {
   "cell_type": "code",
   "execution_count": 33,
   "id": "8641afd6",
   "metadata": {},
   "outputs": [
    {
     "name": "stdout",
     "output_type": "stream",
     "text": [
      "(2, 3, 1)\n",
      "[[[1]\n",
      "  [2]\n",
      "  [3]]\n",
      "\n",
      " [[4]\n",
      "  [5]\n",
      "  [6]]]\n",
      "\n",
      "(1, 2, 3)\n",
      "[[[1 2 3]\n",
      "  [4 5 6]]]\n",
      "\n",
      "[[[1 2 3]]\n",
      "\n",
      " [[4 5 6]]]\n"
     ]
    }
   ],
   "source": [
    "t = np.array([[1,2,3],[4,5,6]])\n",
    "print(t[:, :, np.newaxis].shape) # 2 x 3 x 1\n",
    "print(t[:, :, np.newaxis])\n",
    "print()\n",
    "\n",
    "print(t[np.newaxis, :, :].shape) # 1 x 2 x 3\n",
    "print(t[np.newaxis, :, :])\n",
    "\n",
    "print()\n",
    "print(t[:, np.newaxis, :]) # 2 x 1 x 3"
   ]
  },
  {
   "attachments": {
    "image.png": {
     "image/png": "[encoded data removed]"
    }
   },
   "cell_type": "markdown",
   "id": "d972419d",
   "metadata": {},
   "source": [
    "### n-d array axis view\n",
    "![image.png](attachment:image.png)"
   ]
  },
  {
   "cell_type": "markdown",
   "id": "0c3cfa03",
   "metadata": {},
   "source": [
    "## Broadcasting\n",
    "Broadcasting describes how numpy treats arrays with different shapes during arithmetic operations. Subject to certain constraints, the smaller array is “broadcast” across the larger array so that they have compatible shapes.\n",
    "\n",
    "##### Examples:\n",
    "    A (2d array): 5 x 4\n",
    "    B (1d array): 1\n",
    "    Result (2d array): 5 x 4\n",
    "    \n",
    "    A (2d array): 5 x 4\n",
    "    B (1d array): 4\n",
    "    Result (2d array): 5 x 4\n",
    "    \n",
    "    A (3d array): 15 x 3 x 5\n",
    "    B (3d array): 15 x 1 x 5\n",
    "    Result (3d array): 15 x 3 x 5\n",
    "    \n",
    "    A (3d array): 15 x 3 x 5\n",
    "    B (2d array): 3 x 5\n",
    "    Result (3d array): 15 x 3 x 5\n",
    "    \n",
    "    A (3d array): 15 x 3 x 5\n",
    "    B (2d array): 3 x 1\n",
    "    Result (3d array): 15 x 3 x 5"
   ]
  },
  {
   "cell_type": "code",
   "execution_count": 34,
   "id": "74f2ad86",
   "metadata": {},
   "outputs": [
    {
     "data": {
      "text/plain": [
       "array([[11, 12],\n",
       "       [13, 14]])"
      ]
     },
     "execution_count": 34,
     "metadata": {},
     "output_type": "execute_result"
    }
   ],
   "source": [
    "np.array([[1,2],[3,4]]) + np.array([[10]])"
   ]
  },
  {
   "cell_type": "code",
   "execution_count": 35,
   "id": "c193bd6b",
   "metadata": {},
   "outputs": [
    {
     "data": {
      "text/plain": [
       "array([[ 11, 102],\n",
       "       [ 13, 104]])"
      ]
     },
     "execution_count": 35,
     "metadata": {},
     "output_type": "execute_result"
    }
   ],
   "source": [
    "np.array([[1,2],[3,4]]) + np.array([[10,100]])"
   ]
  },
  {
   "cell_type": "code",
   "execution_count": 36,
   "id": "64e00f44",
   "metadata": {},
   "outputs": [
    {
     "name": "stdout",
     "output_type": "stream",
     "text": [
      "(1, 2) (2, 1)\n"
     ]
    },
    {
     "data": {
      "text/plain": [
       "array([[ 11,  12],\n",
       "       [101, 102]])"
      ]
     },
     "execution_count": 36,
     "metadata": {},
     "output_type": "execute_result"
    }
   ],
   "source": [
    "A = np.array([[1,2]])\n",
    "B = np.array([[10],[100]])\n",
    "print(A.shape, B.shape)\n",
    "C = A + B\n",
    "C"
   ]
  },
  {
   "cell_type": "code",
   "execution_count": 37,
   "id": "9aba5388",
   "metadata": {},
   "outputs": [
    {
     "data": {
      "text/plain": [
       "array([[1, 1, 1, 1, 1, 1, 1, 1, 1, 1],\n",
       "       [1, 1, 1, 1, 1, 1, 1, 1, 1, 1],\n",
       "       [1, 1, 1, 1, 1, 1, 1, 1, 1, 1]])"
      ]
     },
     "execution_count": 37,
     "metadata": {},
     "output_type": "execute_result"
    }
   ],
   "source": [
    "X = np.array([[1]]*3) + np.array([[0]*10])\n",
    "X"
   ]
  },
  {
   "cell_type": "code",
   "execution_count": 38,
   "id": "458e3262",
   "metadata": {},
   "outputs": [
    {
     "data": {
      "text/plain": [
       "array([[2, 3, 4],\n",
       "       [3, 4, 5],\n",
       "       [4, 5, 6]])"
      ]
     },
     "execution_count": 38,
     "metadata": {},
     "output_type": "execute_result"
    }
   ],
   "source": [
    "a = np.array([[1],[2],[3]]) # 3 x 1\n",
    "b = a.T # T = transpose 전치행렬 1 x 3 -> [1,2,3]\n",
    "a + b"
   ]
  },
  {
   "cell_type": "markdown",
   "id": "35f477cc",
   "metadata": {},
   "source": [
    "### Meshgrid\n",
    "Make D x N mesh grid for vectorized evaluations"
   ]
  },
  {
   "cell_type": "code",
   "execution_count": 39,
   "id": "e5a4adba",
   "metadata": {},
   "outputs": [
    {
     "data": {
      "text/plain": [
       "array([[15, 25, 35],\n",
       "       [16, 26, 36]])"
      ]
     },
     "execution_count": 39,
     "metadata": {},
     "output_type": "execute_result"
    }
   ],
   "source": [
    "\"\"\"\n",
    "6  *   *   *\n",
    "5  *   *   *            -> 이 좌표들을 x, y에 나누어 담는다. = Meshgrid\n",
    "   10  20  30 \n",
    "\"\"\"\n",
    "v = np.array([10,20,30]) # N\n",
    "w = np.array([5,6]) # D\n",
    "X, Y = np.meshgrid(v, w)\n",
    "X + Y"
   ]
  },
  {
   "cell_type": "markdown",
   "id": "a9fb9a61",
   "metadata": {},
   "source": [
    "## Axis ordering\n",
    "- By definition, the axis number of the dimension is the index of that dimension within the array's shape. It is also the position used to access that dimension during indexing.\n",
    "\n",
    "- For example, if a 2D array a has shape (5,6), then you can access a[0,0] up to a[4,5]. Axis 0 is thus the first dimension (the \"rows\"), and axis 1 is the second dimension (the \"columns\"). In higher dimensions, where \"row\" and \"column\" stop really making sense, try to think of the axes in terms of the shapes and indices involved.\n",
    "\n",
    "- If you do np.sum(axis=n), for example, then dimension n is collapsed and deleted, with each value in the new matrix equal to the sum of the corresponding collapsed values. For example, if b has shape (5,6,7,8), and you do c = b.sum(axis=2), then axis 2 (dimension with size 7) is collapsed, and the result has shape (5,6,8). Furthermore, c[x,y,z] is equal to the sum of all elements b[x,y,:,z]."
   ]
  },
  {
   "cell_type": "code",
   "execution_count": 40,
   "id": "bd02daad",
   "metadata": {},
   "outputs": [
    {
     "data": {
      "text/plain": [
       "(2, 3)"
      ]
     },
     "execution_count": 40,
     "metadata": {},
     "output_type": "execute_result"
    }
   ],
   "source": [
    "X = np.array([[0,0,0], [1,1,1]])\n",
    "X.shape\n",
    "# axis 0 is row; axis 1 is column"
   ]
  },
  {
   "cell_type": "code",
   "execution_count": 41,
   "id": "701276d7",
   "metadata": {},
   "outputs": [
    {
     "data": {
      "text/plain": [
       "array([1, 1, 1])"
      ]
     },
     "execution_count": 41,
     "metadata": {},
     "output_type": "execute_result"
    }
   ],
   "source": [
    "X.sum(axis=0) # dimension 0 is collapsed and deleted; or aggregated over dimension 0 -> row 방향 즉 위에서 아래 방향쪽으로 sum"
   ]
  },
  {
   "cell_type": "code",
   "execution_count": 42,
   "id": "1483982d",
   "metadata": {},
   "outputs": [
    {
     "data": {
      "text/plain": [
       "array([0, 3])"
      ]
     },
     "execution_count": 42,
     "metadata": {},
     "output_type": "execute_result"
    }
   ],
   "source": [
    "X.sum(axis=1) # dimension 1 is collapsed and deleted; or aggregated over dimension 0 > col 방향 즉 좌우 방향쪽으로 sum"
   ]
  },
  {
   "cell_type": "code",
   "execution_count": 43,
   "id": "bf0dec1a",
   "metadata": {},
   "outputs": [],
   "source": [
    "X = np.array(range(1,24+1)).reshape(2,3,4)"
   ]
  },
  {
   "cell_type": "code",
   "execution_count": 44,
   "id": "4fa53602",
   "metadata": {},
   "outputs": [
    {
     "data": {
      "text/plain": [
       "(2, 3, 4)"
      ]
     },
     "execution_count": 44,
     "metadata": {},
     "output_type": "execute_result"
    }
   ],
   "source": [
    "X.shape"
   ]
  },
  {
   "cell_type": "code",
   "execution_count": 45,
   "id": "2bf4368d",
   "metadata": {},
   "outputs": [
    {
     "data": {
      "text/plain": [
       "array([[[ 1,  2,  3,  4],\n",
       "        [ 5,  6,  7,  8],\n",
       "        [ 9, 10, 11, 12]],\n",
       "\n",
       "       [[13, 14, 15, 16],\n",
       "        [17, 18, 19, 20],\n",
       "        [21, 22, 23, 24]]])"
      ]
     },
     "execution_count": 45,
     "metadata": {},
     "output_type": "execute_result"
    }
   ],
   "source": [
    "X"
   ]
  },
  {
   "cell_type": "code",
   "execution_count": 46,
   "id": "95700fd2",
   "metadata": {},
   "outputs": [
    {
     "data": {
      "text/plain": [
       "array([[14, 16, 18, 20],\n",
       "       [22, 24, 26, 28],\n",
       "       [30, 32, 34, 36]])"
      ]
     },
     "execution_count": 46,
     "metadata": {},
     "output_type": "execute_result"
    }
   ],
   "source": [
    "X.sum(axis=0) # [] x 3 x 4"
   ]
  },
  {
   "cell_type": "code",
   "execution_count": 47,
   "id": "8830decb",
   "metadata": {},
   "outputs": [
    {
     "data": {
      "text/plain": [
       "array([[15, 18, 21, 24],\n",
       "       [51, 54, 57, 60]])"
      ]
     },
     "execution_count": 47,
     "metadata": {},
     "output_type": "execute_result"
    }
   ],
   "source": [
    "X.sum(axis=1) # 2 x [] x 4"
   ]
  },
  {
   "cell_type": "code",
   "execution_count": 48,
   "id": "0fe5b5b9",
   "metadata": {},
   "outputs": [
    {
     "data": {
      "text/plain": [
       "array([[10, 26, 42],\n",
       "       [58, 74, 90]])"
      ]
     },
     "execution_count": 48,
     "metadata": {},
     "output_type": "execute_result"
    }
   ],
   "source": [
    "X.sum(axis=2) # 2 x 3 x []"
   ]
  },
  {
   "cell_type": "code",
   "execution_count": 49,
   "id": "01c54401",
   "metadata": {},
   "outputs": [
    {
     "data": {
      "text/plain": [
       "array([ 78, 222])"
      ]
     },
     "execution_count": 49,
     "metadata": {},
     "output_type": "execute_result"
    }
   ],
   "source": [
    "X.sum(axis=(1,2)) # 2 x [] x []"
   ]
  },
  {
   "cell_type": "code",
   "execution_count": 50,
   "id": "c5018e44",
   "metadata": {},
   "outputs": [
    {
     "data": {
      "text/plain": [
       "300"
      ]
     },
     "execution_count": 50,
     "metadata": {},
     "output_type": "execute_result"
    }
   ],
   "source": [
    "X.sum(axis=(0,1,2)) # [] x [] x []"
   ]
  },
  {
   "cell_type": "code",
   "execution_count": 51,
   "id": "7b17e32a",
   "metadata": {},
   "outputs": [
    {
     "data": {
      "text/plain": [
       "1.7320508075688772"
      ]
     },
     "execution_count": 51,
     "metadata": {},
     "output_type": "execute_result"
    }
   ],
   "source": [
    "# Compute the distance between 2 3-d points X, Y\n",
    "X = np.array([0,0,0])\n",
    "Y = np.array([1,1,1])\n",
    "\n",
    "np.sqrt(np.sum((X - Y)**2))"
   ]
  },
  {
   "cell_type": "code",
   "execution_count": 52,
   "id": "bede100c",
   "metadata": {},
   "outputs": [
    {
     "name": "stdout",
     "output_type": "stream",
     "text": [
      "[[6 5 4]\n",
      " [3 2 1]]\n",
      "\n",
      "axis=0\n",
      " [[3 2 1]\n",
      " [6 5 4]]\n",
      "\n",
      "axis=-1\n",
      " [[4 5 6]\n",
      " [1 2 3]]\n",
      "\n",
      "default is -1\n",
      " [[4 5 6]\n",
      " [1 2 3]]\n",
      "\n",
      "axis=None\n",
      " [1 2 3 4 5 6]\n"
     ]
    }
   ],
   "source": [
    "import numpy as np\n",
    "X = np.array(np.arange(2*3, 0, -1).reshape(2,3))\n",
    "print(X)\n",
    "print()\n",
    "print(\"axis=0\\n\", np.sort(X, axis=0))\n",
    "print()\n",
    "print(\"axis=-1\\n\", np.sort(X, axis=-1))\n",
    "print()\n",
    "print(\"default is -1\\n\", np.sort(X)) # default : row 방향 sort\n",
    "print()\n",
    "print(\"axis=None\\n\", np.sort(X, axis=None)) # None : 하나의 리스트로 만들어서 sort"
   ]
  },
  {
   "cell_type": "markdown",
   "id": "8bfa6af4",
   "metadata": {},
   "source": [
    "<b>sort vs argsort vs partition vs argpartition</b>\n",
    "- argmin, argmax, ..."
   ]
  },
  {
   "cell_type": "code",
   "execution_count": 53,
   "id": "ea724292",
   "metadata": {},
   "outputs": [
    {
     "name": "stdout",
     "output_type": "stream",
     "text": [
      "X =\n",
      " [  4  10   1  20  45 100   2   1]\n",
      "sorted =\n",
      " [  1   1   2   4  10  20  45 100]\n",
      "argsorted =\n",
      " [2 7 6 0 1 3 4 5]\n",
      "partitioned first 3 =\n",
      " [  2   1   1   4  45 100  10  20]\n",
      "argpartitioned first 3 =\n",
      " [6 7 2 0 4 5 1 3]\n",
      "partitioned last 3=\n",
      " [  2   1   1   4  10  20  45 100]\n",
      "argpartitioned last 3=\n",
      " [6 7 2 0 1 3 4 5]\n"
     ]
    }
   ],
   "source": [
    "X = np.array([4,10,1,20,45,100,2,1])\n",
    "print('X =\\n', X)\n",
    "print('sorted =\\n', np.sort(X))\n",
    "print('argsorted =\\n', np.argsort(X)) # index의 값 리턴\n",
    "print('partitioned first 3 =\\n', np.partition(X, 3)) # 현재 값에서 index 3에 있는 값 미만은 왼쪽에 이상은 오른쪽에 배치\n",
    "print('argpartitioned first 3 =\\n', np.argpartition(X, 3)) # 위와 같으나 index의 값으로 배치\n",
    "print('partitioned last 3=\\n', np.partition(X, -3)) # -3에 위치한 값을 기준으로 배치\n",
    "print('argpartitioned last 3=\\n', np.argpartition(X, -3)) # -3에 위치한 값을 기준으로 index 배치"
   ]
  },
  {
   "cell_type": "markdown",
   "id": "a6a1a06a",
   "metadata": {},
   "source": [
    "<b>LAB</b>\n",
    "<br>sort 2-d array T along axis 0, sort key is the sum of elements along axis 1"
   ]
  },
  {
   "cell_type": "code",
   "execution_count": 54,
   "id": "5f841986",
   "metadata": {},
   "outputs": [
    {
     "data": {
      "text/plain": [
       "array([[ 0,  1],\n",
       "       [ 2,  2],\n",
       "       [-1, 10]])"
      ]
     },
     "execution_count": 54,
     "metadata": {},
     "output_type": "execute_result"
    }
   ],
   "source": [
    "T = np.array([[2,2],[-1,10],[0,1]])\n",
    "I = np.argsort(np.sum(T, axis=1)) # -> sum = [[4],[9],[1]] -> argsort = [2,0,1]\n",
    "T[I,:] # x에 [2,0,1] 대입"
   ]
  },
  {
   "cell_type": "markdown",
   "id": "55255278",
   "metadata": {},
   "source": [
    "## Vectorized function\n",
    "- similar to map function"
   ]
  },
  {
   "cell_type": "code",
   "execution_count": 55,
   "id": "0c0686de",
   "metadata": {},
   "outputs": [
    {
     "data": {
      "text/plain": [
       "array([100,   3,   3,   4])"
      ]
     },
     "execution_count": 55,
     "metadata": {},
     "output_type": "execute_result"
    }
   ],
   "source": [
    "u = np.array([100,2,3,4])\n",
    "v = np.array([1,2,3,4])\n",
    "w = np.array([4,3,2,1])\n",
    "np.vectorize(max)(u, v, w) # max : array 요소들 중 최대값들로 구성"
   ]
  },
  {
   "cell_type": "code",
   "execution_count": 56,
   "id": "7999b237",
   "metadata": {},
   "outputs": [
    {
     "data": {
      "text/plain": [
       "array([4.12310563, 3.60555128, 3.60555128, 4.12310563])"
      ]
     },
     "execution_count": 56,
     "metadata": {},
     "output_type": "execute_result"
    }
   ],
   "source": [
    "dist = np.vectorize(lambda x, y: np.sqrt(x**2 + y**2)) # 벡터 크기 \n",
    "dist(v, w)"
   ]
  },
  {
   "cell_type": "markdown",
   "id": "6ae348be",
   "metadata": {},
   "source": [
    "## Numpy linear algebra\n",
    "Numpy provides many functions to support linear algebra operations."
   ]
  },
  {
   "cell_type": "code",
   "execution_count": 57,
   "id": "c4473a50",
   "metadata": {},
   "outputs": [
    {
     "name": "stdout",
     "output_type": "stream",
     "text": [
      "[[-0.493283   -1.86524261 -2.28986918]\n",
      " [ 0.61864617  0.67779181 -0.56356332]]\n",
      "[[-0.493283    0.61864617]\n",
      " [-1.86524261  0.67779181]\n",
      " [-2.28986918 -0.56356332]]\n",
      "[ 0.59603938 -0.55404563  0.42774168]\n",
      "[-0.24005907 -0.24784963]\n",
      "[-0.24005907 -0.24784963]\n",
      "[[ 8.96595899 -0.27892753]\n",
      " [-0.27892753  1.15972844]]\n",
      "[[0.62605121 1.33940579 0.78090725]\n",
      " [1.33940579 3.93853175 3.88918297]\n",
      " [0.78090725 3.88918297 5.56110448]]\n"
     ]
    }
   ],
   "source": [
    "X = np.random.randn(2,3) # create a 2 x 3 random matrix\n",
    "print(X)\n",
    "print(X.T) # matrix transpose operation X^T -> 3 x 2\n",
    "\n",
    "y = np.random.randn(3) # random vector\n",
    "print(y)\n",
    "print(X.dot(y)) # matrix-vector multiplication X * y : 내적\n",
    "print(np.dot(X,y))\n",
    "print(X.dot(X.T)) # matrix-matrix multiplication X * X^T : 2 x 3 <=> 3 x 2 -> 2 x 2\n",
    "print(X.T.dot(X)) # matrix-matrix multiplication X^T * X : 3 x 2 <=> 2 x 3 -> 3 x 3"
   ]
  },
  {
   "cell_type": "markdown",
   "id": "02cae215",
   "metadata": {},
   "source": [
    "### inv, det, eig\n",
    "\n",
    "C = [[2, 5],\n",
    "     [1, 3]]    일때\n",
    "\n",
    "\n",
    "- np.linalg.inv(C)\n",
    "                1                [[3, -5],           [[3, -5],\n",
    "        ________________   x      -1, 2]]     =        -1, 2]]     (대각선으로 값이 바뀌고, 우하단 대각선 값들은 부호 반대)\n",
    "        (2 x 3) - (5 x 1)                  \n",
    "- np.linalg.det(C)\n",
    "        \n",
    "        (2 x 3) - (5 x 1) = 6 - 5 = 1 (대각선)\n",
    "    \n",
    "- np.linalg.eig(C)\n",
    "\n",
    "        C x v = u \n",
    "        v = 고유벡터\n",
    "        u = 고유값\n",
    "        eig -> 고유값과 고유벡터를 리턴"
   ]
  },
  {
   "cell_type": "code",
   "execution_count": 58,
   "id": "f37d4d93",
   "metadata": {},
   "outputs": [
    {
     "name": "stdout",
     "output_type": "stream",
     "text": [
      "[[-1.04737154  0.92314654  0.37607787]\n",
      " [-0.60067594  0.44768388 -0.39100702]\n",
      " [ 1.09409601  2.13381756  0.21166601]\n",
      " [-0.200616    0.45252519  1.70032595]\n",
      " [ 1.34150061 -0.95433992 -1.06658936]]\n",
      "[[ 0.26657514 -0.03292962  0.12189324]\n",
      " [-0.03292962  0.18958369 -0.11746476]\n",
      " [ 0.12189324 -0.11746476  0.34121275]]\n",
      "88.3214754751174\n",
      "[2.09413438 4.92339873 8.56636862]\n",
      "[[ 0.50702518  0.81298588  0.28632048]\n",
      " [-0.37465328  0.50703511 -0.77624115]\n",
      " [ 0.77624763 -0.2863029  -0.56166739]]\n"
     ]
    }
   ],
   "source": [
    "X = np.random.randn(5,3)\n",
    "print(X)\n",
    "\n",
    "C = X.T.dot(X) # C = X^T * X is a square matrix -> 3 x 3\n",
    "\n",
    "invC = np.linalg.inv(C) # inverse of a square matrix  -> C^(-1)\n",
    "print(invC)\n",
    "detC = np.linalg.det(C) # determinant of a square matrix \n",
    "print(detC)\n",
    "S, U = np.linalg.eig(C) # eigenvalue S and eigenvector U of a square matrix\n",
    "print(S)\n",
    "print(U)"
   ]
  },
  {
   "cell_type": "markdown",
   "id": "14b6b8fd",
   "metadata": {},
   "source": [
    "### The Frobenius norm\n",
    "https://docs.scipy.org/doc/numpy/reference/generated/numpy.linalg.norm.html\n",
    "<br>(https://docs.scipy.org/doc/numpy/reference/generated/numpy.linalg.norm.html)"
   ]
  },
  {
   "cell_type": "code",
   "execution_count": 59,
   "id": "cb5923b2",
   "metadata": {},
   "outputs": [
    {
     "name": "stdout",
     "output_type": "stream",
     "text": [
      "2.23606797749979\n",
      "3.0\n",
      "2.0\n",
      "1.0\n"
     ]
    }
   ],
   "source": [
    "# norm = (|x1|^n + |x2|^n + ... + |xn|^n)^(1/n)\n",
    "X = np.array([1,2])\n",
    "print(np.linalg.norm(X)) # 2-norm = 5(^0.5) 벡터의 크기 -> n 이 2 일때 \n",
    "print(np.linalg.norm(X, ord=1)) # 1-norm -> n 이 1일때 즉 = (|x1| + ... +|xn|) -> 1 + 2 = 3\n",
    "print(np.linalg.norm(X, ord=np.inf)) # inf-norm -> 요소 값들 중 최대값\n",
    "print(np.linalg.norm(X, ord=-np.inf)) # -inf-norm -> 요소 값들 중 최소값"
   ]
  },
  {
   "cell_type": "code",
   "execution_count": 60,
   "id": "beabf7e0",
   "metadata": {},
   "outputs": [
    {
     "name": "stdout",
     "output_type": "stream",
     "text": [
      "cosine = 0.0\n",
      "cosine = 0.0\n"
     ]
    }
   ],
   "source": [
    "import math\n",
    "x = np.array([1,0])\n",
    "y = np.array([0,1]) \n",
    "print(\"cosine =\", x.dot(y) / (math.sqrt((x.dot(x))) * math.sqrt((y.dot(y))))) # x 내적 y / |x|*|y| -> 직각 = 0\n",
    "print(\"cosine =\", x.dot(y) / (np.linalg.norm(x) * np.linalg.norm(y))) # x 내적 y / |x|*|y| -> 직각 = 0"
   ]
  },
  {
   "cell_type": "markdown",
   "id": "24f93739",
   "metadata": {},
   "source": [
    "### LAB: distance matrix"
   ]
  },
  {
   "cell_type": "markdown",
   "id": "e715e060",
   "metadata": {},
   "source": [
    "<b>In case of 1-d points</b>"
   ]
  },
  {
   "cell_type": "code",
   "execution_count": 61,
   "id": "c4b6f5ea",
   "metadata": {},
   "outputs": [
    {
     "data": {
      "text/plain": [
       "array([[0., 1., 2., 3., 4.],\n",
       "       [1., 0., 1., 2., 3.],\n",
       "       [2., 1., 0., 1., 2.],\n",
       "       [3., 2., 1., 0., 1.],\n",
       "       [4., 3., 2., 1., 0.]])"
      ]
     },
     "execution_count": 61,
     "metadata": {},
     "output_type": "execute_result"
    }
   ],
   "source": [
    "pts = np.array([1.,2,3,4,5])\n",
    "u = pts[:, np.newaxis] # u = 5 x 1 \n",
    "v = pts.T[np.newaxis, :] # v = 1 x 5\n",
    "np.abs(u - v) # -> 5 x 5 "
   ]
  },
  {
   "cell_type": "markdown",
   "id": "7acb8628",
   "metadata": {},
   "source": [
    "<b>In case of n-d points</b>"
   ]
  },
  {
   "cell_type": "code",
   "execution_count": 62,
   "id": "22814182",
   "metadata": {},
   "outputs": [
    {
     "name": "stdout",
     "output_type": "stream",
     "text": [
      "(3, 2)\n"
     ]
    }
   ],
   "source": [
    "pts = np.array([[1,0], [1,1], [0,1]]) # 2-d points\n",
    "print(pts.shape)\n",
    "u = pts[:, :, np.newaxis] # 3, 2, 1\n",
    "v = pts.T[np.newaxis, :, :] # 1, 2, 3"
   ]
  },
  {
   "cell_type": "code",
   "execution_count": 63,
   "id": "17a6362c",
   "metadata": {},
   "outputs": [
    {
     "name": "stdout",
     "output_type": "stream",
     "text": [
      "(1, 2, 3)\n",
      "(3, 2, 1)\n"
     ]
    }
   ],
   "source": [
    "print(v.shape)\n",
    "print(u.shape)"
   ]
  },
  {
   "cell_type": "code",
   "execution_count": 64,
   "id": "b2836e06",
   "metadata": {},
   "outputs": [
    {
     "data": {
      "text/plain": [
       "array([[0.        , 1.        , 1.41421356],\n",
       "       [1.        , 0.        , 1.        ],\n",
       "       [1.41421356, 1.        , 0.        ]])"
      ]
     },
     "execution_count": 64,
     "metadata": {},
     "output_type": "execute_result"
    }
   ],
   "source": [
    "np.sqrt(np.sum((u - v)**2, axis=1))"
   ]
  },
  {
   "cell_type": "code",
   "execution_count": 65,
   "id": "a612ed2a",
   "metadata": {},
   "outputs": [
    {
     "data": {
      "text/plain": [
       "array([[0.        , 1.        , 1.41421356],\n",
       "       [1.        , 0.        , 1.        ],\n",
       "       [1.41421356, 1.        , 0.        ]])"
      ]
     },
     "execution_count": 65,
     "metadata": {},
     "output_type": "execute_result"
    }
   ],
   "source": [
    "np.linalg.norm(u - v, axis=1) # universal function"
   ]
  },
  {
   "cell_type": "markdown",
   "id": "03cd3b1c",
   "metadata": {},
   "source": [
    "- In your real application, use <b>sklearn.metrics.pairwise</b> to compute pairwise distances"
   ]
  },
  {
   "cell_type": "code",
   "execution_count": 66,
   "id": "0297375a",
   "metadata": {
    "scrolled": true
   },
   "outputs": [
    {
     "data": {
      "text/plain": [
       "' OSError\\nfrom sklearn.metrics.pairwise import euclidean_distances, manhattan_distances, cosine_sim\\n\\nprint(euclidean_distances(pts))\\nprint(manhattan_distances(pts))\\nprint(cosine_similarity(pts))\\n'"
      ]
     },
     "execution_count": 66,
     "metadata": {},
     "output_type": "execute_result"
    }
   ],
   "source": [
    "\"\"\" OSError\n",
    "from sklearn.metrics.pairwise import euclidean_distances, manhattan_distances, cosine_sim\n",
    "\n",
    "print(euclidean_distances(pts))\n",
    "print(manhattan_distances(pts))\n",
    "print(cosine_similarity(pts))\n",
    "\"\"\""
   ]
  },
  {
   "cell_type": "code",
   "execution_count": 67,
   "id": "7dc2beae",
   "metadata": {},
   "outputs": [
    {
     "data": {
      "text/plain": [
       "'\\nresult\\n\\n[[0. 1. 1.41421356]\\n [1. 0. 1. ]\\n [1.41421356 1. 0. ]]\\n[[0. 1. 2.]\\n [1. 0. 1.]\\n [2. 1. 0.]]\\n[[1. 0.70710678 0. ]\\n [0.70710678 1. 0.70710678]\\n [0. 0.70710678 1. ]]\\n'"
      ]
     },
     "execution_count": 67,
     "metadata": {},
     "output_type": "execute_result"
    }
   ],
   "source": [
    "\"\"\"\n",
    "result\n",
    "\n",
    "[[0. 1. 1.41421356]\n",
    " [1. 0. 1. ]\n",
    " [1.41421356 1. 0. ]]\n",
    "[[0. 1. 2.]\n",
    " [1. 0. 1.]\n",
    " [2. 1. 0.]]\n",
    "[[1. 0.70710678 0. ]\n",
    " [0.70710678 1. 0.70710678]\n",
    " [0. 0.70710678 1. ]]\n",
    "\"\"\""
   ]
  },
  {
   "cell_type": "markdown",
   "id": "95f74adf",
   "metadata": {},
   "source": [
    "- If you define your own distance"
   ]
  },
  {
   "cell_type": "code",
   "execution_count": 68,
   "id": "d3d13fda",
   "metadata": {},
   "outputs": [
    {
     "data": {
      "text/plain": [
       "' OSError\\nfrom sklearn.metrics.pairwise import pairwise_distances\\n\\ninf_dist = lambda x, y : np.max(np.abs(x - y))\\nprint(pairwise_distances(pts, metric=inf_dist))\\n'"
      ]
     },
     "execution_count": 68,
     "metadata": {},
     "output_type": "execute_result"
    }
   ],
   "source": [
    "\"\"\" OSError\n",
    "from sklearn.metrics.pairwise import pairwise_distances\n",
    "\n",
    "inf_dist = lambda x, y : np.max(np.abs(x - y))\n",
    "print(pairwise_distances(pts, metric=inf_dist))\n",
    "\"\"\""
   ]
  },
  {
   "cell_type": "code",
   "execution_count": 69,
   "id": "09c02053",
   "metadata": {},
   "outputs": [
    {
     "data": {
      "text/plain": [
       "'\\nresult\\n\\n[[0. 1. 1.]\\n [1. 0. 1.]\\n [1. 1. 0.]]\\n'"
      ]
     },
     "execution_count": 69,
     "metadata": {},
     "output_type": "execute_result"
    }
   ],
   "source": [
    "\"\"\"\n",
    "result\n",
    "\n",
    "[[0. 1. 1.]\n",
    " [1. 0. 1.]\n",
    " [1. 1. 0.]]\n",
    "\"\"\""
   ]
  }
 ],
 "metadata": {
  "kernelspec": {
   "display_name": "Python 3 (ipykernel)",
   "language": "python",
   "name": "python3"
  },
  "language_info": {
   "codemirror_mode": {
    "name": "ipython",
    "version": 3
   },
   "file_extension": ".py",
   "mimetype": "text/x-python",
   "name": "python",
   "nbconvert_exporter": "python",
   "pygments_lexer": "ipython3",
   "version": "3.9.10"
  }
 },
 "nbformat": 4,
 "nbformat_minor": 5
}
