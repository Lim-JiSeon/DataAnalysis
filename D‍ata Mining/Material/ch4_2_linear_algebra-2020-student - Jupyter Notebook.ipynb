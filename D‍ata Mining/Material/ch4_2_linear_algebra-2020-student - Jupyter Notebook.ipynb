{
 "cells": [
  {
   "cell_type": "markdown",
   "id": "cf3b61ec",
   "metadata": {},
   "source": [
    "# 4. Linear Algebra"
   ]
  },
  {
   "cell_type": "markdown",
   "id": "cd4d4fbf",
   "metadata": {},
   "source": [
    "- Linear algebra is the branch of mathematics that deals with vector spaces.\n",
    "- It underpins a large number of data science concepts and techniques"
   ]
  },
  {
   "cell_type": "code",
   "execution_count": 1,
   "id": "7e137468",
   "metadata": {},
   "outputs": [],
   "source": [
    "import re, math, random # regexes, math functions, random numbers\n",
    "import matplotlib.pyplot as plt # pyplot\n",
    "from collections import defaultdict, Counter\n",
    "from functools import partial, reduce"
   ]
  },
  {
   "cell_type": "markdown",
   "id": "005250a2",
   "metadata": {},
   "source": [
    "## Vectors\n",
    "- Vectors are points in some finite-dimensional space.\n",
    "- Think of your data as vectors\n",
    "- A good way to represent numeric data\n",
    "\n",
    "- three-dimensional vectors (height, weight, age)\n",
    "- student grades as four-dimensional vectors (exam1, exam2, exam3, exam4)\n",
    "- A list of three numbers corresponds to a vector in three-dimensional space\n",
    "\n",
    "    ```python\n",
    "    height_weight_age = [70, # inches,\n",
    "                         170, # pounds,\n",
    "                         40 ] # years\n",
    "    grades = [95, # exam1\n",
    "              80, # exam2\n",
    "              75, # exam3\n",
    "              62 ] # exam4\n",
    "    ```"
   ]
  },
  {
   "cell_type": "markdown",
   "id": "985626f1",
   "metadata": {},
   "source": [
    "### Arithmetic on vectors\n",
    "- We will define vector operations\n",
    "- Imagine these python codes as mathematical defintions <b>for explanation</b>\n",
    "- Lists are terrible in performance\n",
    "- Must use <b>numpy arrays</b> in real applications with large data"
   ]
  },
  {
   "cell_type": "markdown",
   "id": "378be171",
   "metadata": {},
   "source": [
    "<b>Adding two vectors</b>"
   ]
  },
  {
   "cell_type": "code",
   "execution_count": 2,
   "id": "83681594",
   "metadata": {},
   "outputs": [
    {
     "data": {
      "image/png": "[encoded data removed]",
      "text/plain": [
       "<Figure size 360x360 with 1 Axes>"
      ]
     },
     "metadata": {
      "needs_background": "light"
     },
     "output_type": "display_data"
    }
   ],
   "source": [
    "%matplotlib inline\n",
    "import numpy as np\n",
    "import matplotlib.pyplot as plt\n",
    "\n",
    "plt.figure(figsize=(5,5))\n",
    "plt.axis([0,4,0,4])\n",
    "\n",
    "v = np.array([1,2])\n",
    "w = np.array([2,1])\n",
    "plt.arrow(0, 0, v[0], v[1], head_width=0.05, head_length=0.1, fc='b', ec='b')\n",
    "plt.arrow(0, 0, w[0], w[1], head_width=0.05, head_length=0.1, fc='g', ec='g')\n",
    "plt.arrow(v[0], v[1], w[0], w[1], head_width=0.05, head_length=0.1, fc='g', ec='g')\n",
    "plt.arrow(0, 0, v[0]+w[0], v[1]+w[1], head_width=0.20, head_length=0.1, fc='r', ec='r')\n",
    "offset=np.array([-0.2,-0.2])\n",
    "plt.annotate('v', xy=v+offset)\n",
    "plt.annotate('w', xy=w+offset)\n",
    "plt.annotate('v+w', xy=v+w+offset)\n",
    "plt.show()"
   ]
  },
  {
   "cell_type": "code",
   "execution_count": 3,
   "id": "54cd60eb",
   "metadata": {},
   "outputs": [],
   "source": [
    "def vector_add(v, w):\n",
    "    \"\"\"adds two vectors componentwise\"\"\"\n",
    "    return [v_i + w_i for v_i, w_i in zip(v,w)]"
   ]
  },
  {
   "cell_type": "markdown",
   "id": "d031ac1d",
   "metadata": {},
   "source": [
    "- Adding two vectors\n",
    "<img src=\"img/vector_add.png\" width=400>"
   ]
  },
  {
   "cell_type": "code",
   "execution_count": 4,
   "id": "72cbd146",
   "metadata": {},
   "outputs": [],
   "source": [
    "def vector_subtract(v, w): # 벡터 차\n",
    "    \"\"\"subtracts two vectors componentwise\"\"\"\n",
    "    return [v_i - w_i for v_i, w_i in zip(v,w)]\n",
    "\n",
    "def vector_sum(vectors): # 벡터 합 -> add 를 계속 reduce\n",
    "     return reduce(vector_add, vectors)\n",
    "\n",
    "def scalar_multiply(c, v): # 벡터 크기 * 스칼라 곱\n",
    "     return [c * v_i for v_i in v]\n",
    "\n",
    "def vector_mean(vectors): # 벡터의 centroid\n",
    "    \"\"\"compute the vector whose i-th element is the mean of the\n",
    "    i-th elements of the input vectors\"\"\"\n",
    "    n = len(vectors)\n",
    "    return scalar_multiply(1/n, vector_sum(vectors))"
   ]
  },
  {
   "cell_type": "markdown",
   "id": "f2d8a88f",
   "metadata": {},
   "source": [
    "<b>numpy version</b>"
   ]
  },
  {
   "cell_type": "code",
   "execution_count": 5,
   "id": "5548f22b",
   "metadata": {},
   "outputs": [
    {
     "name": "stdout",
     "output_type": "stream",
     "text": [
      "[1 1 0]\n",
      "[ 1 -1  0]\n",
      "[2 2 1]\n",
      "[10  0  0]\n",
      "[0.66666667 0.66666667 0.33333333]\n"
     ]
    }
   ],
   "source": [
    "# numpy version\n",
    "import numpy as np\n",
    "\n",
    "u = np.array([1,1,1])\n",
    "v = np.array([1,0,0])\n",
    "w = np.array([0,1,0])\n",
    "print(v + w) # vector_add\n",
    "print(v - w) # vector_subtract\n",
    "vs = np.array([u ,v, w]) # vectors\n",
    "print(np.sum(vs, axis=0)) # vector_sum\n",
    "print(10 * v) # scalar_multiply\n",
    "print(np.mean(vs, axis=0)) # vector_mean"
   ]
  },
  {
   "cell_type": "code",
   "execution_count": 6,
   "id": "df99b4bf",
   "metadata": {},
   "outputs": [],
   "source": [
    "def dot(v, w): # 내적 \n",
    "    \"\"\"v_1 * w_1 + ... + v_n * w_n\"\"\"\n",
    "    return sum(v_i * w_i for v_i, w_i in zip(v, w))\n",
    "\n",
    "def sum_of_squares(v):\n",
    "    \"\"\"v_1 * v_1 + ... + v_n * v_n\"\"\"\n",
    "    return dot(v, v)\n",
    "\n",
    "def magnitude(v): # distance\n",
    "     return math.sqrt(sum_of_squares(v))"
   ]
  },
  {
   "cell_type": "markdown",
   "id": "f27a10bb",
   "metadata": {},
   "source": [
    "<b>numpy version</b>"
   ]
  },
  {
   "cell_type": "code",
   "execution_count": 7,
   "id": "29856c6f",
   "metadata": {},
   "outputs": [
    {
     "name": "stdout",
     "output_type": "stream",
     "text": [
      "0\n",
      "0\n",
      "1\n",
      "1.0\n",
      "1.0\n"
     ]
    }
   ],
   "source": [
    "v = np.array([1,0,0])\n",
    "w = np.array([0,1,0])\n",
    "print(np.dot(v,w)) # dot\n",
    "print(v.dot(w)) # dot\n",
    "print(np.dot(v,v)) # sum_of_squares\n",
    "print(np.sqrt(np.dot(v,v))) # magnitude\n",
    "print(np.linalg.norm(v)) # magnitude"
   ]
  },
  {
   "attachments": {
    "image.png": {
     "image/png": "[encoded data removed]"
    }
   },
   "cell_type": "markdown",
   "id": "595d388a",
   "metadata": {},
   "source": [
    "### Dot product as vector projection\n",
    "- 𝐯's projection on 𝐰: 𝐯1\n",
    "\n",
    "![image.png](attachment:image.png)"
   ]
  },
  {
   "attachments": {
    "image-2.png": {
     "image/png": "[encoded data removed]"
    },
    "image-3.png": {
     "image/png": "[encoded data removed]"
    },
    "image.png": {
     "image/png": "[encoded data removed]"
    }
   },
   "cell_type": "markdown",
   "id": "9aaf5296",
   "metadata": {},
   "source": [
    "- Euclidean Distance between two vectors:\n",
    "\n",
    "    ![image.png](attachment:image.png)\n",
    "\n",
    "- Manhattan distance\n",
    "\n",
    "    ![image-2.png](attachment:image-2.png)\n",
    "\n",
    "- Cosine similarity\n",
    "\n",
    "    ![image-3.png](attachment:image-3.png)\n",
    "\n",
    "Proof(https://proofwiki.org/wiki/Cosine_Formula_for_Dot_Product)"
   ]
  },
  {
   "cell_type": "code",
   "execution_count": 8,
   "id": "53b069d4",
   "metadata": {},
   "outputs": [],
   "source": [
    "def squared_distance(v, w):\n",
    "     return sum_of_squares(vector_subtract(v, w))\n",
    "\n",
    "def distance(v, w):\n",
    "     return math.sqrt(squared_distance(v, w))\n",
    "\n",
    "def manhattan_distance(v, w):\n",
    "     return sum(math.fabs(v_i - w_i) for v_i, w_i in zip(v, w))"
   ]
  },
  {
   "cell_type": "code",
   "execution_count": 9,
   "id": "71346c7b",
   "metadata": {},
   "outputs": [
    {
     "name": "stdout",
     "output_type": "stream",
     "text": [
      "0.9999999999999999\n",
      "0.0\n",
      "-0.9999999999999998\n"
     ]
    }
   ],
   "source": [
    "def cosine_similarity(v, w):\n",
    "     return dot(v, w) / (magnitude(v) * magnitude(w))\n",
    "\n",
    "v = [0,1,1,0]\n",
    "w = [0,100,100,0]\n",
    "u = [1,0,0,1]\n",
    "y = [-1,0,0,-1]\n",
    "\n",
    "print(cosine_similarity(v, w))\n",
    "print(cosine_similarity(u, v))\n",
    "print(cosine_similarity(u,y))"
   ]
  },
  {
   "cell_type": "markdown",
   "id": "bc133cd0",
   "metadata": {},
   "source": [
    "<b>numpy version</b>"
   ]
  },
  {
   "cell_type": "code",
   "execution_count": 10,
   "id": "dd023005",
   "metadata": {},
   "outputs": [
    {
     "name": "stdout",
     "output_type": "stream",
     "text": [
      "162\n",
      "12.727922061357855\n",
      "18.0\n",
      "0.9999999999999998\n"
     ]
    }
   ],
   "source": [
    "import numpy as np\n",
    "v = np.array([1,1])\n",
    "w = np.array([10,10])\n",
    "print(np.dot(v - w, v - w)) # squared_distance\n",
    "print(np.sqrt(np.dot(v - w, v - w))) # (euclidean) distance\n",
    "print(np.sum(np.fabs(v - w))) # manhattan_distance\n",
    "print(np.dot(v,w) / (np.sqrt(np.dot(v,v)) * np.sqrt(np.dot(w,w)))) # cosine sim"
   ]
  },
  {
   "cell_type": "markdown",
   "id": "f723cc28",
   "metadata": {},
   "source": [
    "- Since all componetns are nonnegative in document vectors, cosine similarity is between 0 and 1, cosine_distance is\n",
    "\n",
    "```python\n",
    "cosine_distance(v, w) = 1 - cosine_similarity(v, w)\n",
    "```"
   ]
  },
  {
   "cell_type": "code",
   "execution_count": 11,
   "id": "f91d69aa",
   "metadata": {},
   "outputs": [],
   "source": [
    "def cosine_distance(v, w):\n",
    "     return 1 - cosine_similarity(v, w)"
   ]
  },
  {
   "cell_type": "markdown",
   "id": "46398c5b",
   "metadata": {},
   "source": [
    "## Matrices\n",
    "- Matrix is a two-dimensional collection of numbers.\n",
    "- We will represent matrices as list s of list s\n",
    "- If A is a matrix, then A[i][j] is the element in the ith row and the jth column.\n",
    "\n",
    "```python\n",
    "    A = [[1, 2, 3],\n",
    "         [4, 5, 6]] # A has 2 rows and 3 columns\n",
    "    \n",
    "    B = [[1, 2],\n",
    "         [3, 4],\n",
    "         [5, 6]] # B has 3 rows and 2 columns\n",
    "```\n",
    "- if you had the heights, weights, and ages of 1,000 people, you could put them in a matrix:\n",
    "```python\n",
    "    data = [[70, 170, 40],\n",
    "             [65, 120, 26],\n",
    "             [77, 250, 19],\n",
    "             # ....\n",
    "             ]\n",
    "```"
   ]
  },
  {
   "cell_type": "code",
   "execution_count": 12,
   "id": "50173d7d",
   "metadata": {},
   "outputs": [
    {
     "data": {
      "text/plain": [
       "[[1, 1, 1, 0, 0],\n",
       " [0, 0, 0, 0, 0],\n",
       " [1, 0, 0, 1, 0],\n",
       " [1, 1, 0, 1, 1],\n",
       " [1, 0, 0, 0, 0]]"
      ]
     },
     "execution_count": 12,
     "metadata": {},
     "output_type": "execute_result"
    }
   ],
   "source": [
    "#\n",
    "# functions for working with matrices\n",
    "#\n",
    "def shape(A):\n",
    "    num_rows = len(A)\n",
    "    num_cols = len(A[0]) if A else 0\n",
    "    return num_rows, num_cols\n",
    "\n",
    "def get_row(A, i):\n",
    "     return A[i]\n",
    "\n",
    "def get_column(A, j):\n",
    "     return [A_i[j] for A_i in A]\n",
    "\n",
    "def make_matrix(num_rows, num_cols, entry_fn):\n",
    "    \"\"\"returns a num_rows x num_cols matrix\n",
    "    whose (i,j)-th entry is entry_fn(i, j)\"\"\"\n",
    "    return [[entry_fn(i, j) for j in range(num_cols)]\n",
    "            for i in range(num_rows)]\n",
    "\n",
    "def is_diagonal(i, j):\n",
    "    \"\"\"1's on the 'diagonal', 0's everywhere else\"\"\"\n",
    "    return 1 if i == j else 0\n",
    "\n",
    "identity_matrix = make_matrix(5, 5, is_diagonal)\n",
    "\n",
    "import random\n",
    "random_matrix = make_matrix(5, 5, lambda i, j: random.choice([0,1]))\n",
    "random_matrix"
   ]
  },
  {
   "cell_type": "markdown",
   "id": "f35b5cb3",
   "metadata": {},
   "source": [
    "<b>numpy version</b>"
   ]
  },
  {
   "cell_type": "code",
   "execution_count": 13,
   "id": "41f64dde",
   "metadata": {},
   "outputs": [],
   "source": [
    "A = np.array([[1, 2, 3],\n",
    "              [4, 5, 6]])\n",
    "\n",
    "B = np.array([[1, 2],\n",
    "              [3, 4],\n",
    "              [5, 6]])"
   ]
  },
  {
   "cell_type": "code",
   "execution_count": 15,
   "id": "e5f4b695",
   "metadata": {},
   "outputs": [
    {
     "data": {
      "text/plain": [
       "array([[1, 0, 1, 0, 1],\n",
       "       [0, 1, 1, 1, 0],\n",
       "       [0, 1, 0, 0, 0],\n",
       "       [1, 1, 1, 1, 0],\n",
       "       [1, 0, 1, 1, 0]], dtype=int64)"
      ]
     },
     "execution_count": 15,
     "metadata": {},
     "output_type": "execute_result"
    }
   ],
   "source": [
    "#### A.shape # shape\n",
    "A[1,:] # get_row\n",
    "A[:,1] # get_column\n",
    "np.eye(5,5) # identity_matrix\n",
    "\n",
    "# 5 x 5 matrix with random selection of [0,1]\n",
    "np.array([np.random.choice([0,1]) for _ in np.arange(25)]).reshape(5,5)\n",
    "np.vectorize(np.int64)(np.random.rand(25) >= 0.5).reshape(5,5) # int"
   ]
  },
  {
   "cell_type": "markdown",
   "id": "8eb4a60e",
   "metadata": {},
   "source": [
    "### Two representations for friendships\n",
    "- Representation in Chapter 1"
   ]
  },
  {
   "cell_type": "code",
   "execution_count": 16,
   "id": "dfe3586f",
   "metadata": {},
   "outputs": [],
   "source": [
    "friendships = [(0, 1), (0, 2), (1, 2), (1, 3), (2, 3), (3, 4),\n",
    "               (4, 5), (5, 6), (5, 7), (6, 8), (7, 8), (8, 9)]"
   ]
  },
  {
   "cell_type": "markdown",
   "id": "93c5c08d",
   "metadata": {},
   "source": [
    "- Alternative notation"
   ]
  },
  {
   "cell_type": "code",
   "execution_count": 17,
   "id": "7126954f",
   "metadata": {},
   "outputs": [],
   "source": [
    "# user 0 1 2 3 4 5 6 7 8 9\n",
    "#\n",
    "friendships = [[0, 1, 1, 0, 0, 0, 0, 0, 0, 0], # user 0\n",
    "               [1, 0, 1, 1, 0, 0, 0, 0, 0, 0], # user 1\n",
    "               [1, 1, 0, 1, 0, 0, 0, 0, 0, 0], # user 2\n",
    "               [0, 1, 1, 0, 1, 0, 0, 0, 0, 0], # user 3\n",
    "               [0, 0, 0, 1, 0, 1, 0, 0, 0, 0], # user 4\n",
    "               [0, 0, 0, 0, 1, 0, 1, 1, 0, 0], # user 5\n",
    "               [0, 0, 0, 0, 0, 1, 0, 0, 1, 0], # user 6\n",
    "               [0, 0, 0, 0, 0, 1, 0, 0, 1, 0], # user 7\n",
    "               [0, 0, 0, 0, 0, 0, 1, 1, 0, 1], # user 8\n",
    "               [0, 0, 0, 0, 0, 0, 0, 0, 1, 0]] # user 9"
   ]
  },
  {
   "cell_type": "code",
   "execution_count": 18,
   "id": "318b9c14",
   "metadata": {},
   "outputs": [
    {
     "data": {
      "text/plain": [
       "False"
      ]
     },
     "execution_count": 18,
     "metadata": {},
     "output_type": "execute_result"
    }
   ],
   "source": [
    "friendships[0][2] == 1 # True, 0 and 2 are friends\n",
    "friendships[0][8] == 1 # False, 0 and 8 are not friends"
   ]
  },
  {
   "cell_type": "code",
   "execution_count": 19,
   "id": "1eb8ada6",
   "metadata": {},
   "outputs": [
    {
     "name": "stdout",
     "output_type": "stream",
     "text": [
      "[4, 6, 7]\n"
     ]
    }
   ],
   "source": [
    "friends_of_five = [i # only need\n",
    "                     for i, is_friend in enumerate(friendships[5]) # to look at\n",
    "                     if is_friend] # one row\n",
    "print(friends_of_five)"
   ]
  },
  {
   "cell_type": "markdown",
   "id": "b8626951",
   "metadata": {},
   "source": [
    "<b>numpy version</b>"
   ]
  },
  {
   "cell_type": "code",
   "execution_count": 20,
   "id": "27e5c4ca",
   "metadata": {},
   "outputs": [
    {
     "data": {
      "text/plain": [
       "array([[4],\n",
       "       [6],\n",
       "       [7]], dtype=int64)"
      ]
     },
     "execution_count": 20,
     "metadata": {},
     "output_type": "execute_result"
    }
   ],
   "source": [
    "friendships = np.array(friendships)\n",
    "friendships[0, 2] == 1 # True, 0 and 2 are friends\n",
    "friendships[0, 8] == 1 # False, 0 and 8 are not friends\n",
    "np.argwhere(friendships[5] == 1) # friends_of_five"
   ]
  },
  {
   "cell_type": "markdown",
   "id": "29cb6136",
   "metadata": {},
   "source": [
    "### matrix addition"
   ]
  },
  {
   "cell_type": "code",
   "execution_count": 21,
   "id": "2396efdf",
   "metadata": {},
   "outputs": [],
   "source": [
    "# matrix addition\n",
    "\n",
    "def matrix_add(A, B):\n",
    "    if shape(A) != shape(B):\n",
    "        raise ArithmeticError(\"cannot add matrices with different shapes\")\n",
    "    \n",
    "    num_rows, num_cols = shape(A)\n",
    "    def entry_fn(i, j): return A[i][j] + B[i][j]\n",
    "    \n",
    "    return make_matrix(num_rows, num_cols, entry_fn)"
   ]
  },
  {
   "cell_type": "markdown",
   "id": "3dcd607c",
   "metadata": {},
   "source": [
    "<b>numpy version</b>"
   ]
  },
  {
   "cell_type": "code",
   "execution_count": 22,
   "id": "32145685",
   "metadata": {},
   "outputs": [
    {
     "name": "stdout",
     "output_type": "stream",
     "text": [
      "[[4 4]\n",
      " [6 6]]\n",
      "[[3 3]\n",
      " [8 8]]\n",
      "[[1 2]\n",
      " [1 2]]\n",
      "[[1 2]\n",
      " [1 2]]\n",
      "[[ 7  7]\n",
      " [14 14]]\n",
      "[[ 7  7]\n",
      " [14 14]]\n",
      "-2.0000000000000004\n",
      "[[-2.   1. ]\n",
      " [ 1.5 -0.5]]\n",
      "[[1.00000000e+00 1.11022302e-16]\n",
      " [0.00000000e+00 1.00000000e+00]]\n",
      "(array([-0.37228132,  5.37228132]), array([[-0.82456484, -0.41597356],\n",
      "       [ 0.56576746, -0.90937671]]))\n"
     ]
    }
   ],
   "source": [
    "import numpy as np\n",
    "\n",
    "A = np.array([[1,1],[2,2]])\n",
    "B = np.array([[3,3],[4,4]])\n",
    "print(A + B) # numpy version\n",
    "print(A * B)\n",
    "print(np.transpose(A)) # transpose\n",
    "print(A.T)\n",
    "print(A.dot(B)) # matrix multiplication\n",
    "print(np.matmul(A,B))\n",
    "C = np.array([[1., 2.], [3., 4.]])\n",
    "print(np.linalg.det(C)) # determinant\n",
    "print(np.linalg.inv(C)) # inverse\n",
    "print(C.dot(np.linalg.inv(C)))\n",
    "print(np.linalg.eig(C))"
   ]
  },
  {
   "cell_type": "markdown",
   "id": "63991ce4",
   "metadata": {},
   "source": [
    "### More on types of attributes\n",
    "There are different types of attributes\n",
    "\n",
    "- Nominal\n",
    "    - Examples: ID numbers, eye color, zip codes\n",
    "- Ordinal\n",
    "    - Examples: rankings (e.g., taste of potato chips on a scale from 1-10), grades, height {tall, medium, short}\n",
    "- Interval\n",
    "    - Examples: calendar dates, temperatures in Celsius or Fahrenheit.\n",
    "- Ratio\n",
    "    - Examples: temperature in Kelvin, length, time, counts"
   ]
  },
  {
   "cell_type": "markdown",
   "id": "1768b5df",
   "metadata": {},
   "source": [
    "### Properties of Attribute Values\n",
    "- The type of an attribute depends on which of the following properties/operations it possesses:\n",
    "    - Distinctness: =\n",
    "    - Order: < >\n",
    "    - Differences: + -\n",
    "    - Ratios: * /\n",
    "- Nominal attribute: distinctness\n",
    "- Ordinal attribute: distinctness & order\n",
    "- Interval attribute: distinctness, order & meaningful differences\n",
    "- Ratio attribute: all 4 properties/operations"
   ]
  }
 ],
 "metadata": {
  "kernelspec": {
   "display_name": "Python 3 (ipykernel)",
   "language": "python",
   "name": "python3"
  },
  "language_info": {
   "codemirror_mode": {
    "name": "ipython",
    "version": 3
   },
   "file_extension": ".py",
   "mimetype": "text/x-python",
   "name": "python",
   "nbconvert_exporter": "python",
   "pygments_lexer": "ipython3",
   "version": "3.9.10"
  }
 },
 "nbformat": 4,
 "nbformat_minor": 5
}
